{
 "cells": [
  {
   "cell_type": "code",
   "execution_count": 1,
   "id": "1789c281-f608-4d5d-8f21-2ed5aeda3da8",
   "metadata": {},
   "outputs": [],
   "source": [
    "import os\n",
    "import numpy as np\n",
    "import pandas as pd\n",
    "import networkx as nx\n",
    "import matplotlib.pyplot as plt\n",
    "import pickle\n",
    "from tqdm import tqdm\n",
    "import argparse\n",
    "import logging\n",
    "from datetime import datetime, timedelta, date\n",
    "import torch\n",
    "import torch.nn.functional as F\n",
    "from sklearn.metrics import *\n",
    "from sklearn.preprocessing import MinMaxScaler, StandardScaler\n",
    "from torch_geometric.utils.convert import from_networkx\n",
    "import random"
   ]
  },
  {
   "cell_type": "code",
   "execution_count": 2,
   "id": "a657f09f",
   "metadata": {},
   "outputs": [],
   "source": [
    "SEED = 0\n",
    "np.random.seed(SEED)\n",
    "torch.manual_seed(SEED)\n",
    "torch.cuda.manual_seed_all(SEED)\n",
    "random.seed(SEED)\n",
    "\n",
    "torch.backends.cudnn.deterministic = True\n",
    "torch.backends.cudnn.benchmark = False"
   ]
  },
  {
   "cell_type": "code",
   "execution_count": null,
   "id": "9d72aaaa-87bc-49b4-8d0a-2ddb06f0de91",
   "metadata": {},
   "outputs": [],
   "source": []
  },
  {
   "cell_type": "code",
   "execution_count": 3,
   "id": "d1b189b8-fbdb-4326-89a3-3d395043aa6f",
   "metadata": {},
   "outputs": [
    {
     "name": "stdout",
     "output_type": "stream",
     "text": [
      "# of all Events, # of sids =  4203 15629\n",
      "# of filtered Events =  849\n"
     ]
    }
   ],
   "source": [
    "# Data Loading\n",
    "data_root_path = '/media/usr/HDD/Data/NAVER'\n",
    "partition_list = os.listdir(data_root_path)\n",
    "partition_list = [p for p in partition_list if p[0]=='2']\n",
    "partition_list = np.sort(partition_list)\n",
    "\n",
    "data_path = '/media/usr/HDD/Working/Naver_Data/data_parsing'\n",
    "\n",
    "sids_all = []\n",
    "eventID_all = []\n",
    "\n",
    "for partition in partition_list:\n",
    "    try: \n",
    "        eventID_list = [filename.split('.')[0] for filename in os.listdir(os.path.join(data_path, 'networks', partition)) if filename[0] != '.']\n",
    "        eventID_list = np.unique(eventID_list)\n",
    "        eventID_all.append(eventID_list)\n",
    "\n",
    "        for eventID in eventID_list:\n",
    "            with open(os.path.join(data_path, 'networks', partition, '{}.pickle'.format(eventID)), 'rb') as f:\n",
    "                accident_info = pickle.load(f)\n",
    "            G = nx.read_gpickle(os.path.join(data_path, 'networks', partition, '{}.gpickle'.format(eventID)))\n",
    "\n",
    "            sids_all.append(accident_info[1])\n",
    "            sids_all.append(accident_info[2])\n",
    "    except:\n",
    "        continue\n",
    "\n",
    "eventID_all = [x for y in eventID_all for x in y]\n",
    "eventID_all = np.unique(eventID_all)\n",
    "        \n",
    "sids_all = [x for y in sids_all for x in y]\n",
    "sids_all = np.unique(sids_all)\n",
    "\n",
    "print('# of all Events, # of sids = ', len(eventID_all), len(sids_all))\n",
    "\n",
    "data_extraction_path = '/media/usr/HDD/Data/NAVER_df'\n",
    "filtered_ID = [eventID for eventID in eventID_all if eventID in os.listdir(data_extraction_path)]\n",
    "\n",
    "## load accident_all\n",
    "accident_all = pd.read_csv('datasets/data/accident_all.csv', index_col=0)\n",
    "print(\"# of filtered Events = \", len(accident_all))\n",
    "\n",
    "\n",
    "# Profile Extraction Functions\n",
    "def profile_extraction2(speed_all):\n",
    "    # Day of Week => monday : 0, sunday : 6\n",
    "    speed_all['weekday'] = [s.weekday() for s in speed_all.index]\n",
    "    speed_all['timestamp'] = [s.time() for s in speed_all.index]\n",
    "    \n",
    "    profile_mean = speed_all.groupby(['weekday', 'timestamp']).mean()\n",
    "    profile_std = speed_all.groupby(['weekday', 'timestamp']).std()\n",
    "    \n",
    "    speed_all = speed_all.drop(['weekday', 'timestamp'], axis=1)\n",
    "    \n",
    "    return speed_all, profile_mean, profile_std"
   ]
  },
  {
   "cell_type": "code",
   "execution_count": 4,
   "id": "4f2c9268-3689-4459-9058-e4d87fa93092",
   "metadata": {},
   "outputs": [
    {
     "data": {
      "text/plain": [
       "1210005301    20\n",
       "1030001902    19\n",
       "1220005401    15\n",
       "1210003000    13\n",
       "1130052300    12\n",
       "1130006501    10\n",
       "1190000200     9\n",
       "1020000902     9\n",
       "1220005502     8\n",
       "1210005402     8\n",
       "Name: accident_sid, dtype: int64"
      ]
     },
     "execution_count": 4,
     "metadata": {},
     "output_type": "execute_result"
    }
   ],
   "source": [
    "accident_all.accident_sid.value_counts()[:10]"
   ]
  },
  {
   "cell_type": "code",
   "execution_count": 5,
   "id": "7630bf5f",
   "metadata": {},
   "outputs": [],
   "source": [
    "    target_sid = 1030001902  ## 1210005301    ## 1030001902\n",
    "    accident_case = accident_all[accident_all.loc[:, 'accident_sid'] == target_sid]\n",
    "    eventID = accident_case.eventId.iloc[0]\n",
    "    normalize = 'profile'"
   ]
  },
  {
   "cell_type": "code",
   "execution_count": 6,
   "id": "430300ef-6f3e-4814-9591-e1ba956d4ca9",
   "metadata": {},
   "outputs": [],
   "source": [
    "def preprocessing(eventID, normalize):\n",
    "    eventID = str(eventID)\n",
    "\n",
    "    # accident info : 0 : description / 1 : sid / 2 : sid \n",
    "    # what sids?\n",
    "    with open(os.path.join(data_path, 'speeds', eventID, '{}.pickle'.format(eventID)), 'rb') as f:\n",
    "        accident_info = pickle.load(f)\n",
    "    G = nx.read_gpickle(os.path.join(data_path, 'speeds', eventID, '{}.gpickle'.format(eventID)))\n",
    "\n",
    "    sid_list = accident_info[1] + accident_info[2]\n",
    "\n",
    "    accident_sid = accident_info[0]['sids'][0]\n",
    "    accident_created = accident_info[0]['created']\n",
    "\n",
    "    # feature extraction\n",
    "    with open(os.path.join(data_extraction_path, eventID), 'rb') as f:\n",
    "        test = pickle.load(f)\n",
    "    speed_inflow = test['speed_inflow']\n",
    "    speed_outflow = test['speed_outflow']\n",
    "\n",
    "    speed_all = pd.concat([speed_inflow, speed_outflow], axis=1)\n",
    "    speed_all = speed_all.dropna(axis=1, how='all')\n",
    "    \n",
    "    tmp = speed_all[accident_sid].iloc[:, 0].values\n",
    "    speed_all = speed_all.drop([accident_sid], axis=1)\n",
    "    speed_all[accident_sid] = tmp\n",
    "\n",
    "    ## selected nodes\n",
    "    sid_list = list(set(list(speed_inflow.columns) + list(speed_outflow.columns) + [accident_sid]))\n",
    "    H = nx.subgraph(G, sid_list)\n",
    "\n",
    "    ## speed_all 5min rolling & normalize\n",
    "    speed_all = speed_all.resample(rule='5T').mean()\n",
    "    if normalize == 'standard':\n",
    "        scaler = StandardScaler() \n",
    "        arr_scaled = scaler.fit_transform(speed_all) \n",
    "        df_all_norm = pd.DataFrame(arr_scaled, columns=speed_all.columns,index=speed_all.index)\n",
    "    elif normalize == 'minmax':\n",
    "        scaler = MinMaxScaler() \n",
    "        arr_scaled = scaler.fit_transform(speed_all) \n",
    "        df_all_norm = pd.DataFrame(arr_scaled, columns=speed_all.columns,index=speed_all.index)\n",
    "    elif normalize == 'profile':\n",
    "        ## profile extraction\n",
    "        # profile_all = profile_extraction(df_all_norm)\n",
    "        speed_all, profile_mean, profile_std = profile_extraction2(speed_all)\n",
    "\n",
    "        ## profile normalization\n",
    "        date_index = np.arange(datetime(2020, 9, 2), datetime(2021, 3, 1), timedelta(days=1)).astype(datetime)\n",
    "        df_all_norm = speed_all.copy()\n",
    "\n",
    "        for date in date_index:\n",
    "            date_index = np.arange(date, date+timedelta(days=1), timedelta(minutes=5)).astype(datetime)\n",
    "            tmp = speed_all.loc[date_index]\n",
    "            weekday = date.weekday()\n",
    "            mean_tmp = profile_mean[288*weekday:288*(weekday+1)]\n",
    "            std_tmp = profile_std[288*weekday:288*(weekday+1)]\n",
    "\n",
    "            normalized = (tmp.values - mean_tmp) / std_tmp\n",
    "            df_all_norm.loc[date_index] = normalized.values\n",
    "\n",
    "    # define anomaly label\n",
    "    labels = []\n",
    "    accident_case = accident_all[accident_all.loc[:, 'accident_sid'] == accident_sid]\n",
    "    accident_case['created'] = pd.to_datetime(accident_case['created'])\n",
    "    for ix, row in accident_case.iterrows():\n",
    "        accident_created = row['created']\n",
    "        min = accident_created.minute % 5\n",
    "        sec = accident_created.second\n",
    "        accident_pt = accident_created - timedelta(minutes=min, seconds=sec)\n",
    "        labels.append(list(map(int, (df_all_norm.index >= accident_pt+timedelta(minutes=-60)) & (df_all_norm.index < accident_pt+timedelta(minutes=60)))))\n",
    "    labels = list(map(int, (np.sum(labels, axis=0) > 0)))\n",
    "    label_df = pd.DataFrame(labels, index=df_all_norm.index, columns=['label'])\n",
    "    \n",
    "    return df_all_norm, label_df, H"
   ]
  },
  {
   "cell_type": "code",
   "execution_count": 7,
   "id": "5493025a-9f50-407e-abcb-4e3fbe764ab6",
   "metadata": {},
   "outputs": [
    {
     "name": "stderr",
     "output_type": "stream",
     "text": [
      "/tmp/ipykernel_388557/1432263826.py:64: SettingWithCopyWarning: \n",
      "A value is trying to be set on a copy of a slice from a DataFrame.\n",
      "Try using .loc[row_indexer,col_indexer] = value instead\n",
      "\n",
      "See the caveats in the documentation: https://pandas.pydata.org/pandas-docs/stable/user_guide/indexing.html#returning-a-view-versus-a-copy\n",
      "  accident_case['created'] = pd.to_datetime(accident_case['created'])\n"
     ]
    }
   ],
   "source": [
    "df_all_norm, label_df, H = preprocessing(eventID, normalize)\n",
    "\n",
    "train_df = df_all_norm[df_all_norm.index < datetime(2020, 12, 1)]\n",
    "val_df = df_all_norm[(df_all_norm.index >= datetime(2020, 12, 1)) & (df_all_norm.index < datetime(2021, 1, 1))]\n",
    "test_df = df_all_norm[(df_all_norm.index >= datetime(2021, 1, 1)) & (df_all_norm.index < datetime(2021, 2, 1))]\n",
    "\n",
    "train_label = label_df[label_df.index < datetime(2020, 12, 1)]\n",
    "val_label = label_df[(label_df.index >= datetime(2020, 12, 1)) & (label_df.index < datetime(2021, 1, 1))]\n",
    "test_label = label_df[(label_df.index >= datetime(2021, 1, 1)) & (label_df.index < datetime(2021, 2, 1))]\n",
    "\n",
    "# train_df = train_df.fillna(0)\n",
    "# val_df = val_df.fillna(0)\n",
    "# test_df = test_df.fillna(0)\n",
    "train_df = train_df.bfill(limit=36).ffill(limit=36).fillna(0, limit=288).dropna(axis=1)\n",
    "val_df = val_df.bfill(limit=36).ffill(limit=36).fillna(0, limit=288).dropna(axis=1)\n",
    "test_df = test_df.bfill(limit=36).ffill(limit=36).fillna(0, limit=288).dropna(axis=1)\n"
   ]
  },
  {
   "cell_type": "code",
   "execution_count": 8,
   "id": "9f9272d9",
   "metadata": {},
   "outputs": [
    {
     "data": {
      "text/plain": [
       "(25920, 21)"
      ]
     },
     "execution_count": 8,
     "metadata": {},
     "output_type": "execute_result"
    }
   ],
   "source": [
    "train_df.shape"
   ]
  },
  {
   "cell_type": "markdown",
   "id": "efa16730-6f9a-40bf-98ae-2de65821a780",
   "metadata": {},
   "source": [
    "# Evaluation"
   ]
  },
  {
   "cell_type": "code",
   "execution_count": 9,
   "id": "079d6bd5-2375-4644-a058-a0981a9f77ea",
   "metadata": {},
   "outputs": [],
   "source": [
    "## https://github.com/mangushev/mtad-tf/blob/main/evaluate.py\n",
    "#just like onmianomaly, no delta. If we hit anuthing in anomaly interval, whole anomaly segment is correctly identified\n",
    "#-----------------------\n",
    "#1|0|1|1|1|0|0|0|1|1|1|1  Labels\n",
    "#-----------------------\n",
    "#0|0|0|1|1|0|0|0|0|0|1|0  Predictions\n",
    "#-----------------------\n",
    "#0|0|1|1|1|0|0|0|1|1|1|1  Adjusted\n",
    "#-----------------------\n",
    "def adjust_predictions(predictions, labels):\n",
    "  adjustment_started = False\n",
    "  new_pred = predictions\n",
    "\n",
    "  for i in range(len(predictions)):\n",
    "    if labels[i] == 1:\n",
    "      if predictions[i] == 1:\n",
    "        if not adjustment_started:\n",
    "          adjustment_started = True\n",
    "          for j in range(i, 0, -1):\n",
    "            if labels[j] == 1:\n",
    "              new_pred[j] = 1\n",
    "            else:\n",
    "              break\n",
    "    else:\n",
    "      adjustment_started = False\n",
    "\n",
    "    if adjustment_started:\n",
    "      new_pred[i] = 1\n",
    "      \n",
    "  return new_pred"
   ]
  },
  {
   "cell_type": "code",
   "execution_count": 10,
   "id": "7a65c29a-ed21-4a1b-b385-0c7356a900a2",
   "metadata": {},
   "outputs": [],
   "source": [
    "def evaluate(label_all, score_all, adjust = False, plot=False, print_=False):\n",
    "    true = label_all\n",
    "    pred = list(map(int, [s>0 for s in score_all]))\n",
    "    if adjust:\n",
    "        pred = adjust_predictions(pred, true)\n",
    "    CM = confusion_matrix(true, pred)\n",
    "    TN = CM[0][0]\n",
    "    FN = CM[1][0]\n",
    "    TP = CM[1][1]\n",
    "    FP = CM[0][1]\n",
    "    acc = accuracy_score(true, pred)\n",
    "    auc = roc_auc_score(true, pred)\n",
    "#     far = FP / (FP+TN)\n",
    "    far = FP / (FP+TP)\n",
    "    pre = precision_score(true, pred, pos_label=1)\n",
    "    rec = recall_score(true, pred, pos_label=1)\n",
    "    macro_f1 = f1_score(true, pred, average='macro')\n",
    "    ap = average_precision_score(true, pred)\n",
    "    if plot:\n",
    "        plt.figure(figsize=(40, 5))\n",
    "        plt.plot(true)\n",
    "        plt.plot(pred)\n",
    "    if print_:\n",
    "        print('Accuracy \\t{:.4f}'.format(accuracy_score(true, pred)))\n",
    "        print('AUC score \\t{:.4f}'.format(roc_auc_score(true, pred)))\n",
    "        print('FAR score \\t{:.4f}'.format(far))\n",
    "        print('Precision \\t{:.4f}'.format(precision_score(true, pred, pos_label=1)))\n",
    "        print('Recall   \\t{:.4f}'.format(recall_score(true, pred, pos_label=1)))\n",
    "        print('Macro F1 \\t{:.4f}'.format(f1_score(true, pred, average='macro')))\n",
    "        print('Avg Precision \\t{:.4f}'.format(ap))\n",
    "        print(classification_report(true, pred))\n",
    "    return [acc, auc, far, pre, rec, macro_f1, ap]"
   ]
  },
  {
   "cell_type": "markdown",
   "id": "6a004696-3a8f-4644-a7de-5fcfe5a7a9bb",
   "metadata": {},
   "source": [
    "# Random"
   ]
  },
  {
   "cell_type": "markdown",
   "id": "15e47b73-1741-40e5-bace-960965ad0564",
   "metadata": {},
   "source": [
    "## Random Case"
   ]
  },
  {
   "cell_type": "code",
   "execution_count": 11,
   "id": "d781df0d-7035-4ff6-b0be-6e0e669abf84",
   "metadata": {},
   "outputs": [
    {
     "name": "stdout",
     "output_type": "stream",
     "text": [
      "label    144\n",
      "dtype: int64\n"
     ]
    }
   ],
   "source": [
    "print(test_label.sum())\n",
    "label_all = test_label.values"
   ]
  },
  {
   "cell_type": "code",
   "execution_count": 12,
   "id": "726350e4-2208-40c8-a76c-873729517a80",
   "metadata": {},
   "outputs": [
    {
     "name": "stderr",
     "output_type": "stream",
     "text": [
      "100%|██████████| 20/20 [00:06<00:00,  3.12it/s]\n"
     ]
    }
   ],
   "source": [
    "random_result = []\n",
    "for i in tqdm(range(20)):\n",
    "    for nu in [0.01, 0.05, 0.1, 0.2]:\n",
    "        true = label_all\n",
    "        pred = np.random.choice(np.arange(2), len(true), p=[1-nu, nu])\n",
    "        acc, auc, far, pre, rec, macro_f1, ap = evaluate(label_all, pred, adjust=False, plot=False)\n",
    "        random_result.append(['random', None, nu, False, acc, auc, far, pre, rec, macro_f1, ap])\n",
    "        acc, auc, far, pre, rec, macro_f1, ap = evaluate(label_all, pred, adjust=True, plot=False)\n",
    "        random_result.append(['random', None, nu, True, acc, auc, far, pre, rec, macro_f1, ap])"
   ]
  },
  {
   "cell_type": "code",
   "execution_count": 13,
   "id": "2e0cd302-d7a4-46e4-aa98-86242ffb2d63",
   "metadata": {},
   "outputs": [
    {
     "name": "stderr",
     "output_type": "stream",
     "text": [
      "/tmp/ipykernel_388557/549230291.py:2: FutureWarning: The default value of numeric_only in DataFrameGroupBy.mean is deprecated. In a future version, numeric_only will default to False. Either specify numeric_only or select only columns which should be valid for the function.\n",
      "  random_result.groupby(['nu', 'adjust']).mean()\n"
     ]
    },
    {
     "data": {
      "text/html": [
       "<div>\n",
       "<style scoped>\n",
       "    .dataframe tbody tr th:only-of-type {\n",
       "        vertical-align: middle;\n",
       "    }\n",
       "\n",
       "    .dataframe tbody tr th {\n",
       "        vertical-align: top;\n",
       "    }\n",
       "\n",
       "    .dataframe thead th {\n",
       "        text-align: right;\n",
       "    }\n",
       "</style>\n",
       "<table border=\"1\" class=\"dataframe\">\n",
       "  <thead>\n",
       "    <tr style=\"text-align: right;\">\n",
       "      <th></th>\n",
       "      <th></th>\n",
       "      <th>acc</th>\n",
       "      <th>auc</th>\n",
       "      <th>far</th>\n",
       "      <th>precision</th>\n",
       "      <th>recall</th>\n",
       "      <th>f1_score</th>\n",
       "      <th>AP</th>\n",
       "    </tr>\n",
       "    <tr>\n",
       "      <th>nu</th>\n",
       "      <th>adjust</th>\n",
       "      <th></th>\n",
       "      <th></th>\n",
       "      <th></th>\n",
       "      <th></th>\n",
       "      <th></th>\n",
       "      <th></th>\n",
       "      <th></th>\n",
       "    </tr>\n",
       "  </thead>\n",
       "  <tbody>\n",
       "    <tr>\n",
       "      <th rowspan=\"2\" valign=\"top\">0.01</th>\n",
       "      <th>False</th>\n",
       "      <td>0.973998</td>\n",
       "      <td>0.500276</td>\n",
       "      <td>0.983141</td>\n",
       "      <td>0.016859</td>\n",
       "      <td>0.010764</td>\n",
       "      <td>0.499969</td>\n",
       "      <td>0.016258</td>\n",
       "    </tr>\n",
       "    <tr>\n",
       "      <th>True</th>\n",
       "      <td>0.977453</td>\n",
       "      <td>0.607394</td>\n",
       "      <td>0.764004</td>\n",
       "      <td>0.235996</td>\n",
       "      <td>0.225000</td>\n",
       "      <td>0.608678</td>\n",
       "      <td>0.090975</td>\n",
       "    </tr>\n",
       "    <tr>\n",
       "      <th rowspan=\"2\" valign=\"top\">0.05</th>\n",
       "      <th>False</th>\n",
       "      <td>0.936162</td>\n",
       "      <td>0.495734</td>\n",
       "      <td>0.986558</td>\n",
       "      <td>0.013442</td>\n",
       "      <td>0.040625</td>\n",
       "      <td>0.493599</td>\n",
       "      <td>0.016104</td>\n",
       "    </tr>\n",
       "    <tr>\n",
       "      <th>True</th>\n",
       "      <td>0.945721</td>\n",
       "      <td>0.792088</td>\n",
       "      <td>0.827227</td>\n",
       "      <td>0.172773</td>\n",
       "      <td>0.633333</td>\n",
       "      <td>0.621603</td>\n",
       "      <td>0.124027</td>\n",
       "    </tr>\n",
       "    <tr>\n",
       "      <th rowspan=\"2\" valign=\"top\">0.10</th>\n",
       "      <th>False</th>\n",
       "      <td>0.886503</td>\n",
       "      <td>0.501235</td>\n",
       "      <td>0.983477</td>\n",
       "      <td>0.016523</td>\n",
       "      <td>0.103125</td>\n",
       "      <td>0.484103</td>\n",
       "      <td>0.016234</td>\n",
       "    </tr>\n",
       "    <tr>\n",
       "      <th>True</th>\n",
       "      <td>0.899894</td>\n",
       "      <td>0.916339</td>\n",
       "      <td>0.868087</td>\n",
       "      <td>0.131913</td>\n",
       "      <td>0.933333</td>\n",
       "      <td>0.588794</td>\n",
       "      <td>0.124979</td>\n",
       "    </tr>\n",
       "    <tr>\n",
       "      <th rowspan=\"2\" valign=\"top\">0.20</th>\n",
       "      <th>False</th>\n",
       "      <td>0.792064</td>\n",
       "      <td>0.498153</td>\n",
       "      <td>0.984170</td>\n",
       "      <td>0.015830</td>\n",
       "      <td>0.194444</td>\n",
       "      <td>0.456416</td>\n",
       "      <td>0.016130</td>\n",
       "    </tr>\n",
       "    <tr>\n",
       "      <th>True</th>\n",
       "      <td>0.804923</td>\n",
       "      <td>0.896764</td>\n",
       "      <td>0.924165</td>\n",
       "      <td>0.075835</td>\n",
       "      <td>0.991667</td>\n",
       "      <td>0.515428</td>\n",
       "      <td>0.075423</td>\n",
       "    </tr>\n",
       "  </tbody>\n",
       "</table>\n",
       "</div>"
      ],
      "text/plain": [
       "                  acc       auc       far  precision    recall  f1_score  \\\n",
       "nu   adjust                                                                \n",
       "0.01 False   0.973998  0.500276  0.983141   0.016859  0.010764  0.499969   \n",
       "     True    0.977453  0.607394  0.764004   0.235996  0.225000  0.608678   \n",
       "0.05 False   0.936162  0.495734  0.986558   0.013442  0.040625  0.493599   \n",
       "     True    0.945721  0.792088  0.827227   0.172773  0.633333  0.621603   \n",
       "0.10 False   0.886503  0.501235  0.983477   0.016523  0.103125  0.484103   \n",
       "     True    0.899894  0.916339  0.868087   0.131913  0.933333  0.588794   \n",
       "0.20 False   0.792064  0.498153  0.984170   0.015830  0.194444  0.456416   \n",
       "     True    0.804923  0.896764  0.924165   0.075835  0.991667  0.515428   \n",
       "\n",
       "                   AP  \n",
       "nu   adjust            \n",
       "0.01 False   0.016258  \n",
       "     True    0.090975  \n",
       "0.05 False   0.016104  \n",
       "     True    0.124027  \n",
       "0.10 False   0.016234  \n",
       "     True    0.124979  \n",
       "0.20 False   0.016130  \n",
       "     True    0.075423  "
      ]
     },
     "execution_count": 13,
     "metadata": {},
     "output_type": "execute_result"
    }
   ],
   "source": [
    "random_result = pd.DataFrame(random_result, columns=['model', 'normalize', 'nu', 'adjust', 'acc', 'auc', 'far', 'precision', 'recall', 'f1_score', 'AP'])\n",
    "random_result.groupby(['nu', 'adjust']).mean()"
   ]
  },
  {
   "cell_type": "code",
   "execution_count": 14,
   "id": "1a2af1bc-a12b-4b95-80ae-4e70985d1c42",
   "metadata": {},
   "outputs": [
    {
     "name": "stderr",
     "output_type": "stream",
     "text": [
      "/tmp/ipykernel_388557/1693594522.py:1: FutureWarning: The default value of numeric_only in DataFrameGroupBy.mean is deprecated. In a future version, numeric_only will default to False. Either specify numeric_only or select only columns which should be valid for the function.\n",
      "  random_result.groupby(['nu', 'adjust']).mean().to_csv('result/random_acc1902.csv')\n"
     ]
    }
   ],
   "source": [
    "random_result.groupby(['nu', 'adjust']).mean().to_csv('result/random_acc1902.csv')"
   ]
  },
  {
   "cell_type": "code",
   "execution_count": null,
   "id": "c5b696e5-22c3-4f85-8a57-f169dfd210a9",
   "metadata": {},
   "outputs": [],
   "source": []
  },
  {
   "cell_type": "code",
   "execution_count": null,
   "id": "462cbb74-5a91-4c27-85dc-80d419cebedd",
   "metadata": {},
   "outputs": [],
   "source": []
  },
  {
   "cell_type": "markdown",
   "id": "e01d1d3a-4491-427c-a7c8-81ac7c5aec61",
   "metadata": {},
   "source": [
    "# Univariate"
   ]
  },
  {
   "attachments": {},
   "cell_type": "markdown",
   "id": "3c812b17",
   "metadata": {},
   "source": [
    "### Rule-based (Profile Detection Case)"
   ]
  },
  {
   "cell_type": "code",
   "execution_count": 15,
   "id": "d2d2cb9e",
   "metadata": {},
   "outputs": [
    {
     "name": "stderr",
     "output_type": "stream",
     "text": [
      "/tmp/ipykernel_388557/1432263826.py:64: SettingWithCopyWarning: \n",
      "A value is trying to be set on a copy of a slice from a DataFrame.\n",
      "Try using .loc[row_indexer,col_indexer] = value instead\n",
      "\n",
      "See the caveats in the documentation: https://pandas.pydata.org/pandas-docs/stable/user_guide/indexing.html#returning-a-view-versus-a-copy\n",
      "  accident_case['created'] = pd.to_datetime(accident_case['created'])\n"
     ]
    }
   ],
   "source": [
    "df_all_norm, label_df, _ = preprocessing(eventID, 'profile')"
   ]
  },
  {
   "cell_type": "code",
   "execution_count": 16,
   "id": "d7a7a9a3",
   "metadata": {},
   "outputs": [
    {
     "data": {
      "text/plain": [
       "[<matplotlib.lines.Line2D at 0x7f7d85b8aeb0>]"
      ]
     },
     "execution_count": 16,
     "metadata": {},
     "output_type": "execute_result"
    },
    {
     "data": {
      "image/png": "[encoded data removed]",
      "text/plain": [
       "<Figure size 432x288 with 1 Axes>"
      ]
     },
     "metadata": {
      "needs_background": "light"
     },
     "output_type": "display_data"
    }
   ],
   "source": [
    "plt.plot(df_all_norm[target_sid])"
   ]
  },
  {
   "cell_type": "code",
   "execution_count": 17,
   "id": "a8f04215",
   "metadata": {},
   "outputs": [
    {
     "data": {
      "text/plain": [
       "label\n",
       "0        8784\n",
       "1         144\n",
       "dtype: int64"
      ]
     },
     "execution_count": 17,
     "metadata": {},
     "output_type": "execute_result"
    }
   ],
   "source": [
    "test_df = df_all_norm[(df_all_norm.index >= datetime(2021, 1, 1)) & (df_all_norm.index < datetime(2021, 2, 1))]\n",
    "test_label = label_df[(label_df.index >= datetime(2021, 1, 1)) & (label_df.index < datetime(2021, 2, 1))]\n",
    "# test_label.reset_index(inplace=True)\n",
    "# test_label.loc[:, 'weekday'] = test_label.loc[:, 'datetime'].apply(lambda s: s.weekday())\n",
    "# test_label.loc[:, 'timestamp'] = test_label.loc[:, 'datetime'].apply(lambda s: s.time())\n",
    "test_label.value_counts()"
   ]
  },
  {
   "cell_type": "code",
   "execution_count": 18,
   "id": "e3dfba10",
   "metadata": {},
   "outputs": [
    {
     "data": {
      "text/plain": [
       "[<matplotlib.lines.Line2D at 0x7f7d859beb50>]"
      ]
     },
     "execution_count": 18,
     "metadata": {},
     "output_type": "execute_result"
    },
    {
     "data": {
      "image/png": "[encoded data removed]",
      "text/plain": [
       "<Figure size 432x288 with 1 Axes>"
      ]
     },
     "metadata": {
      "needs_background": "light"
     },
     "output_type": "display_data"
    }
   ],
   "source": [
    "pred = list(map(int, (test_df[target_sid] < -2).values))\n",
    "plt.plot(pred)"
   ]
  },
  {
   "cell_type": "code",
   "execution_count": 19,
   "id": "e590a891",
   "metadata": {},
   "outputs": [
    {
     "data": {
      "text/plain": [
       "(8928, 8928)"
      ]
     },
     "execution_count": 19,
     "metadata": {},
     "output_type": "execute_result"
    }
   ],
   "source": [
    "true = test_label.values\n",
    "len(test_label), len(pred)"
   ]
  },
  {
   "cell_type": "code",
   "execution_count": 20,
   "id": "08d0e832",
   "metadata": {},
   "outputs": [
    {
     "name": "stdout",
     "output_type": "stream",
     "text": [
      "Accuracy \t0.9600\n",
      "AUC score \t0.5254\n",
      "FAR score \t0.9532\n",
      "Precision \t0.0468\n",
      "Recall   \t0.0764\n",
      "Macro F1 \t0.5188\n",
      "Avg Precision \t0.0185\n",
      "              precision    recall  f1-score   support\n",
      "\n",
      "           0       0.98      0.97      0.98      8784\n",
      "           1       0.05      0.08      0.06       144\n",
      "\n",
      "    accuracy                           0.96      8928\n",
      "   macro avg       0.52      0.53      0.52      8928\n",
      "weighted avg       0.97      0.96      0.96      8928\n",
      "\n"
     ]
    },
    {
     "data": {
      "text/plain": [
       "[0.960013440860215,\n",
       " 0.5254439890710383,\n",
       " 0.9531914893617022,\n",
       " 0.04680851063829787,\n",
       " 0.0763888888888889,\n",
       " 0.5188103233454356,\n",
       " 0.01847260352322123]"
      ]
     },
     "execution_count": 20,
     "metadata": {},
     "output_type": "execute_result"
    },
    {
     "data": {
      "image/png": "[encoded data removed]",
      "text/plain": [
       "<Figure size 2880x360 with 1 Axes>"
      ]
     },
     "metadata": {
      "needs_background": "light"
     },
     "output_type": "display_data"
    }
   ],
   "source": [
    "evaluate(true, pred, adjust=False, plot=True, print_=True)"
   ]
  },
  {
   "cell_type": "code",
   "execution_count": 21,
   "id": "f4b0bb96",
   "metadata": {},
   "outputs": [
    {
     "name": "stdout",
     "output_type": "stream",
     "text": [
      "Accuracy \t0.9642\n",
      "AUC score \t0.6539\n",
      "FAR score \t0.8235\n",
      "Precision \t0.1765\n",
      "Recall   \t0.3333\n",
      "Macro F1 \t0.6062\n",
      "Avg Precision \t0.0696\n",
      "              precision    recall  f1-score   support\n",
      "\n",
      "           0       0.99      0.97      0.98      8784\n",
      "           1       0.18      0.33      0.23       144\n",
      "\n",
      "    accuracy                           0.96      8928\n",
      "   macro avg       0.58      0.65      0.61      8928\n",
      "weighted avg       0.98      0.96      0.97      8928\n",
      "\n"
     ]
    },
    {
     "data": {
      "text/plain": [
       "[0.96415770609319,\n",
       " 0.6539162112932605,\n",
       " 0.8235294117647058,\n",
       " 0.17647058823529413,\n",
       " 0.3333333333333333,\n",
       " 0.6062103034580099,\n",
       " 0.06957621758380772]"
      ]
     },
     "execution_count": 21,
     "metadata": {},
     "output_type": "execute_result"
    },
    {
     "data": {
      "image/png": "[encoded data removed]",
      "text/plain": [
       "<Figure size 2880x360 with 1 Axes>"
      ]
     },
     "metadata": {
      "needs_background": "light"
     },
     "output_type": "display_data"
    }
   ],
   "source": [
    "evaluate(true, pred, adjust=True, plot=True, print_=True)"
   ]
  },
  {
   "cell_type": "code",
   "execution_count": null,
   "id": "e1ad0ae4",
   "metadata": {},
   "outputs": [],
   "source": []
  },
  {
   "cell_type": "markdown",
   "id": "93132c14-9573-496c-8f8d-1484928d6577",
   "metadata": {},
   "source": [
    "### ARIMA"
   ]
  },
  {
   "cell_type": "code",
   "execution_count": 23,
   "id": "71baa0eb-6858-4d10-94d2-5bb92bbda31f",
   "metadata": {},
   "outputs": [],
   "source": [
    "from statsmodels.tsa.arima.model import ARIMA"
   ]
  },
  {
   "cell_type": "code",
   "execution_count": 24,
   "id": "b4d3a2b4-0d57-4e3b-8152-21da5dfbe2f4",
   "metadata": {},
   "outputs": [],
   "source": [
    "import warnings\n",
    "warnings.filterwarnings(\"ignore\")"
   ]
  },
  {
   "cell_type": "code",
   "execution_count": 25,
   "id": "69260185",
   "metadata": {},
   "outputs": [],
   "source": [
    "df_all_norm, label_df, _ = preprocessing(eventID, 'standard')\n",
    "\n",
    "train_df = df_all_norm[df_all_norm.index < datetime(2020, 12, 1)]\n",
    "val_df = df_all_norm[(df_all_norm.index >= datetime(2020, 12, 1)) & (df_all_norm.index < datetime(2021, 1, 1))]\n",
    "test_df = df_all_norm[(df_all_norm.index >= datetime(2021, 1, 1)) & (df_all_norm.index < datetime(2021, 2, 1))]\n",
    "\n",
    "train_label = label_df[label_df.index < datetime(2020, 12, 1)]\n",
    "val_label = label_df[(label_df.index >= datetime(2020, 12, 1)) & (label_df.index < datetime(2021, 1, 1))]\n",
    "test_label = label_df[(label_df.index >= datetime(2021, 1, 1)) & (label_df.index < datetime(2021, 2, 1))]\n",
    "\n",
    "# train_df = train_df.fillna(0)\n",
    "# val_df = val_df.fillna(0)\n",
    "# test_df = test_df.fillna(0)\n",
    "train_df = train_df.bfill(limit=36).ffill(limit=36).fillna(0, limit=288).dropna(axis=1)\n",
    "val_df = val_df.bfill(limit=36).ffill(limit=36).fillna(0, limit=288).dropna(axis=1)\n",
    "test_df = test_df.bfill(limit=36).ffill(limit=36).fillna(0, limit=288).dropna(axis=1)"
   ]
  },
  {
   "cell_type": "code",
   "execution_count": 26,
   "id": "4a74d7cf",
   "metadata": {},
   "outputs": [
    {
     "data": {
      "text/plain": [
       "[<matplotlib.lines.Line2D at 0x7f7d81f91a00>]"
      ]
     },
     "execution_count": 26,
     "metadata": {},
     "output_type": "execute_result"
    },
    {
     "data": {
      "image/png": "[encoded data removed]",
      "text/plain": [
       "<Figure size 432x288 with 1 Axes>"
      ]
     },
     "metadata": {
      "needs_background": "light"
     },
     "output_type": "display_data"
    }
   ],
   "source": [
    "plt.plot(test_df.iloc[:1000][target_sid])"
   ]
  },
  {
   "cell_type": "code",
   "execution_count": 35,
   "id": "e56eecc8",
   "metadata": {},
   "outputs": [
    {
     "name": "stderr",
     "output_type": "stream",
     "text": [
      "100%|██████████| 8904/8904 [04:41<00:00, 31.67it/s]\n"
     ]
    }
   ],
   "source": [
    "dev_all = []\n",
    "for i in tqdm(range(val_df.shape[0]-24)):\n",
    "    model = ARIMA(val_df.iloc[i:i+24][target_sid], order=(1,1,1), enforce_stationarity=False, enforce_invertibility=False)\n",
    "    results = model.fit()\n",
    "    pred = results.forecast(1)\n",
    "    true = val_df.iloc[i+24][target_sid]\n",
    "    # df_pred.append(pred)\n",
    "    dev_all.append(np.abs(true - pred).item())\n",
    "# df_pred = pd.DataFrame(df_pred)\n",
    "# df_pred.columns=df_test.columns\n",
    "threshold = np.quantile(dev_all, q=0.95)"
   ]
  },
  {
   "cell_type": "code",
   "execution_count": 36,
   "id": "1a073bff",
   "metadata": {},
   "outputs": [
    {
     "data": {
      "text/plain": [
       "0.4661860095610303"
      ]
     },
     "execution_count": 36,
     "metadata": {},
     "output_type": "execute_result"
    }
   ],
   "source": [
    "threshold"
   ]
  },
  {
   "cell_type": "code",
   "execution_count": 37,
   "id": "0b8c21cb-4e8e-47d2-8f20-ffef76219ec3",
   "metadata": {},
   "outputs": [
    {
     "name": "stderr",
     "output_type": "stream",
     "text": [
      "100%|██████████| 8904/8904 [04:34<00:00, 32.46it/s]\n"
     ]
    }
   ],
   "source": [
    "dev_all = []\n",
    "for i in tqdm(range(test_df.shape[0]-24)):\n",
    "    model = ARIMA(test_df.iloc[i:i+24][target_sid], order=(1,1,1), enforce_stationarity=False, enforce_invertibility=False)\n",
    "    results = model.fit()\n",
    "    pred = results.forecast(1)\n",
    "    true = test_df.iloc[i+24][target_sid]\n",
    "    dev_all.append(np.abs(true - pred).item())"
   ]
  },
  {
   "cell_type": "code",
   "execution_count": 38,
   "id": "ef69ce3e",
   "metadata": {},
   "outputs": [],
   "source": [
    "score_all = dev_all - threshold\n",
    "true_label = test_label.label"
   ]
  },
  {
   "cell_type": "code",
   "execution_count": 39,
   "id": "cbedd784",
   "metadata": {},
   "outputs": [
    {
     "data": {
      "text/plain": [
       "array([-0.46370769, -0.30657138, -0.41211399, ..., -0.22233729,\n",
       "       -0.32492123, -0.27208682])"
      ]
     },
     "execution_count": 39,
     "metadata": {},
     "output_type": "execute_result"
    }
   ],
   "source": [
    "score_all"
   ]
  },
  {
   "cell_type": "code",
   "execution_count": 40,
   "id": "cb0255e1-d33b-40b2-8957-fd89e7773a34",
   "metadata": {},
   "outputs": [
    {
     "name": "stdout",
     "output_type": "stream",
     "text": [
      "Accuracy \t0.9620\n",
      "AUC score \t0.9807\n",
      "FAR score \t0.7012\n",
      "Precision \t0.2988\n",
      "Recall   \t1.0000\n",
      "Macro F1 \t0.7202\n",
      "Avg Precision \t0.2988\n",
      "              precision    recall  f1-score   support\n",
      "\n",
      "           0       1.00      0.96      0.98      8760\n",
      "           1       0.30      1.00      0.46       144\n",
      "\n",
      "    accuracy                           0.96      8904\n",
      "   macro avg       0.65      0.98      0.72      8904\n",
      "weighted avg       0.99      0.96      0.97      8904\n",
      "\n"
     ]
    },
    {
     "data": {
      "text/plain": [
       "[0.9620395327942498,\n",
       " 0.9807077625570777,\n",
       " 0.7012448132780082,\n",
       " 0.2987551867219917,\n",
       " 1.0,\n",
       " 0.720196074129141,\n",
       " 0.2987551867219917]"
      ]
     },
     "execution_count": 40,
     "metadata": {},
     "output_type": "execute_result"
    },
    {
     "data": {
      "image/png": "[encoded data removed]",
      "text/plain": [
       "<Figure size 2880x360 with 1 Axes>"
      ]
     },
     "metadata": {
      "needs_background": "light"
     },
     "output_type": "display_data"
    }
   ],
   "source": [
    "evaluate(true_label[24:].values, score_all, adjust=True, plot=True, print_=True)"
   ]
  },
  {
   "cell_type": "code",
   "execution_count": null,
   "id": "dc150d99-b5cb-49c6-90bc-801506e3e059",
   "metadata": {},
   "outputs": [],
   "source": []
  },
  {
   "cell_type": "code",
   "execution_count": null,
   "id": "b9390597",
   "metadata": {},
   "outputs": [],
   "source": []
  },
  {
   "attachments": {},
   "cell_type": "markdown",
   "id": "ee1cb0d5",
   "metadata": {},
   "source": [
    "## OCSVM"
   ]
  },
  {
   "cell_type": "code",
   "execution_count": 27,
   "id": "788f5f20",
   "metadata": {},
   "outputs": [],
   "source": [
    "from sklearn.svm import OneClassSVM"
   ]
  },
  {
   "cell_type": "code",
   "execution_count": 28,
   "id": "e664af3b",
   "metadata": {},
   "outputs": [
    {
     "data": {
      "text/html": [
       "<div>\n",
       "<style scoped>\n",
       "    .dataframe tbody tr th:only-of-type {\n",
       "        vertical-align: middle;\n",
       "    }\n",
       "\n",
       "    .dataframe tbody tr th {\n",
       "        vertical-align: top;\n",
       "    }\n",
       "\n",
       "    .dataframe thead th {\n",
       "        text-align: right;\n",
       "    }\n",
       "</style>\n",
       "<table border=\"1\" class=\"dataframe\">\n",
       "  <thead>\n",
       "    <tr style=\"text-align: right;\">\n",
       "      <th>sid</th>\n",
       "      <th>1030001800</th>\n",
       "      <th>1030002400</th>\n",
       "      <th>1030002701</th>\n",
       "      <th>1030016506</th>\n",
       "      <th>1030040600</th>\n",
       "      <th>1030041300</th>\n",
       "      <th>1030045400</th>\n",
       "      <th>1030065700</th>\n",
       "      <th>1050000301</th>\n",
       "      <th>1050060000</th>\n",
       "      <th>...</th>\n",
       "      <th>1030000500</th>\n",
       "      <th>1030000700</th>\n",
       "      <th>1030001100</th>\n",
       "      <th>1030001300</th>\n",
       "      <th>1030008004</th>\n",
       "      <th>1030026600</th>\n",
       "      <th>1030028600</th>\n",
       "      <th>1030029200</th>\n",
       "      <th>1030029600</th>\n",
       "      <th>1030001902</th>\n",
       "    </tr>\n",
       "    <tr>\n",
       "      <th>datetime</th>\n",
       "      <th></th>\n",
       "      <th></th>\n",
       "      <th></th>\n",
       "      <th></th>\n",
       "      <th></th>\n",
       "      <th></th>\n",
       "      <th></th>\n",
       "      <th></th>\n",
       "      <th></th>\n",
       "      <th></th>\n",
       "      <th></th>\n",
       "      <th></th>\n",
       "      <th></th>\n",
       "      <th></th>\n",
       "      <th></th>\n",
       "      <th></th>\n",
       "      <th></th>\n",
       "      <th></th>\n",
       "      <th></th>\n",
       "      <th></th>\n",
       "      <th></th>\n",
       "    </tr>\n",
       "  </thead>\n",
       "  <tbody>\n",
       "    <tr>\n",
       "      <th>2020-09-02 00:00:00</th>\n",
       "      <td>1.001661</td>\n",
       "      <td>1.118983</td>\n",
       "      <td>0.902882</td>\n",
       "      <td>1.195910</td>\n",
       "      <td>0.647205</td>\n",
       "      <td>0.789702</td>\n",
       "      <td>-0.060996</td>\n",
       "      <td>0.378988</td>\n",
       "      <td>0.973621</td>\n",
       "      <td>1.032954</td>\n",
       "      <td>...</td>\n",
       "      <td>0.995827</td>\n",
       "      <td>0.989388</td>\n",
       "      <td>1.197671</td>\n",
       "      <td>1.023102</td>\n",
       "      <td>1.193770</td>\n",
       "      <td>0.644452</td>\n",
       "      <td>0.217658</td>\n",
       "      <td>1.193176</td>\n",
       "      <td>1.343063</td>\n",
       "      <td>1.242347</td>\n",
       "    </tr>\n",
       "    <tr>\n",
       "      <th>2020-09-02 00:05:00</th>\n",
       "      <td>1.200408</td>\n",
       "      <td>0.873292</td>\n",
       "      <td>0.936426</td>\n",
       "      <td>3.160571</td>\n",
       "      <td>0.508066</td>\n",
       "      <td>0.949731</td>\n",
       "      <td>1.009879</td>\n",
       "      <td>0.598190</td>\n",
       "      <td>1.085784</td>\n",
       "      <td>0.820927</td>\n",
       "      <td>...</td>\n",
       "      <td>0.980284</td>\n",
       "      <td>1.070756</td>\n",
       "      <td>0.699452</td>\n",
       "      <td>1.054397</td>\n",
       "      <td>1.089729</td>\n",
       "      <td>0.646500</td>\n",
       "      <td>0.776910</td>\n",
       "      <td>0.433857</td>\n",
       "      <td>1.150648</td>\n",
       "      <td>0.942780</td>\n",
       "    </tr>\n",
       "    <tr>\n",
       "      <th>2020-09-02 00:10:00</th>\n",
       "      <td>0.888834</td>\n",
       "      <td>0.734483</td>\n",
       "      <td>0.883688</td>\n",
       "      <td>2.346112</td>\n",
       "      <td>0.352332</td>\n",
       "      <td>0.646989</td>\n",
       "      <td>1.051613</td>\n",
       "      <td>0.431366</td>\n",
       "      <td>0.891992</td>\n",
       "      <td>1.099333</td>\n",
       "      <td>...</td>\n",
       "      <td>0.974506</td>\n",
       "      <td>0.919249</td>\n",
       "      <td>1.236480</td>\n",
       "      <td>0.790833</td>\n",
       "      <td>1.193053</td>\n",
       "      <td>0.767188</td>\n",
       "      <td>1.746515</td>\n",
       "      <td>1.160648</td>\n",
       "      <td>1.272481</td>\n",
       "      <td>1.282379</td>\n",
       "    </tr>\n",
       "    <tr>\n",
       "      <th>2020-09-02 00:15:00</th>\n",
       "      <td>0.944755</td>\n",
       "      <td>1.128218</td>\n",
       "      <td>0.895700</td>\n",
       "      <td>1.671118</td>\n",
       "      <td>0.429299</td>\n",
       "      <td>0.704367</td>\n",
       "      <td>0.960051</td>\n",
       "      <td>0.609482</td>\n",
       "      <td>0.868688</td>\n",
       "      <td>1.359681</td>\n",
       "      <td>...</td>\n",
       "      <td>1.095388</td>\n",
       "      <td>0.974145</td>\n",
       "      <td>0.467965</td>\n",
       "      <td>1.009600</td>\n",
       "      <td>1.117326</td>\n",
       "      <td>0.825836</td>\n",
       "      <td>0.693706</td>\n",
       "      <td>1.720267</td>\n",
       "      <td>1.434209</td>\n",
       "      <td>1.193949</td>\n",
       "    </tr>\n",
       "    <tr>\n",
       "      <th>2020-09-02 00:20:00</th>\n",
       "      <td>0.979219</td>\n",
       "      <td>0.997222</td>\n",
       "      <td>0.787184</td>\n",
       "      <td>0.100352</td>\n",
       "      <td>0.763532</td>\n",
       "      <td>0.536167</td>\n",
       "      <td>0.770325</td>\n",
       "      <td>0.678828</td>\n",
       "      <td>0.681530</td>\n",
       "      <td>1.320628</td>\n",
       "      <td>...</td>\n",
       "      <td>1.333876</td>\n",
       "      <td>1.192020</td>\n",
       "      <td>0.873900</td>\n",
       "      <td>0.875490</td>\n",
       "      <td>1.135003</td>\n",
       "      <td>0.777828</td>\n",
       "      <td>0.647556</td>\n",
       "      <td>0.454327</td>\n",
       "      <td>1.156882</td>\n",
       "      <td>1.177586</td>\n",
       "    </tr>\n",
       "  </tbody>\n",
       "</table>\n",
       "<p>5 rows × 21 columns</p>\n",
       "</div>"
      ],
      "text/plain": [
       "sid                  1030001800  1030002400  1030002701  1030016506  \\\n",
       "datetime                                                              \n",
       "2020-09-02 00:00:00    1.001661    1.118983    0.902882    1.195910   \n",
       "2020-09-02 00:05:00    1.200408    0.873292    0.936426    3.160571   \n",
       "2020-09-02 00:10:00    0.888834    0.734483    0.883688    2.346112   \n",
       "2020-09-02 00:15:00    0.944755    1.128218    0.895700    1.671118   \n",
       "2020-09-02 00:20:00    0.979219    0.997222    0.787184    0.100352   \n",
       "\n",
       "sid                  1030040600  1030041300  1030045400  1030065700  \\\n",
       "datetime                                                              \n",
       "2020-09-02 00:00:00    0.647205    0.789702   -0.060996    0.378988   \n",
       "2020-09-02 00:05:00    0.508066    0.949731    1.009879    0.598190   \n",
       "2020-09-02 00:10:00    0.352332    0.646989    1.051613    0.431366   \n",
       "2020-09-02 00:15:00    0.429299    0.704367    0.960051    0.609482   \n",
       "2020-09-02 00:20:00    0.763532    0.536167    0.770325    0.678828   \n",
       "\n",
       "sid                  1050000301  1050060000  ...  1030000500  1030000700  \\\n",
       "datetime                                     ...                           \n",
       "2020-09-02 00:00:00    0.973621    1.032954  ...    0.995827    0.989388   \n",
       "2020-09-02 00:05:00    1.085784    0.820927  ...    0.980284    1.070756   \n",
       "2020-09-02 00:10:00    0.891992    1.099333  ...    0.974506    0.919249   \n",
       "2020-09-02 00:15:00    0.868688    1.359681  ...    1.095388    0.974145   \n",
       "2020-09-02 00:20:00    0.681530    1.320628  ...    1.333876    1.192020   \n",
       "\n",
       "sid                  1030001100  1030001300  1030008004  1030026600  \\\n",
       "datetime                                                              \n",
       "2020-09-02 00:00:00    1.197671    1.023102    1.193770    0.644452   \n",
       "2020-09-02 00:05:00    0.699452    1.054397    1.089729    0.646500   \n",
       "2020-09-02 00:10:00    1.236480    0.790833    1.193053    0.767188   \n",
       "2020-09-02 00:15:00    0.467965    1.009600    1.117326    0.825836   \n",
       "2020-09-02 00:20:00    0.873900    0.875490    1.135003    0.777828   \n",
       "\n",
       "sid                  1030028600  1030029200  1030029600  1030001902  \n",
       "datetime                                                             \n",
       "2020-09-02 00:00:00    0.217658    1.193176    1.343063    1.242347  \n",
       "2020-09-02 00:05:00    0.776910    0.433857    1.150648    0.942780  \n",
       "2020-09-02 00:10:00    1.746515    1.160648    1.272481    1.282379  \n",
       "2020-09-02 00:15:00    0.693706    1.720267    1.434209    1.193949  \n",
       "2020-09-02 00:20:00    0.647556    0.454327    1.156882    1.177586  \n",
       "\n",
       "[5 rows x 21 columns]"
      ]
     },
     "execution_count": 28,
     "metadata": {},
     "output_type": "execute_result"
    }
   ],
   "source": [
    "train_df.head()"
   ]
  },
  {
   "cell_type": "code",
   "execution_count": 29,
   "id": "f048c39c",
   "metadata": {},
   "outputs": [
    {
     "name": "stderr",
     "output_type": "stream",
     "text": [
      "100%|██████████| 25896/25896 [00:04<00:00, 5916.96it/s]\n",
      "100%|██████████| 8904/8904 [00:01<00:00, 8616.81it/s] \n"
     ]
    }
   ],
   "source": [
    "train_data, test_data = [], []\n",
    "for i in tqdm(range(train_df.shape[0]-24)):\n",
    "    if 1 in train_label.iloc[i:i+24]['label'].values:\n",
    "        continue\n",
    "    else:\n",
    "        train_data.append(train_df.iloc[i:i+24][target_sid])\n",
    "for i in tqdm(range(test_df.shape[0]-24)):\n",
    "    test_data.append(test_df.iloc[i:i+24][target_sid])\n",
    "train_data = np.stack(train_data)\n",
    "test_data = np.stack(test_data)"
   ]
  },
  {
   "cell_type": "code",
   "execution_count": 30,
   "id": "83082dc8",
   "metadata": {},
   "outputs": [
    {
     "data": {
      "text/plain": [
       "((25755, 24), (8904, 24))"
      ]
     },
     "execution_count": 30,
     "metadata": {},
     "output_type": "execute_result"
    }
   ],
   "source": [
    "train_data.shape, test_data.shape"
   ]
  },
  {
   "cell_type": "code",
   "execution_count": 31,
   "id": "738223d8",
   "metadata": {},
   "outputs": [],
   "source": [
    "clf = OneClassSVM(gamma='auto').fit(train_data[:])"
   ]
  },
  {
   "cell_type": "code",
   "execution_count": 32,
   "id": "b3396114",
   "metadata": {},
   "outputs": [],
   "source": [
    "true = test_label.iloc[24:].label.values\n",
    "pred = clf.predict(test_data)\n",
    "pred = [1 if p==1 else 0 for p in pred]"
   ]
  },
  {
   "cell_type": "code",
   "execution_count": 33,
   "id": "c2f507d6",
   "metadata": {},
   "outputs": [
    {
     "data": {
      "text/plain": [
       "(array([0, 1]), array([0, 1]))"
      ]
     },
     "execution_count": 33,
     "metadata": {},
     "output_type": "execute_result"
    }
   ],
   "source": [
    "np.unique(true), np.unique(pred)"
   ]
  },
  {
   "cell_type": "code",
   "execution_count": 34,
   "id": "1054b141",
   "metadata": {},
   "outputs": [
    {
     "name": "stdout",
     "output_type": "stream",
     "text": [
      "Accuracy \t0.3913\n",
      "AUC score \t0.6906\n",
      "FAR score \t0.9741\n",
      "Precision \t0.0259\n",
      "Recall   \t1.0000\n",
      "Macro F1 \t0.3013\n",
      "Avg Precision \t0.0259\n",
      "              precision    recall  f1-score   support\n",
      "\n",
      "           0       1.00      0.38      0.55      8760\n",
      "           1       0.03      1.00      0.05       144\n",
      "\n",
      "    accuracy                           0.39      8904\n",
      "   macro avg       0.51      0.69      0.30      8904\n",
      "weighted avg       0.98      0.39      0.54      8904\n",
      "\n"
     ]
    },
    {
     "data": {
      "text/plain": [
       "[0.3912848158131177,\n",
       " 0.6906392694063928,\n",
       " 0.97411933860532,\n",
       " 0.025880661394680086,\n",
       " 1.0,\n",
       " 0.3012608083768178,\n",
       " 0.025880661394680086]"
      ]
     },
     "execution_count": 34,
     "metadata": {},
     "output_type": "execute_result"
    },
    {
     "data": {
      "image/png": "[encoded data removed]",
      "text/plain": [
       "<Figure size 2880x360 with 1 Axes>"
      ]
     },
     "metadata": {
      "needs_background": "light"
     },
     "output_type": "display_data"
    }
   ],
   "source": [
    "evaluate(true, pred, adjust=True, plot=True, print_=True)"
   ]
  },
  {
   "cell_type": "code",
   "execution_count": null,
   "id": "cb33941d",
   "metadata": {},
   "outputs": [],
   "source": []
  },
  {
   "cell_type": "code",
   "execution_count": null,
   "id": "da1eb43c",
   "metadata": {},
   "outputs": [],
   "source": []
  },
  {
   "attachments": {},
   "cell_type": "markdown",
   "id": "6d8ecea9",
   "metadata": {},
   "source": [
    "# Multivariate"
   ]
  },
  {
   "attachments": {},
   "cell_type": "markdown",
   "id": "a1f304a5",
   "metadata": {},
   "source": [
    "## OCSVM"
   ]
  },
  {
   "cell_type": "code",
   "execution_count": 41,
   "id": "fdbc2ef9",
   "metadata": {},
   "outputs": [],
   "source": [
    "from sklearn.svm import OneClassSVM"
   ]
  },
  {
   "cell_type": "code",
   "execution_count": 42,
   "id": "cdcc634f",
   "metadata": {},
   "outputs": [
    {
     "data": {
      "text/plain": [
       "Int64Index([1030001800, 1030002400, 1030002701, 1030016506, 1030040600,\n",
       "            1030041300, 1030045400, 1030065700, 1050000301, 1050060000,\n",
       "            1020000902, 1030000500, 1030000700, 1030001100, 1030001300,\n",
       "            1030008004, 1030026600, 1030028600, 1030029200, 1030029600,\n",
       "            1030001902],\n",
       "           dtype='int64', name='sid')"
      ]
     },
     "execution_count": 42,
     "metadata": {},
     "output_type": "execute_result"
    }
   ],
   "source": [
    "train_df.columns"
   ]
  },
  {
   "cell_type": "code",
   "execution_count": 43,
   "id": "b49c9804",
   "metadata": {},
   "outputs": [
    {
     "name": "stderr",
     "output_type": "stream",
     "text": [
      "  0%|          | 0/21 [00:00<?, ?it/s]"
     ]
    },
    {
     "name": "stdout",
     "output_type": "stream",
     "text": [
      "sid =  1030001800\n"
     ]
    },
    {
     "name": "stderr",
     "output_type": "stream",
     "text": [
      "  5%|▍         | 1/21 [00:29<09:51, 29.59s/it]"
     ]
    },
    {
     "name": "stdout",
     "output_type": "stream",
     "text": [
      "sid =  1030002400\n"
     ]
    },
    {
     "name": "stderr",
     "output_type": "stream",
     "text": [
      " 10%|▉         | 2/21 [00:59<09:22, 29.60s/it]"
     ]
    },
    {
     "name": "stdout",
     "output_type": "stream",
     "text": [
      "sid =  1030002701\n"
     ]
    },
    {
     "name": "stderr",
     "output_type": "stream",
     "text": [
      " 14%|█▍        | 3/21 [01:31<09:13, 30.75s/it]"
     ]
    },
    {
     "name": "stdout",
     "output_type": "stream",
     "text": [
      "sid =  1030016506\n"
     ]
    },
    {
     "name": "stderr",
     "output_type": "stream",
     "text": [
      " 19%|█▉        | 4/21 [01:58<08:18, 29.33s/it]"
     ]
    },
    {
     "name": "stdout",
     "output_type": "stream",
     "text": [
      "sid =  1030040600\n"
     ]
    },
    {
     "name": "stderr",
     "output_type": "stream",
     "text": [
      " 24%|██▍       | 5/21 [02:26<07:43, 28.97s/it]"
     ]
    },
    {
     "name": "stdout",
     "output_type": "stream",
     "text": [
      "sid =  1030041300\n"
     ]
    },
    {
     "name": "stderr",
     "output_type": "stream",
     "text": [
      " 29%|██▊       | 6/21 [02:56<07:18, 29.20s/it]"
     ]
    },
    {
     "name": "stdout",
     "output_type": "stream",
     "text": [
      "sid =  1030045400\n"
     ]
    },
    {
     "name": "stderr",
     "output_type": "stream",
     "text": [
      " 33%|███▎      | 7/21 [03:27<06:57, 29.80s/it]"
     ]
    },
    {
     "name": "stdout",
     "output_type": "stream",
     "text": [
      "sid =  1030065700\n"
     ]
    },
    {
     "name": "stderr",
     "output_type": "stream",
     "text": [
      " 38%|███▊      | 8/21 [03:56<06:24, 29.56s/it]"
     ]
    },
    {
     "name": "stdout",
     "output_type": "stream",
     "text": [
      "sid =  1050000301\n"
     ]
    },
    {
     "name": "stderr",
     "output_type": "stream",
     "text": [
      " 43%|████▎     | 9/21 [04:25<05:50, 29.24s/it]"
     ]
    },
    {
     "name": "stdout",
     "output_type": "stream",
     "text": [
      "sid =  1050060000\n"
     ]
    },
    {
     "name": "stderr",
     "output_type": "stream",
     "text": [
      " 48%|████▊     | 10/21 [04:53<05:19, 29.02s/it]"
     ]
    },
    {
     "name": "stdout",
     "output_type": "stream",
     "text": [
      "sid =  1020000902\n"
     ]
    },
    {
     "name": "stderr",
     "output_type": "stream",
     "text": [
      " 52%|█████▏    | 11/21 [05:22<04:51, 29.13s/it]"
     ]
    },
    {
     "name": "stdout",
     "output_type": "stream",
     "text": [
      "sid =  1030000500\n"
     ]
    },
    {
     "name": "stderr",
     "output_type": "stream",
     "text": [
      " 57%|█████▋    | 12/21 [05:55<04:30, 30.08s/it]"
     ]
    },
    {
     "name": "stdout",
     "output_type": "stream",
     "text": [
      "sid =  1030000700\n"
     ]
    },
    {
     "name": "stderr",
     "output_type": "stream",
     "text": [
      " 62%|██████▏   | 13/21 [06:25<04:01, 30.21s/it]"
     ]
    },
    {
     "name": "stdout",
     "output_type": "stream",
     "text": [
      "sid =  1030001100\n"
     ]
    },
    {
     "name": "stderr",
     "output_type": "stream",
     "text": [
      " 67%|██████▋   | 14/21 [06:54<03:27, 29.71s/it]"
     ]
    },
    {
     "name": "stdout",
     "output_type": "stream",
     "text": [
      "sid =  1030001300\n"
     ]
    },
    {
     "name": "stderr",
     "output_type": "stream",
     "text": [
      " 71%|███████▏  | 15/21 [07:23<02:58, 29.67s/it]"
     ]
    },
    {
     "name": "stdout",
     "output_type": "stream",
     "text": [
      "sid =  1030008004\n"
     ]
    },
    {
     "name": "stderr",
     "output_type": "stream",
     "text": [
      " 76%|███████▌  | 16/21 [07:52<02:26, 29.29s/it]"
     ]
    },
    {
     "name": "stdout",
     "output_type": "stream",
     "text": [
      "sid =  1030026600\n"
     ]
    },
    {
     "name": "stderr",
     "output_type": "stream",
     "text": [
      " 81%|████████  | 17/21 [08:21<01:57, 29.41s/it]"
     ]
    },
    {
     "name": "stdout",
     "output_type": "stream",
     "text": [
      "sid =  1030028600\n"
     ]
    },
    {
     "name": "stderr",
     "output_type": "stream",
     "text": [
      " 86%|████████▌ | 18/21 [08:50<01:27, 29.23s/it]"
     ]
    },
    {
     "name": "stdout",
     "output_type": "stream",
     "text": [
      "sid =  1030029200\n"
     ]
    },
    {
     "name": "stderr",
     "output_type": "stream",
     "text": [
      " 90%|█████████ | 19/21 [09:18<00:57, 28.68s/it]"
     ]
    },
    {
     "name": "stdout",
     "output_type": "stream",
     "text": [
      "sid =  1030029600\n"
     ]
    },
    {
     "name": "stderr",
     "output_type": "stream",
     "text": [
      " 95%|█████████▌| 20/21 [09:47<00:28, 28.90s/it]"
     ]
    },
    {
     "name": "stdout",
     "output_type": "stream",
     "text": [
      "sid =  1030001902\n"
     ]
    },
    {
     "name": "stderr",
     "output_type": "stream",
     "text": [
      "100%|██████████| 21/21 [10:20<00:00, 29.57s/it]\n"
     ]
    }
   ],
   "source": [
    "pred_all = []\n",
    "for sid in tqdm(train_df.columns):\n",
    "    print(\"sid = \", sid)\n",
    "    ## data\n",
    "    train_data, test_data = [], []\n",
    "    for i in (range(train_df.shape[0]-24)):\n",
    "        if 1 in train_label.iloc[i:i+24]['label'].values:\n",
    "            continue\n",
    "        else:\n",
    "            train_data.append(train_df.iloc[i:i+24][sid])\n",
    "    for i in (range(test_df.shape[0]-24)):\n",
    "        test_data.append(test_df.iloc[i:i+24][sid])\n",
    "    train_data = np.stack(train_data)\n",
    "    test_data = np.stack(test_data)\n",
    "    \n",
    "    ## train\n",
    "    clf = OneClassSVM(gamma='auto').fit(train_data[:])\n",
    "    # print(\"train done!\")\n",
    "    ## test\n",
    "    pred = clf.predict(test_data)\n",
    "    pred = [1 if p==1 else 0 for p in pred]\n",
    "    pred_all.append(pred)\n",
    "    # print(\"Prediction done!\")"
   ]
  },
  {
   "cell_type": "code",
   "execution_count": 46,
   "id": "d6b83d83",
   "metadata": {},
   "outputs": [],
   "source": [
    "pred = list(map(int, (np.sum(pred_all, axis=0) > 0)))"
   ]
  },
  {
   "cell_type": "code",
   "execution_count": 47,
   "id": "39152709",
   "metadata": {},
   "outputs": [
    {
     "name": "stdout",
     "output_type": "stream",
     "text": [
      "Accuracy \t0.0202\n",
      "AUC score \t0.5021\n",
      "FAR score \t0.9838\n",
      "Precision \t0.0162\n",
      "Recall   \t1.0000\n",
      "Macro F1 \t0.0201\n",
      "Avg Precision \t0.0162\n",
      "              precision    recall  f1-score   support\n",
      "\n",
      "           0       1.00      0.00      0.01      8760\n",
      "           1       0.02      1.00      0.03       144\n",
      "\n",
      "    accuracy                           0.02      8904\n",
      "   macro avg       0.51      0.50      0.02      8904\n",
      "weighted avg       0.98      0.02      0.01      8904\n",
      "\n"
     ]
    },
    {
     "data": {
      "text/plain": [
       "[0.02021563342318059,\n",
       " 0.502054794520548,\n",
       " 0.9837618403247632,\n",
       " 0.016238159675236806,\n",
       " 1.0,\n",
       " 0.020071464513890528,\n",
       " 0.016238159675236806]"
      ]
     },
     "execution_count": 47,
     "metadata": {},
     "output_type": "execute_result"
    },
    {
     "data": {
      "image/png": "[encoded data removed]",
      "text/plain": [
       "<Figure size 2880x360 with 1 Axes>"
      ]
     },
     "metadata": {
      "needs_background": "light"
     },
     "output_type": "display_data"
    }
   ],
   "source": [
    "true = test_label.iloc[24:].label\n",
    "evaluate(true, pred, adjust=True, print_=True, plot=True)"
   ]
  },
  {
   "cell_type": "code",
   "execution_count": null,
   "id": "8ceb554a",
   "metadata": {},
   "outputs": [],
   "source": []
  }
 ],
 "metadata": {
  "kernelspec": {
   "display_name": "traffic",
   "language": "python",
   "name": "traffic"
  },
  "language_info": {
   "codemirror_mode": {
    "name": "ipython",
    "version": 3
   },
   "file_extension": ".py",
   "mimetype": "text/x-python",
   "name": "python",
   "nbconvert_exporter": "python",
   "pygments_lexer": "ipython3",
   "version": "3.9.0"
  }
 },
 "nbformat": 4,
 "nbformat_minor": 5
}
