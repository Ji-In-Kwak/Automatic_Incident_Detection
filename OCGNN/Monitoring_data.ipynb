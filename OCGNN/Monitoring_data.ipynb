{
 "cells": [
  {
   "cell_type": "code",
   "execution_count": 308,
   "metadata": {},
   "outputs": [],
   "source": [
    "#-*- coding:utf-8 -*-\n",
    "\n",
    "import os\n",
    "import sys\n",
    "import time\n",
    "import random\n",
    "import math\n",
    "import pickle\n",
    "import unicodedata\n",
    "\n",
    "# import ast as ast\n",
    "import numpy as np\n",
    "import pandas as pd\n",
    "import networkx as nx\n",
    "import matplotlib.pyplot as plt\n",
    "import torch\n",
    "import sklearn.metrics as metrics\n",
    "from sklearn.preprocessing import MinMaxScaler, StandardScaler\n",
    "\n",
    "from tqdm import tqdm\n",
    "from datetime import datetime, timedelta, date\n",
    "#from dtaidistance import dtw\n",
    "# from multiprocessing import Pool"
   ]
  },
  {
   "cell_type": "code",
   "execution_count": 309,
   "metadata": {},
   "outputs": [],
   "source": [
    "# Set random seed\n",
    "SEED = 0\n",
    "np.random.seed(SEED)\n",
    "torch.manual_seed(SEED)\n",
    "torch.cuda.manual_seed_all(SEED)\n",
    "random.seed(SEED)\n",
    "\n",
    "torch.backends.cudnn.deterministic = True\n",
    "torch.backends.cudnn.benchmark = False"
   ]
  },
  {
   "cell_type": "code",
   "execution_count": 310,
   "metadata": {},
   "outputs": [],
   "source": [
    "import warnings\n",
    "warnings.filterwarnings('ignore')"
   ]
  },
  {
   "cell_type": "code",
   "execution_count": 311,
   "metadata": {},
   "outputs": [
    {
     "name": "stdout",
     "output_type": "stream",
     "text": [
      "The autoreload extension is already loaded. To reload it, use:\n",
      "  %reload_ext autoreload\n"
     ]
    }
   ],
   "source": [
    "%load_ext autoreload\n",
    "%autoreload 2"
   ]
  },
  {
   "cell_type": "code",
   "execution_count": null,
   "metadata": {},
   "outputs": [],
   "source": []
  },
  {
   "cell_type": "markdown",
   "metadata": {},
   "source": [
    "## Data Loading"
   ]
  },
  {
   "cell_type": "code",
   "execution_count": 312,
   "metadata": {},
   "outputs": [
    {
     "data": {
      "text/plain": [
       "(4203, 15506)"
      ]
     },
     "execution_count": 312,
     "metadata": {},
     "output_type": "execute_result"
    }
   ],
   "source": [
    "data_root_path = '/media/usr/HDD/Data/NAVER'\n",
    "partition_list = os.listdir(data_root_path)\n",
    "partition_list = [p for p in partition_list if p[0]=='2']\n",
    "partition_list = np.sort(partition_list)\n",
    "\n",
    "data_path = '/media/usr/HDD/Working/Naver_Data/data_parsing'\n",
    "\n",
    "sids_all = []\n",
    "eventID_all = []\n",
    "\n",
    "for partition in partition_list:\n",
    "    try: \n",
    "        eventID_list = [filename.split('.')[0] for filename in os.listdir(os.path.join(data_path, 'networks', partition)) if filename[0] != '.']\n",
    "        eventID_list = np.unique(eventID_list)\n",
    "        eventID_all.append(eventID_list)\n",
    "\n",
    "        for eventID in eventID_list:\n",
    "            with open(os.path.join(data_path, 'networks', partition, '{}.pickle'.format(eventID)), 'rb') as f:\n",
    "                accident_info = pickle.load(f)\n",
    "            G = nx.read_gpickle(os.path.join(data_path, 'networks', partition, '{}.gpickle'.format(eventID)))\n",
    "\n",
    "            sids_all.append(accident_info[1])\n",
    "            sids_all.append(accident_info[2])\n",
    "    except:\n",
    "        continue\n",
    "\n",
    "eventID_all = [x for y in eventID_all for x in y]\n",
    "eventID_all = np.unique(eventID_all)\n",
    "        \n",
    "sids_all = [x for y in sids_all for x in y]\n",
    "sids_all = np.unique(sids_all)\n",
    "\n",
    "len(eventID_all), len(sids_all)"
   ]
  },
  {
   "cell_type": "code",
   "execution_count": null,
   "metadata": {},
   "outputs": [
    {
     "data": {
      "text/plain": [
       "4077"
      ]
     },
     "execution_count": 302,
     "metadata": {},
     "output_type": "execute_result"
    }
   ],
   "source": [
    "# 사고 필터링\n",
    "data_extraction_path = '/media/usr/HDD/Data/NAVER_df'\n",
    "filtered_ID = [eventID for eventID in eventID_all if eventID in os.listdir(data_extraction_path)]\n",
    "len(filtered_ID)"
   ]
  },
  {
   "cell_type": "code",
   "execution_count": 329,
   "metadata": {},
   "outputs": [
    {
     "name": "stderr",
     "output_type": "stream",
     "text": [
      "100%|██████████| 4077/4077 [00:04<00:00, 860.11it/s] \n"
     ]
    }
   ],
   "source": [
    "target_all = []\n",
    "for eventID in tqdm(filtered_ID):\n",
    "    try:\n",
    "        # with open('/media/usr/WORKING/Naver_Congestion/Pattern_Matching_paperwork/Pattern_Matching_dtw/feature_extraction/target/{}'.format(eventID), 'rb') as f:\n",
    "        with open('/media/usr/SSD/jiin/naver/Duration Estimation Thesis/feature_extraction/target/{}'.format(eventID), 'rb') as f:\n",
    "            out = pickle.load(f)\n",
    "    except:\n",
    "        continue\n",
    "        \n",
    "    if out != None:\n",
    "        out = [eventID] + out\n",
    "        target_all.append(out)"
   ]
  },
  {
   "cell_type": "code",
   "execution_count": 330,
   "metadata": {},
   "outputs": [],
   "source": [
    "target_all = pd.DataFrame(target_all, columns=['eventID', 'speed_drop', 'congestion_score', 'cascading_event', 'congestion_start_idx', 'congestion_duration'])\n",
    "filtered_ID_list = target_all[target_all.cascading_event==True].eventID.values"
   ]
  },
  {
   "cell_type": "code",
   "execution_count": 331,
   "metadata": {},
   "outputs": [
    {
     "data": {
      "text/plain": [
       "849"
      ]
     },
     "execution_count": 331,
     "metadata": {},
     "output_type": "execute_result"
    }
   ],
   "source": [
    "len(filtered_ID_list)"
   ]
  },
  {
   "cell_type": "code",
   "execution_count": 332,
   "metadata": {},
   "outputs": [],
   "source": [
    "accident_info_all = []\n",
    "for eventID in filtered_ID_list:\n",
    "    with open(os.path.join(data_path, 'speeds', eventID, '{}.pickle'.format(eventID)), 'rb') as f:\n",
    "        accident_info = pickle.load(f)\n",
    "    accident_info_all.append(accident_info[0])\n",
    "accident_all = pd.DataFrame(accident_info_all)"
   ]
  },
  {
   "cell_type": "code",
   "execution_count": 336,
   "metadata": {},
   "outputs": [
    {
     "data": {
      "text/html": [
       "<div>\n",
       "<style scoped>\n",
       "    .dataframe tbody tr th:only-of-type {\n",
       "        vertical-align: middle;\n",
       "    }\n",
       "\n",
       "    .dataframe tbody tr th {\n",
       "        vertical-align: top;\n",
       "    }\n",
       "\n",
       "    .dataframe thead th {\n",
       "        text-align: right;\n",
       "    }\n",
       "</style>\n",
       "<table border=\"1\" class=\"dataframe\">\n",
       "  <thead>\n",
       "    <tr style=\"text-align: right;\">\n",
       "      <th></th>\n",
       "      <th>eventId</th>\n",
       "      <th>created</th>\n",
       "      <th>startExpect</th>\n",
       "      <th>endExpect</th>\n",
       "      <th>start</th>\n",
       "      <th>end</th>\n",
       "      <th>cp</th>\n",
       "      <th>category</th>\n",
       "      <th>description</th>\n",
       "      <th>sids</th>\n",
       "      <th>lng</th>\n",
       "      <th>lat</th>\n",
       "      <th>accident_sid</th>\n",
       "    </tr>\n",
       "  </thead>\n",
       "  <tbody>\n",
       "    <tr>\n",
       "      <th>80</th>\n",
       "      <td>3674056</td>\n",
       "      <td>2020-09-16 10:53:16</td>\n",
       "      <td>2020-09-16 10:31:00</td>\n",
       "      <td>2020-09-16 11:01:00</td>\n",
       "      <td>NaT</td>\n",
       "      <td>NaT</td>\n",
       "      <td>경찰청(UTIC)</td>\n",
       "      <td>ACCIDENT</td>\n",
       "      <td>[사고] 도봉로 수유치과의원 에서 수유사거리 방향 3차로 고장 차량 주의운전</td>\n",
       "      <td>[1080005204]</td>\n",
       "      <td>127.023848</td>\n",
       "      <td>37.632308</td>\n",
       "      <td>1080005204</td>\n",
       "    </tr>\n",
       "    <tr>\n",
       "      <th>68</th>\n",
       "      <td>3674448</td>\n",
       "      <td>2020-09-16 13:33:00</td>\n",
       "      <td>2020-09-16 13:31:00</td>\n",
       "      <td>2020-09-16 13:51:00</td>\n",
       "      <td>NaT</td>\n",
       "      <td>NaT</td>\n",
       "      <td>tbs 교통방송</td>\n",
       "      <td>ACCIDENT</td>\n",
       "      <td>강변북로 (일산 → 구리) 동작대교 조금 못 간 저점 2차로 승용차끼리 추돌사고로 정체</td>\n",
       "      <td>[1020000101]</td>\n",
       "      <td>126.979425</td>\n",
       "      <td>37.516094</td>\n",
       "      <td>1020000101</td>\n",
       "    </tr>\n",
       "    <tr>\n",
       "      <th>73</th>\n",
       "      <td>3674530</td>\n",
       "      <td>2020-09-16 15:39:20</td>\n",
       "      <td>2020-09-16 15:29:00</td>\n",
       "      <td>2020-09-16 15:59:00</td>\n",
       "      <td>NaT</td>\n",
       "      <td>NaT</td>\n",
       "      <td>경찰청(UTIC)</td>\n",
       "      <td>ACCIDENT</td>\n",
       "      <td>[사고] 화랑로 과기원후문 에서 월곡시장 방향 3차로 고장 차량 주의운전</td>\n",
       "      <td>[1070046900]</td>\n",
       "      <td>127.043284</td>\n",
       "      <td>37.603680</td>\n",
       "      <td>1070046900</td>\n",
       "    </tr>\n",
       "    <tr>\n",
       "      <th>77</th>\n",
       "      <td>3674610</td>\n",
       "      <td>2020-09-16 16:21:00</td>\n",
       "      <td>2020-09-16 16:13:00</td>\n",
       "      <td>2020-09-16 16:43:00</td>\n",
       "      <td>NaT</td>\n",
       "      <td>NaT</td>\n",
       "      <td>경기도 교통정보센터</td>\n",
       "      <td>ACCIDENT</td>\n",
       "      <td>[사고] 강변북로 (구리방향) 난지IC → 성산대교  2차로 통제,  사고</td>\n",
       "      <td>[1130004304]</td>\n",
       "      <td>126.890628</td>\n",
       "      <td>37.560333</td>\n",
       "      <td>1130004304</td>\n",
       "    </tr>\n",
       "    <tr>\n",
       "      <th>75</th>\n",
       "      <td>3674755</td>\n",
       "      <td>2020-09-16 20:21:19</td>\n",
       "      <td>2020-09-16 19:56:00</td>\n",
       "      <td>2020-09-16 20:26:00</td>\n",
       "      <td>NaT</td>\n",
       "      <td>NaT</td>\n",
       "      <td>경찰청(UTIC)</td>\n",
       "      <td>ACCIDENT</td>\n",
       "      <td>[사고] 화랑로 화랑대사거리 에서 화랑대역 방향 4차로 교통사고</td>\n",
       "      <td>[1100009100]</td>\n",
       "      <td>127.086716</td>\n",
       "      <td>37.621437</td>\n",
       "      <td>1100009100</td>\n",
       "    </tr>\n",
       "    <tr>\n",
       "      <th>...</th>\n",
       "      <td>...</td>\n",
       "      <td>...</td>\n",
       "      <td>...</td>\n",
       "      <td>...</td>\n",
       "      <td>...</td>\n",
       "      <td>...</td>\n",
       "      <td>...</td>\n",
       "      <td>...</td>\n",
       "      <td>...</td>\n",
       "      <td>...</td>\n",
       "      <td>...</td>\n",
       "      <td>...</td>\n",
       "      <td>...</td>\n",
       "    </tr>\n",
       "    <tr>\n",
       "      <th>37</th>\n",
       "      <td>3803336</td>\n",
       "      <td>2021-02-28 09:49:00</td>\n",
       "      <td>2021-02-28 09:46:00</td>\n",
       "      <td>2021-02-28 10:06:00</td>\n",
       "      <td>NaT</td>\n",
       "      <td>NaT</td>\n",
       "      <td>tbs 교통방송</td>\n",
       "      <td>ACCIDENT</td>\n",
       "      <td>올림픽대로 하남방면 (한강대교 → 동작대교) 3차로 승용차,화물차 추돌사고로 정체</td>\n",
       "      <td>[1190000101]</td>\n",
       "      <td>126.965809</td>\n",
       "      <td>37.509549</td>\n",
       "      <td>1190000101</td>\n",
       "    </tr>\n",
       "    <tr>\n",
       "      <th>38</th>\n",
       "      <td>3803337</td>\n",
       "      <td>2021-02-28 11:28:00</td>\n",
       "      <td>2021-02-28 11:27:00</td>\n",
       "      <td>2021-02-28 11:47:00</td>\n",
       "      <td>NaT</td>\n",
       "      <td>NaT</td>\n",
       "      <td>tbs 교통방송</td>\n",
       "      <td>ACCIDENT</td>\n",
       "      <td>강변북로 일산방면 (양화대교 → 성산대교) 1차로 승용차관련 추돌사고로 정체</td>\n",
       "      <td>[1130002402]</td>\n",
       "      <td>126.899607</td>\n",
       "      <td>37.553138</td>\n",
       "      <td>1130002402</td>\n",
       "    </tr>\n",
       "    <tr>\n",
       "      <th>34</th>\n",
       "      <td>3803342</td>\n",
       "      <td>2021-02-28 11:28:23</td>\n",
       "      <td>2021-02-28 11:13:00</td>\n",
       "      <td>2021-02-28 11:43:00</td>\n",
       "      <td>NaT</td>\n",
       "      <td>NaT</td>\n",
       "      <td>경찰청(UTIC)</td>\n",
       "      <td>ACCIDENT</td>\n",
       "      <td>[사고] 경부고속도로 반포IC 에서 서초IC 방향 4차로 고장 차량 주의운전</td>\n",
       "      <td>[1210004100]</td>\n",
       "      <td>127.020350</td>\n",
       "      <td>37.498191</td>\n",
       "      <td>1210004100</td>\n",
       "    </tr>\n",
       "    <tr>\n",
       "      <th>25</th>\n",
       "      <td>3803349</td>\n",
       "      <td>2021-02-28 11:28:23</td>\n",
       "      <td>2021-02-28 11:23:00</td>\n",
       "      <td>2021-02-28 11:53:00</td>\n",
       "      <td>NaT</td>\n",
       "      <td>NaT</td>\n",
       "      <td>경찰청(UTIC)</td>\n",
       "      <td>ACCIDENT</td>\n",
       "      <td>[사고] 강변북로 양화대교 에서 성산대교 방향 1차로 교통사고 승용차 관련. 후미 ...</td>\n",
       "      <td>[1130002401]</td>\n",
       "      <td>126.901521</td>\n",
       "      <td>37.551829</td>\n",
       "      <td>1130002401</td>\n",
       "    </tr>\n",
       "    <tr>\n",
       "      <th>33</th>\n",
       "      <td>3803553</td>\n",
       "      <td>2021-02-28 16:07:00</td>\n",
       "      <td>2021-02-28 16:03:00</td>\n",
       "      <td>2021-02-28 16:23:00</td>\n",
       "      <td>NaT</td>\n",
       "      <td>NaT</td>\n",
       "      <td>tbs 교통방송</td>\n",
       "      <td>ACCIDENT</td>\n",
       "      <td>영동대교 (북단 → 남단) 3차로 승용차관련 추돌사고 처리작업으로 정체</td>\n",
       "      <td>[1040020100]</td>\n",
       "      <td>127.056805</td>\n",
       "      <td>37.529759</td>\n",
       "      <td>1040020100</td>\n",
       "    </tr>\n",
       "  </tbody>\n",
       "</table>\n",
       "<p>849 rows × 13 columns</p>\n",
       "</div>"
      ],
      "text/plain": [
       "    eventId             created         startExpect           endExpect start  \\\n",
       "80  3674056 2020-09-16 10:53:16 2020-09-16 10:31:00 2020-09-16 11:01:00   NaT   \n",
       "68  3674448 2020-09-16 13:33:00 2020-09-16 13:31:00 2020-09-16 13:51:00   NaT   \n",
       "73  3674530 2020-09-16 15:39:20 2020-09-16 15:29:00 2020-09-16 15:59:00   NaT   \n",
       "77  3674610 2020-09-16 16:21:00 2020-09-16 16:13:00 2020-09-16 16:43:00   NaT   \n",
       "75  3674755 2020-09-16 20:21:19 2020-09-16 19:56:00 2020-09-16 20:26:00   NaT   \n",
       "..      ...                 ...                 ...                 ...   ...   \n",
       "37  3803336 2021-02-28 09:49:00 2021-02-28 09:46:00 2021-02-28 10:06:00   NaT   \n",
       "38  3803337 2021-02-28 11:28:00 2021-02-28 11:27:00 2021-02-28 11:47:00   NaT   \n",
       "34  3803342 2021-02-28 11:28:23 2021-02-28 11:13:00 2021-02-28 11:43:00   NaT   \n",
       "25  3803349 2021-02-28 11:28:23 2021-02-28 11:23:00 2021-02-28 11:53:00   NaT   \n",
       "33  3803553 2021-02-28 16:07:00 2021-02-28 16:03:00 2021-02-28 16:23:00   NaT   \n",
       "\n",
       "   end          cp  category  \\\n",
       "80 NaT   경찰청(UTIC)  ACCIDENT   \n",
       "68 NaT    tbs 교통방송  ACCIDENT   \n",
       "73 NaT   경찰청(UTIC)  ACCIDENT   \n",
       "77 NaT  경기도 교통정보센터  ACCIDENT   \n",
       "75 NaT   경찰청(UTIC)  ACCIDENT   \n",
       "..  ..         ...       ...   \n",
       "37 NaT    tbs 교통방송  ACCIDENT   \n",
       "38 NaT    tbs 교통방송  ACCIDENT   \n",
       "34 NaT   경찰청(UTIC)  ACCIDENT   \n",
       "25 NaT   경찰청(UTIC)  ACCIDENT   \n",
       "33 NaT    tbs 교통방송  ACCIDENT   \n",
       "\n",
       "                                          description          sids  \\\n",
       "80         [사고] 도봉로 수유치과의원 에서 수유사거리 방향 3차로 고장 차량 주의운전  [1080005204]   \n",
       "68   강변북로 (일산 → 구리) 동작대교 조금 못 간 저점 2차로 승용차끼리 추돌사고로 정체  [1020000101]   \n",
       "73           [사고] 화랑로 과기원후문 에서 월곡시장 방향 3차로 고장 차량 주의운전  [1070046900]   \n",
       "77          [사고] 강변북로 (구리방향) 난지IC → 성산대교  2차로 통제,  사고  [1130004304]   \n",
       "75                [사고] 화랑로 화랑대사거리 에서 화랑대역 방향 4차로 교통사고  [1100009100]   \n",
       "..                                                ...           ...   \n",
       "37      올림픽대로 하남방면 (한강대교 → 동작대교) 3차로 승용차,화물차 추돌사고로 정체  [1190000101]   \n",
       "38         강변북로 일산방면 (양화대교 → 성산대교) 1차로 승용차관련 추돌사고로 정체  [1130002402]   \n",
       "34       [사고] 경부고속도로 반포IC 에서 서초IC 방향 4차로 고장 차량 주의운전    [1210004100]   \n",
       "25  [사고] 강변북로 양화대교 에서 성산대교 방향 1차로 교통사고 승용차 관련. 후미 ...  [1130002401]   \n",
       "33            영동대교 (북단 → 남단) 3차로 승용차관련 추돌사고 처리작업으로 정체  [1040020100]   \n",
       "\n",
       "           lng        lat  accident_sid  \n",
       "80  127.023848  37.632308    1080005204  \n",
       "68  126.979425  37.516094    1020000101  \n",
       "73  127.043284  37.603680    1070046900  \n",
       "77  126.890628  37.560333    1130004304  \n",
       "75  127.086716  37.621437    1100009100  \n",
       "..         ...        ...           ...  \n",
       "37  126.965809  37.509549    1190000101  \n",
       "38  126.899607  37.553138    1130002402  \n",
       "34  127.020350  37.498191    1210004100  \n",
       "25  126.901521  37.551829    1130002401  \n",
       "33  127.056805  37.529759    1040020100  \n",
       "\n",
       "[849 rows x 13 columns]"
      ]
     },
     "execution_count": 336,
     "metadata": {},
     "output_type": "execute_result"
    }
   ],
   "source": [
    "accident_all"
   ]
  },
  {
   "cell_type": "code",
   "execution_count": 439,
   "metadata": {},
   "outputs": [],
   "source": [
    "accident_all.to_csv('datasets/data/accident_all.csv')"
   ]
  },
  {
   "cell_type": "code",
   "execution_count": 470,
   "metadata": {},
   "outputs": [
    {
     "data": {
      "text/plain": [
       "[1210005301]    20\n",
       "[1030001902]    19\n",
       "[1220005401]    13\n",
       "[1210003000]    13\n",
       "[1130052300]    11\n",
       "                ..\n",
       "[1130019202]     1\n",
       "[2210066900]     1\n",
       "[1120013402]     1\n",
       "[1100005401]     1\n",
       "[1040020100]     1\n",
       "Name: sids, Length: 489, dtype: int64"
      ]
     },
     "execution_count": 470,
     "metadata": {},
     "output_type": "execute_result"
    }
   ],
   "source": [
    "accident_all['sids'].value_counts()"
   ]
  },
  {
   "cell_type": "code",
   "execution_count": 472,
   "metadata": {},
   "outputs": [
    {
     "data": {
      "text/html": [
       "<div>\n",
       "<style scoped>\n",
       "    .dataframe tbody tr th:only-of-type {\n",
       "        vertical-align: middle;\n",
       "    }\n",
       "\n",
       "    .dataframe tbody tr th {\n",
       "        vertical-align: top;\n",
       "    }\n",
       "\n",
       "    .dataframe thead th {\n",
       "        text-align: right;\n",
       "    }\n",
       "</style>\n",
       "<table border=\"1\" class=\"dataframe\">\n",
       "  <thead>\n",
       "    <tr style=\"text-align: right;\">\n",
       "      <th></th>\n",
       "      <th>eventId</th>\n",
       "      <th>created</th>\n",
       "      <th>startExpect</th>\n",
       "      <th>endExpect</th>\n",
       "      <th>start</th>\n",
       "      <th>end</th>\n",
       "      <th>cp</th>\n",
       "      <th>category</th>\n",
       "      <th>description</th>\n",
       "      <th>sids</th>\n",
       "      <th>lng</th>\n",
       "      <th>lat</th>\n",
       "      <th>accident_sid</th>\n",
       "    </tr>\n",
       "  </thead>\n",
       "  <tbody>\n",
       "    <tr>\n",
       "      <th>80</th>\n",
       "      <td>3674056</td>\n",
       "      <td>2020-09-16 10:53:16</td>\n",
       "      <td>2020-09-16 10:31:00</td>\n",
       "      <td>2020-09-16 11:01:00</td>\n",
       "      <td>NaN</td>\n",
       "      <td>NaN</td>\n",
       "      <td>경찰청(UTIC)</td>\n",
       "      <td>ACCIDENT</td>\n",
       "      <td>[사고] 도봉로 수유치과의원 에서 수유사거리 방향 3차로 고장 차량 주의운전</td>\n",
       "      <td>[1080005204]</td>\n",
       "      <td>127.023848</td>\n",
       "      <td>37.632308</td>\n",
       "      <td>1080005204</td>\n",
       "    </tr>\n",
       "    <tr>\n",
       "      <th>68</th>\n",
       "      <td>3674448</td>\n",
       "      <td>2020-09-16 13:33:00</td>\n",
       "      <td>2020-09-16 13:31:00</td>\n",
       "      <td>2020-09-16 13:51:00</td>\n",
       "      <td>NaN</td>\n",
       "      <td>NaN</td>\n",
       "      <td>tbs 교통방송</td>\n",
       "      <td>ACCIDENT</td>\n",
       "      <td>강변북로 (일산 → 구리) 동작대교 조금 못 간 저점 2차로 승용차끼리 추돌사고로 정체</td>\n",
       "      <td>[1020000101]</td>\n",
       "      <td>126.979425</td>\n",
       "      <td>37.516094</td>\n",
       "      <td>1020000101</td>\n",
       "    </tr>\n",
       "    <tr>\n",
       "      <th>73</th>\n",
       "      <td>3674530</td>\n",
       "      <td>2020-09-16 15:39:20</td>\n",
       "      <td>2020-09-16 15:29:00</td>\n",
       "      <td>2020-09-16 15:59:00</td>\n",
       "      <td>NaN</td>\n",
       "      <td>NaN</td>\n",
       "      <td>경찰청(UTIC)</td>\n",
       "      <td>ACCIDENT</td>\n",
       "      <td>[사고] 화랑로 과기원후문 에서 월곡시장 방향 3차로 고장 차량 주의운전</td>\n",
       "      <td>[1070046900]</td>\n",
       "      <td>127.043284</td>\n",
       "      <td>37.603680</td>\n",
       "      <td>1070046900</td>\n",
       "    </tr>\n",
       "    <tr>\n",
       "      <th>77</th>\n",
       "      <td>3674610</td>\n",
       "      <td>2020-09-16 16:21:00</td>\n",
       "      <td>2020-09-16 16:13:00</td>\n",
       "      <td>2020-09-16 16:43:00</td>\n",
       "      <td>NaN</td>\n",
       "      <td>NaN</td>\n",
       "      <td>경기도 교통정보센터</td>\n",
       "      <td>ACCIDENT</td>\n",
       "      <td>[사고] 강변북로 (구리방향) 난지IC → 성산대교  2차로 통제,  사고</td>\n",
       "      <td>[1130004304]</td>\n",
       "      <td>126.890628</td>\n",
       "      <td>37.560333</td>\n",
       "      <td>1130004304</td>\n",
       "    </tr>\n",
       "    <tr>\n",
       "      <th>75</th>\n",
       "      <td>3674755</td>\n",
       "      <td>2020-09-16 20:21:19</td>\n",
       "      <td>2020-09-16 19:56:00</td>\n",
       "      <td>2020-09-16 20:26:00</td>\n",
       "      <td>NaN</td>\n",
       "      <td>NaN</td>\n",
       "      <td>경찰청(UTIC)</td>\n",
       "      <td>ACCIDENT</td>\n",
       "      <td>[사고] 화랑로 화랑대사거리 에서 화랑대역 방향 4차로 교통사고</td>\n",
       "      <td>[1100009100]</td>\n",
       "      <td>127.086716</td>\n",
       "      <td>37.621437</td>\n",
       "      <td>1100009100</td>\n",
       "    </tr>\n",
       "    <tr>\n",
       "      <th>...</th>\n",
       "      <td>...</td>\n",
       "      <td>...</td>\n",
       "      <td>...</td>\n",
       "      <td>...</td>\n",
       "      <td>...</td>\n",
       "      <td>...</td>\n",
       "      <td>...</td>\n",
       "      <td>...</td>\n",
       "      <td>...</td>\n",
       "      <td>...</td>\n",
       "      <td>...</td>\n",
       "      <td>...</td>\n",
       "      <td>...</td>\n",
       "    </tr>\n",
       "    <tr>\n",
       "      <th>37</th>\n",
       "      <td>3803336</td>\n",
       "      <td>2021-02-28 09:49:00</td>\n",
       "      <td>2021-02-28 09:46:00</td>\n",
       "      <td>2021-02-28 10:06:00</td>\n",
       "      <td>NaN</td>\n",
       "      <td>NaN</td>\n",
       "      <td>tbs 교통방송</td>\n",
       "      <td>ACCIDENT</td>\n",
       "      <td>올림픽대로 하남방면 (한강대교 → 동작대교) 3차로 승용차,화물차 추돌사고로 정체</td>\n",
       "      <td>[1190000101]</td>\n",
       "      <td>126.965809</td>\n",
       "      <td>37.509549</td>\n",
       "      <td>1190000101</td>\n",
       "    </tr>\n",
       "    <tr>\n",
       "      <th>38</th>\n",
       "      <td>3803337</td>\n",
       "      <td>2021-02-28 11:28:00</td>\n",
       "      <td>2021-02-28 11:27:00</td>\n",
       "      <td>2021-02-28 11:47:00</td>\n",
       "      <td>NaN</td>\n",
       "      <td>NaN</td>\n",
       "      <td>tbs 교통방송</td>\n",
       "      <td>ACCIDENT</td>\n",
       "      <td>강변북로 일산방면 (양화대교 → 성산대교) 1차로 승용차관련 추돌사고로 정체</td>\n",
       "      <td>[1130002402]</td>\n",
       "      <td>126.899607</td>\n",
       "      <td>37.553138</td>\n",
       "      <td>1130002402</td>\n",
       "    </tr>\n",
       "    <tr>\n",
       "      <th>34</th>\n",
       "      <td>3803342</td>\n",
       "      <td>2021-02-28 11:28:23</td>\n",
       "      <td>2021-02-28 11:13:00</td>\n",
       "      <td>2021-02-28 11:43:00</td>\n",
       "      <td>NaN</td>\n",
       "      <td>NaN</td>\n",
       "      <td>경찰청(UTIC)</td>\n",
       "      <td>ACCIDENT</td>\n",
       "      <td>[사고] 경부고속도로 반포IC 에서 서초IC 방향 4차로 고장 차량 주의운전</td>\n",
       "      <td>[1210004100]</td>\n",
       "      <td>127.020350</td>\n",
       "      <td>37.498191</td>\n",
       "      <td>1210004100</td>\n",
       "    </tr>\n",
       "    <tr>\n",
       "      <th>25</th>\n",
       "      <td>3803349</td>\n",
       "      <td>2021-02-28 11:28:23</td>\n",
       "      <td>2021-02-28 11:23:00</td>\n",
       "      <td>2021-02-28 11:53:00</td>\n",
       "      <td>NaN</td>\n",
       "      <td>NaN</td>\n",
       "      <td>경찰청(UTIC)</td>\n",
       "      <td>ACCIDENT</td>\n",
       "      <td>[사고] 강변북로 양화대교 에서 성산대교 방향 1차로 교통사고 승용차 관련. 후미 ...</td>\n",
       "      <td>[1130002401]</td>\n",
       "      <td>126.901521</td>\n",
       "      <td>37.551829</td>\n",
       "      <td>1130002401</td>\n",
       "    </tr>\n",
       "    <tr>\n",
       "      <th>33</th>\n",
       "      <td>3803553</td>\n",
       "      <td>2021-02-28 16:07:00</td>\n",
       "      <td>2021-02-28 16:03:00</td>\n",
       "      <td>2021-02-28 16:23:00</td>\n",
       "      <td>NaN</td>\n",
       "      <td>NaN</td>\n",
       "      <td>tbs 교통방송</td>\n",
       "      <td>ACCIDENT</td>\n",
       "      <td>영동대교 (북단 → 남단) 3차로 승용차관련 추돌사고 처리작업으로 정체</td>\n",
       "      <td>[1040020100]</td>\n",
       "      <td>127.056805</td>\n",
       "      <td>37.529759</td>\n",
       "      <td>1040020100</td>\n",
       "    </tr>\n",
       "  </tbody>\n",
       "</table>\n",
       "<p>849 rows × 13 columns</p>\n",
       "</div>"
      ],
      "text/plain": [
       "    eventId              created          startExpect            endExpect  \\\n",
       "80  3674056  2020-09-16 10:53:16  2020-09-16 10:31:00  2020-09-16 11:01:00   \n",
       "68  3674448  2020-09-16 13:33:00  2020-09-16 13:31:00  2020-09-16 13:51:00   \n",
       "73  3674530  2020-09-16 15:39:20  2020-09-16 15:29:00  2020-09-16 15:59:00   \n",
       "77  3674610  2020-09-16 16:21:00  2020-09-16 16:13:00  2020-09-16 16:43:00   \n",
       "75  3674755  2020-09-16 20:21:19  2020-09-16 19:56:00  2020-09-16 20:26:00   \n",
       "..      ...                  ...                  ...                  ...   \n",
       "37  3803336  2021-02-28 09:49:00  2021-02-28 09:46:00  2021-02-28 10:06:00   \n",
       "38  3803337  2021-02-28 11:28:00  2021-02-28 11:27:00  2021-02-28 11:47:00   \n",
       "34  3803342  2021-02-28 11:28:23  2021-02-28 11:13:00  2021-02-28 11:43:00   \n",
       "25  3803349  2021-02-28 11:28:23  2021-02-28 11:23:00  2021-02-28 11:53:00   \n",
       "33  3803553  2021-02-28 16:07:00  2021-02-28 16:03:00  2021-02-28 16:23:00   \n",
       "\n",
       "   start  end          cp  category  \\\n",
       "80   NaN  NaN   경찰청(UTIC)  ACCIDENT   \n",
       "68   NaN  NaN    tbs 교통방송  ACCIDENT   \n",
       "73   NaN  NaN   경찰청(UTIC)  ACCIDENT   \n",
       "77   NaN  NaN  경기도 교통정보센터  ACCIDENT   \n",
       "75   NaN  NaN   경찰청(UTIC)  ACCIDENT   \n",
       "..   ...  ...         ...       ...   \n",
       "37   NaN  NaN    tbs 교통방송  ACCIDENT   \n",
       "38   NaN  NaN    tbs 교통방송  ACCIDENT   \n",
       "34   NaN  NaN   경찰청(UTIC)  ACCIDENT   \n",
       "25   NaN  NaN   경찰청(UTIC)  ACCIDENT   \n",
       "33   NaN  NaN    tbs 교통방송  ACCIDENT   \n",
       "\n",
       "                                          description          sids  \\\n",
       "80         [사고] 도봉로 수유치과의원 에서 수유사거리 방향 3차로 고장 차량 주의운전  [1080005204]   \n",
       "68   강변북로 (일산 → 구리) 동작대교 조금 못 간 저점 2차로 승용차끼리 추돌사고로 정체  [1020000101]   \n",
       "73           [사고] 화랑로 과기원후문 에서 월곡시장 방향 3차로 고장 차량 주의운전  [1070046900]   \n",
       "77          [사고] 강변북로 (구리방향) 난지IC → 성산대교  2차로 통제,  사고  [1130004304]   \n",
       "75                [사고] 화랑로 화랑대사거리 에서 화랑대역 방향 4차로 교통사고  [1100009100]   \n",
       "..                                                ...           ...   \n",
       "37      올림픽대로 하남방면 (한강대교 → 동작대교) 3차로 승용차,화물차 추돌사고로 정체  [1190000101]   \n",
       "38         강변북로 일산방면 (양화대교 → 성산대교) 1차로 승용차관련 추돌사고로 정체  [1130002402]   \n",
       "34       [사고] 경부고속도로 반포IC 에서 서초IC 방향 4차로 고장 차량 주의운전    [1210004100]   \n",
       "25  [사고] 강변북로 양화대교 에서 성산대교 방향 1차로 교통사고 승용차 관련. 후미 ...  [1130002401]   \n",
       "33            영동대교 (북단 → 남단) 3차로 승용차관련 추돌사고 처리작업으로 정체  [1040020100]   \n",
       "\n",
       "           lng        lat  accident_sid  \n",
       "80  127.023848  37.632308    1080005204  \n",
       "68  126.979425  37.516094    1020000101  \n",
       "73  127.043284  37.603680    1070046900  \n",
       "77  126.890628  37.560333    1130004304  \n",
       "75  127.086716  37.621437    1100009100  \n",
       "..         ...        ...           ...  \n",
       "37  126.965809  37.509549    1190000101  \n",
       "38  126.899607  37.553138    1130002402  \n",
       "34  127.020350  37.498191    1210004100  \n",
       "25  126.901521  37.551829    1130002401  \n",
       "33  127.056805  37.529759    1040020100  \n",
       "\n",
       "[849 rows x 13 columns]"
      ]
     },
     "execution_count": 472,
     "metadata": {},
     "output_type": "execute_result"
    }
   ],
   "source": [
    "accident_all = pd.read_csv('datasets/data/accident_all.csv', index_col=0)\n",
    "accident_all"
   ]
  },
  {
   "cell_type": "code",
   "execution_count": 473,
   "metadata": {},
   "outputs": [
    {
     "data": {
      "text/html": [
       "<div>\n",
       "<style scoped>\n",
       "    .dataframe tbody tr th:only-of-type {\n",
       "        vertical-align: middle;\n",
       "    }\n",
       "\n",
       "    .dataframe tbody tr th {\n",
       "        vertical-align: top;\n",
       "    }\n",
       "\n",
       "    .dataframe thead th {\n",
       "        text-align: right;\n",
       "    }\n",
       "</style>\n",
       "<table border=\"1\" class=\"dataframe\">\n",
       "  <thead>\n",
       "    <tr style=\"text-align: right;\">\n",
       "      <th></th>\n",
       "      <th>eventId</th>\n",
       "      <th>created</th>\n",
       "      <th>startExpect</th>\n",
       "      <th>endExpect</th>\n",
       "      <th>start</th>\n",
       "      <th>end</th>\n",
       "      <th>cp</th>\n",
       "      <th>category</th>\n",
       "      <th>description</th>\n",
       "      <th>sids</th>\n",
       "      <th>lng</th>\n",
       "      <th>lat</th>\n",
       "      <th>accident_sid</th>\n",
       "    </tr>\n",
       "  </thead>\n",
       "  <tbody>\n",
       "    <tr>\n",
       "      <th>43</th>\n",
       "      <td>3676787</td>\n",
       "      <td>2020-09-18 13:40:21</td>\n",
       "      <td>2020-09-18 13:23:00</td>\n",
       "      <td>2020-09-18 13:53:00</td>\n",
       "      <td>NaN</td>\n",
       "      <td>NaN</td>\n",
       "      <td>경찰청(UTIC)</td>\n",
       "      <td>ACCIDENT</td>\n",
       "      <td>[사고] 동부간선도로 성동교 에서 응봉교 방향 3차로 교통사고 주의운전</td>\n",
       "      <td>[1030001902]</td>\n",
       "      <td>127.040537</td>\n",
       "      <td>37.551421</td>\n",
       "      <td>1030001902</td>\n",
       "    </tr>\n",
       "    <tr>\n",
       "      <th>107</th>\n",
       "      <td>3696850</td>\n",
       "      <td>2020-10-13 13:59:00</td>\n",
       "      <td>2020-10-13 13:58:00</td>\n",
       "      <td>2020-10-13 14:18:00</td>\n",
       "      <td>NaN</td>\n",
       "      <td>NaN</td>\n",
       "      <td>tbs 교통방송</td>\n",
       "      <td>ACCIDENT</td>\n",
       "      <td>[사고] 동부간선도로 (의정부 → 성수대교) 응봉교부근 3차로 추돌사고 처리작업으로 서행</td>\n",
       "      <td>[1030001902]</td>\n",
       "      <td>127.040435</td>\n",
       "      <td>37.551444</td>\n",
       "      <td>1030001902</td>\n",
       "    </tr>\n",
       "    <tr>\n",
       "      <th>56</th>\n",
       "      <td>3734939</td>\n",
       "      <td>2020-11-22 14:11:00</td>\n",
       "      <td>2020-11-22 14:09:00</td>\n",
       "      <td>2020-11-22 14:29:00</td>\n",
       "      <td>NaN</td>\n",
       "      <td>NaN</td>\n",
       "      <td>tbs 교통방송</td>\n",
       "      <td>ACCIDENT</td>\n",
       "      <td>동부간선도로 (의정부 → 성수대교) 응봉교부근 4차로 승용차끼리 추돌사고로 또 다른...</td>\n",
       "      <td>[1030001902]</td>\n",
       "      <td>127.035929</td>\n",
       "      <td>37.547913</td>\n",
       "      <td>1030001902</td>\n",
       "    </tr>\n",
       "    <tr>\n",
       "      <th>75</th>\n",
       "      <td>3747858</td>\n",
       "      <td>2020-12-05 11:31:00</td>\n",
       "      <td>2020-12-05 11:30:00</td>\n",
       "      <td>2020-12-05 11:50:00</td>\n",
       "      <td>NaN</td>\n",
       "      <td>NaN</td>\n",
       "      <td>tbs 교통방송</td>\n",
       "      <td>ACCIDENT</td>\n",
       "      <td>동부간선도로 (의정부 → 성수대교) 응봉교부근 3차로 승용차끼리 추돌사고 처리작업으...</td>\n",
       "      <td>[1030001902]</td>\n",
       "      <td>127.036857</td>\n",
       "      <td>37.548634</td>\n",
       "      <td>1030001902</td>\n",
       "    </tr>\n",
       "    <tr>\n",
       "      <th>73</th>\n",
       "      <td>3747861</td>\n",
       "      <td>2020-12-05 11:41:26</td>\n",
       "      <td>2020-12-05 11:28:00</td>\n",
       "      <td>2020-12-05 11:58:00</td>\n",
       "      <td>NaN</td>\n",
       "      <td>NaN</td>\n",
       "      <td>경찰청(UTIC)</td>\n",
       "      <td>ACCIDENT</td>\n",
       "      <td>[사고] 동부간선도로 응봉교 에서 용비교 방향 3차로 교통사고 주의운전 서울청</td>\n",
       "      <td>[1030001902]</td>\n",
       "      <td>127.034802</td>\n",
       "      <td>37.546882</td>\n",
       "      <td>1030001902</td>\n",
       "    </tr>\n",
       "    <tr>\n",
       "      <th>62</th>\n",
       "      <td>3754433</td>\n",
       "      <td>2020-12-12 12:09:00</td>\n",
       "      <td>2020-12-12 12:07:00</td>\n",
       "      <td>2020-12-12 12:27:00</td>\n",
       "      <td>NaN</td>\n",
       "      <td>NaN</td>\n",
       "      <td>tbs 교통방송</td>\n",
       "      <td>ACCIDENT</td>\n",
       "      <td>동부간선도로 (의정부 → 성수대교) 응봉교부근 1차로 승용차관련 추돌사고 처리작업으...</td>\n",
       "      <td>[1030001902]</td>\n",
       "      <td>127.036087</td>\n",
       "      <td>37.547985</td>\n",
       "      <td>1030001902</td>\n",
       "    </tr>\n",
       "    <tr>\n",
       "      <th>2</th>\n",
       "      <td>3754936</td>\n",
       "      <td>2020-12-13 13:41:00</td>\n",
       "      <td>2020-12-13 13:38:00</td>\n",
       "      <td>2020-12-13 13:58:00</td>\n",
       "      <td>NaN</td>\n",
       "      <td>NaN</td>\n",
       "      <td>tbs 교통방송</td>\n",
       "      <td>ACCIDENT</td>\n",
       "      <td>동부간선도로 (의정부 → 성수대교) 응봉교 조금 지난 지점 4차로 승용차끼리 추돌사...</td>\n",
       "      <td>[1030001902]</td>\n",
       "      <td>127.035918</td>\n",
       "      <td>37.547823</td>\n",
       "      <td>1030001902</td>\n",
       "    </tr>\n",
       "    <tr>\n",
       "      <th>48</th>\n",
       "      <td>3755878</td>\n",
       "      <td>2020-12-14 16:07:00</td>\n",
       "      <td>2020-12-14 16:06:00</td>\n",
       "      <td>2020-12-14 16:26:00</td>\n",
       "      <td>NaN</td>\n",
       "      <td>NaN</td>\n",
       "      <td>tbs 교통방송</td>\n",
       "      <td>ACCIDENT</td>\n",
       "      <td>동부간선도로 (의정부 → 성수대교) 응봉교부근 4차로 승용차관련 추돌사고로 정체</td>\n",
       "      <td>[1030001902]</td>\n",
       "      <td>127.036325</td>\n",
       "      <td>37.548174</td>\n",
       "      <td>1030001902</td>\n",
       "    </tr>\n",
       "    <tr>\n",
       "      <th>44</th>\n",
       "      <td>3755890</td>\n",
       "      <td>2020-12-14 16:12:27</td>\n",
       "      <td>2020-12-14 16:03:00</td>\n",
       "      <td>2020-12-14 16:33:00</td>\n",
       "      <td>NaN</td>\n",
       "      <td>NaN</td>\n",
       "      <td>경찰청(UTIC)</td>\n",
       "      <td>ACCIDENT</td>\n",
       "      <td>[사고] 동부간선도로 성동교 에서 응봉교 방향 4차로 교통사고 승용차-승용차. 후미...</td>\n",
       "      <td>[1030001902]</td>\n",
       "      <td>127.038629</td>\n",
       "      <td>37.550296</td>\n",
       "      <td>1030001902</td>\n",
       "    </tr>\n",
       "    <tr>\n",
       "      <th>63</th>\n",
       "      <td>3766065</td>\n",
       "      <td>2020-12-28 14:21:00</td>\n",
       "      <td>2020-12-28 14:18:00</td>\n",
       "      <td>2020-12-28 14:38:00</td>\n",
       "      <td>NaN</td>\n",
       "      <td>NaN</td>\n",
       "      <td>tbs 교통방송</td>\n",
       "      <td>ACCIDENT</td>\n",
       "      <td>[사고] 동부간선도로 (의정부 → 성수대교) 응봉교부근 2차로 승용차,화물차 추돌사...</td>\n",
       "      <td>[1030001902]</td>\n",
       "      <td>127.036835</td>\n",
       "      <td>37.548521</td>\n",
       "      <td>1030001902</td>\n",
       "    </tr>\n",
       "    <tr>\n",
       "      <th>15</th>\n",
       "      <td>3770752</td>\n",
       "      <td>2021-01-05 14:22:00</td>\n",
       "      <td>2021-01-05 14:19:00</td>\n",
       "      <td>2021-01-05 14:45:00</td>\n",
       "      <td>NaN</td>\n",
       "      <td>NaN</td>\n",
       "      <td>tbs 교통방송</td>\n",
       "      <td>ACCIDENT</td>\n",
       "      <td>[사고] 동부간선도로 (의정부 → 성수대교) 응봉교부근 1차로 승용차관련 추돌사고로 정체</td>\n",
       "      <td>[1030001902]</td>\n",
       "      <td>127.034774</td>\n",
       "      <td>37.546886</td>\n",
       "      <td>1030001902</td>\n",
       "    </tr>\n",
       "    <tr>\n",
       "      <th>169</th>\n",
       "      <td>3773650</td>\n",
       "      <td>2021-01-10 13:07:00</td>\n",
       "      <td>2021-01-10 13:06:00</td>\n",
       "      <td>2021-01-10 13:26:00</td>\n",
       "      <td>NaN</td>\n",
       "      <td>NaN</td>\n",
       "      <td>tbs 교통방송</td>\n",
       "      <td>ACCIDENT</td>\n",
       "      <td>동부간선도로 (의정부 → 성수대교) 응봉교아래 하위2개차로 막고 승용차관련 추돌사고...</td>\n",
       "      <td>[1030001902]</td>\n",
       "      <td>127.036019</td>\n",
       "      <td>37.547913</td>\n",
       "      <td>1030001902</td>\n",
       "    </tr>\n",
       "    <tr>\n",
       "      <th>7</th>\n",
       "      <td>3777285</td>\n",
       "      <td>2021-01-15 11:29:00</td>\n",
       "      <td>2021-01-15 11:27:00</td>\n",
       "      <td>2021-01-15 11:47:00</td>\n",
       "      <td>NaN</td>\n",
       "      <td>NaN</td>\n",
       "      <td>tbs 교통방송</td>\n",
       "      <td>ACCIDENT</td>\n",
       "      <td>[사고] 동부간선도로 (의정부 → 성수대교) 성동교부근 2차로 승용차끼리 추돌사고로 정체</td>\n",
       "      <td>[1030001902]</td>\n",
       "      <td>127.042359</td>\n",
       "      <td>37.552002</td>\n",
       "      <td>1030001902</td>\n",
       "    </tr>\n",
       "    <tr>\n",
       "      <th>3</th>\n",
       "      <td>3783398</td>\n",
       "      <td>2021-01-25 12:57:00</td>\n",
       "      <td>2021-01-25 12:56:00</td>\n",
       "      <td>2021-01-25 13:16:00</td>\n",
       "      <td>NaN</td>\n",
       "      <td>NaN</td>\n",
       "      <td>tbs 교통방송</td>\n",
       "      <td>ACCIDENT</td>\n",
       "      <td>동부간선도로 (의정부 → 성수대교) 응봉교부근 3차로 승용차관련 추돌사고로 정체</td>\n",
       "      <td>[1030001902]</td>\n",
       "      <td>127.036019</td>\n",
       "      <td>37.547895</td>\n",
       "      <td>1030001902</td>\n",
       "    </tr>\n",
       "    <tr>\n",
       "      <th>45</th>\n",
       "      <td>3786257</td>\n",
       "      <td>2021-01-30 11:01:26</td>\n",
       "      <td>2021-01-30 10:47:00</td>\n",
       "      <td>2021-01-30 11:17:00</td>\n",
       "      <td>NaN</td>\n",
       "      <td>NaN</td>\n",
       "      <td>경찰청(UTIC)</td>\n",
       "      <td>ACCIDENT</td>\n",
       "      <td>[사고] 동부간선도로 성동교 에서 응봉교 방향 4차로 교통사고  서울청</td>\n",
       "      <td>[1030001902]</td>\n",
       "      <td>127.036835</td>\n",
       "      <td>37.548604</td>\n",
       "      <td>1030001902</td>\n",
       "    </tr>\n",
       "    <tr>\n",
       "      <th>148</th>\n",
       "      <td>3786941</td>\n",
       "      <td>2021-01-31 16:51:00</td>\n",
       "      <td>2021-01-31 16:49:00</td>\n",
       "      <td>2021-01-31 17:09:00</td>\n",
       "      <td>NaN</td>\n",
       "      <td>NaN</td>\n",
       "      <td>tbs 교통방송</td>\n",
       "      <td>ACCIDENT</td>\n",
       "      <td>동부간선도로 (의정부 → 성수대교) 응봉교부근 4차로 승용차관련 추돌사고로 또 다른...</td>\n",
       "      <td>[1030001902]</td>\n",
       "      <td>127.036019</td>\n",
       "      <td>37.547931</td>\n",
       "      <td>1030001902</td>\n",
       "    </tr>\n",
       "    <tr>\n",
       "      <th>134</th>\n",
       "      <td>3789029</td>\n",
       "      <td>2021-02-03 13:51:00</td>\n",
       "      <td>2021-02-03 13:49:00</td>\n",
       "      <td>2021-02-03 14:09:00</td>\n",
       "      <td>NaN</td>\n",
       "      <td>NaN</td>\n",
       "      <td>tbs 교통방송</td>\n",
       "      <td>ACCIDENT</td>\n",
       "      <td>동부간선도로 (의정부 → 성수대교) 성동교 조금 지난 지점 4차로 승용차관련 추돌사...</td>\n",
       "      <td>[1030001902]</td>\n",
       "      <td>127.040978</td>\n",
       "      <td>37.551606</td>\n",
       "      <td>1030001902</td>\n",
       "    </tr>\n",
       "    <tr>\n",
       "      <th>210</th>\n",
       "      <td>3797842</td>\n",
       "      <td>2021-02-18 20:41:19</td>\n",
       "      <td>2021-02-18 20:29:00</td>\n",
       "      <td>2021-02-18 20:59:00</td>\n",
       "      <td>NaN</td>\n",
       "      <td>NaN</td>\n",
       "      <td>경찰청(UTIC)</td>\n",
       "      <td>ACCIDENT</td>\n",
       "      <td>[사고] 동부간선도로 성동JC 에서 용비교 방향 1차로 교통사고 서울청</td>\n",
       "      <td>[1030001902]</td>\n",
       "      <td>127.042246</td>\n",
       "      <td>37.551925</td>\n",
       "      <td>1030001902</td>\n",
       "    </tr>\n",
       "    <tr>\n",
       "      <th>235</th>\n",
       "      <td>3797849</td>\n",
       "      <td>2021-02-18 20:51:00</td>\n",
       "      <td>2021-02-18 20:49:00</td>\n",
       "      <td>2021-02-18 21:09:00</td>\n",
       "      <td>NaN</td>\n",
       "      <td>NaN</td>\n",
       "      <td>tbs 교통방송</td>\n",
       "      <td>ACCIDENT</td>\n",
       "      <td>동부간선도로 (의정부 → 성수대교) 응봉교부근 1,2차로 추돌사고로 정체</td>\n",
       "      <td>[1030001902]</td>\n",
       "      <td>127.035997</td>\n",
       "      <td>37.547967</td>\n",
       "      <td>1030001902</td>\n",
       "    </tr>\n",
       "  </tbody>\n",
       "</table>\n",
       "</div>"
      ],
      "text/plain": [
       "     eventId              created          startExpect            endExpect  \\\n",
       "43   3676787  2020-09-18 13:40:21  2020-09-18 13:23:00  2020-09-18 13:53:00   \n",
       "107  3696850  2020-10-13 13:59:00  2020-10-13 13:58:00  2020-10-13 14:18:00   \n",
       "56   3734939  2020-11-22 14:11:00  2020-11-22 14:09:00  2020-11-22 14:29:00   \n",
       "75   3747858  2020-12-05 11:31:00  2020-12-05 11:30:00  2020-12-05 11:50:00   \n",
       "73   3747861  2020-12-05 11:41:26  2020-12-05 11:28:00  2020-12-05 11:58:00   \n",
       "62   3754433  2020-12-12 12:09:00  2020-12-12 12:07:00  2020-12-12 12:27:00   \n",
       "2    3754936  2020-12-13 13:41:00  2020-12-13 13:38:00  2020-12-13 13:58:00   \n",
       "48   3755878  2020-12-14 16:07:00  2020-12-14 16:06:00  2020-12-14 16:26:00   \n",
       "44   3755890  2020-12-14 16:12:27  2020-12-14 16:03:00  2020-12-14 16:33:00   \n",
       "63   3766065  2020-12-28 14:21:00  2020-12-28 14:18:00  2020-12-28 14:38:00   \n",
       "15   3770752  2021-01-05 14:22:00  2021-01-05 14:19:00  2021-01-05 14:45:00   \n",
       "169  3773650  2021-01-10 13:07:00  2021-01-10 13:06:00  2021-01-10 13:26:00   \n",
       "7    3777285  2021-01-15 11:29:00  2021-01-15 11:27:00  2021-01-15 11:47:00   \n",
       "3    3783398  2021-01-25 12:57:00  2021-01-25 12:56:00  2021-01-25 13:16:00   \n",
       "45   3786257  2021-01-30 11:01:26  2021-01-30 10:47:00  2021-01-30 11:17:00   \n",
       "148  3786941  2021-01-31 16:51:00  2021-01-31 16:49:00  2021-01-31 17:09:00   \n",
       "134  3789029  2021-02-03 13:51:00  2021-02-03 13:49:00  2021-02-03 14:09:00   \n",
       "210  3797842  2021-02-18 20:41:19  2021-02-18 20:29:00  2021-02-18 20:59:00   \n",
       "235  3797849  2021-02-18 20:51:00  2021-02-18 20:49:00  2021-02-18 21:09:00   \n",
       "\n",
       "    start  end         cp  category  \\\n",
       "43    NaN  NaN  경찰청(UTIC)  ACCIDENT   \n",
       "107   NaN  NaN   tbs 교통방송  ACCIDENT   \n",
       "56    NaN  NaN   tbs 교통방송  ACCIDENT   \n",
       "75    NaN  NaN   tbs 교통방송  ACCIDENT   \n",
       "73    NaN  NaN  경찰청(UTIC)  ACCIDENT   \n",
       "62    NaN  NaN   tbs 교통방송  ACCIDENT   \n",
       "2     NaN  NaN   tbs 교통방송  ACCIDENT   \n",
       "48    NaN  NaN   tbs 교통방송  ACCIDENT   \n",
       "44    NaN  NaN  경찰청(UTIC)  ACCIDENT   \n",
       "63    NaN  NaN   tbs 교통방송  ACCIDENT   \n",
       "15    NaN  NaN   tbs 교통방송  ACCIDENT   \n",
       "169   NaN  NaN   tbs 교통방송  ACCIDENT   \n",
       "7     NaN  NaN   tbs 교통방송  ACCIDENT   \n",
       "3     NaN  NaN   tbs 교통방송  ACCIDENT   \n",
       "45    NaN  NaN  경찰청(UTIC)  ACCIDENT   \n",
       "148   NaN  NaN   tbs 교통방송  ACCIDENT   \n",
       "134   NaN  NaN   tbs 교통방송  ACCIDENT   \n",
       "210   NaN  NaN  경찰청(UTIC)  ACCIDENT   \n",
       "235   NaN  NaN   tbs 교통방송  ACCIDENT   \n",
       "\n",
       "                                           description          sids  \\\n",
       "43             [사고] 동부간선도로 성동교 에서 응봉교 방향 3차로 교통사고 주의운전  [1030001902]   \n",
       "107  [사고] 동부간선도로 (의정부 → 성수대교) 응봉교부근 3차로 추돌사고 처리작업으로 서행  [1030001902]   \n",
       "56   동부간선도로 (의정부 → 성수대교) 응봉교부근 4차로 승용차끼리 추돌사고로 또 다른...  [1030001902]   \n",
       "75   동부간선도로 (의정부 → 성수대교) 응봉교부근 3차로 승용차끼리 추돌사고 처리작업으...  [1030001902]   \n",
       "73         [사고] 동부간선도로 응봉교 에서 용비교 방향 3차로 교통사고 주의운전 서울청  [1030001902]   \n",
       "62   동부간선도로 (의정부 → 성수대교) 응봉교부근 1차로 승용차관련 추돌사고 처리작업으...  [1030001902]   \n",
       "2    동부간선도로 (의정부 → 성수대교) 응봉교 조금 지난 지점 4차로 승용차끼리 추돌사...  [1030001902]   \n",
       "48        동부간선도로 (의정부 → 성수대교) 응봉교부근 4차로 승용차관련 추돌사고로 정체  [1030001902]   \n",
       "44   [사고] 동부간선도로 성동교 에서 응봉교 방향 4차로 교통사고 승용차-승용차. 후미...  [1030001902]   \n",
       "63   [사고] 동부간선도로 (의정부 → 성수대교) 응봉교부근 2차로 승용차,화물차 추돌사...  [1030001902]   \n",
       "15   [사고] 동부간선도로 (의정부 → 성수대교) 응봉교부근 1차로 승용차관련 추돌사고로 정체  [1030001902]   \n",
       "169  동부간선도로 (의정부 → 성수대교) 응봉교아래 하위2개차로 막고 승용차관련 추돌사고...  [1030001902]   \n",
       "7    [사고] 동부간선도로 (의정부 → 성수대교) 성동교부근 2차로 승용차끼리 추돌사고로 정체  [1030001902]   \n",
       "3         동부간선도로 (의정부 → 성수대교) 응봉교부근 3차로 승용차관련 추돌사고로 정체  [1030001902]   \n",
       "45             [사고] 동부간선도로 성동교 에서 응봉교 방향 4차로 교통사고  서울청  [1030001902]   \n",
       "148  동부간선도로 (의정부 → 성수대교) 응봉교부근 4차로 승용차관련 추돌사고로 또 다른...  [1030001902]   \n",
       "134  동부간선도로 (의정부 → 성수대교) 성동교 조금 지난 지점 4차로 승용차관련 추돌사...  [1030001902]   \n",
       "210            [사고] 동부간선도로 성동JC 에서 용비교 방향 1차로 교통사고 서울청  [1030001902]   \n",
       "235           동부간선도로 (의정부 → 성수대교) 응봉교부근 1,2차로 추돌사고로 정체  [1030001902]   \n",
       "\n",
       "            lng        lat  accident_sid  \n",
       "43   127.040537  37.551421    1030001902  \n",
       "107  127.040435  37.551444    1030001902  \n",
       "56   127.035929  37.547913    1030001902  \n",
       "75   127.036857  37.548634    1030001902  \n",
       "73   127.034802  37.546882    1030001902  \n",
       "62   127.036087  37.547985    1030001902  \n",
       "2    127.035918  37.547823    1030001902  \n",
       "48   127.036325  37.548174    1030001902  \n",
       "44   127.038629  37.550296    1030001902  \n",
       "63   127.036835  37.548521    1030001902  \n",
       "15   127.034774  37.546886    1030001902  \n",
       "169  127.036019  37.547913    1030001902  \n",
       "7    127.042359  37.552002    1030001902  \n",
       "3    127.036019  37.547895    1030001902  \n",
       "45   127.036835  37.548604    1030001902  \n",
       "148  127.036019  37.547931    1030001902  \n",
       "134  127.040978  37.551606    1030001902  \n",
       "210  127.042246  37.551925    1030001902  \n",
       "235  127.035997  37.547967    1030001902  "
      ]
     },
     "execution_count": 473,
     "metadata": {},
     "output_type": "execute_result"
    }
   ],
   "source": [
    "# accident_all['accident_sid'] = accident_all['sids'].apply(lambda s: s[0])\n",
    "accident_case = accident_all[accident_all.loc[:, 'accident_sid'] == 1030001902]\n",
    "accident_case\n"
   ]
  },
  {
   "cell_type": "code",
   "execution_count": null,
   "metadata": {},
   "outputs": [],
   "source": []
  },
  {
   "cell_type": "markdown",
   "metadata": {},
   "source": [
    "## Profile Extraction"
   ]
  },
  {
   "cell_type": "code",
   "execution_count": null,
   "metadata": {},
   "outputs": [],
   "source": [
    "def profile_extraction(speed_all):\n",
    "    # profile df\n",
    "    time_index = np.arange(datetime(2020, 10, 1), datetime(2021, 3, 1), timedelta(minutes=5)).astype(datetime)\n",
    "    date_index = np.arange(datetime(2020, 10, 1), datetime(2021, 3, 1), timedelta(days=1)).astype(datetime)\n",
    "    profile_df_all = pd.DataFrame(index=time_index, columns=speed_all.columns)\n",
    "\n",
    "    for date in (date_index):\n",
    "        profile = []\n",
    "        index_list = np.arange(date, date+timedelta(days=1), timedelta(minutes=5)).astype(datetime)\n",
    "        for d in [-28, -21, -14, -7]:\n",
    "            date_past = date + timedelta(days=d)\n",
    "            df = speed_all[(speed_all.index >= date_past) & (speed_all.index < date_past+timedelta(days=1))]\n",
    "            ## speed_all_df의 하루 스피드 데이터가 1440이 아닐때, nan값으로 채우기\n",
    "            if df.shape[0] != 288:\n",
    "                print('length error')\n",
    "                past_index_list = np.arange(date_past, date_past+timedelta(days=1), timedelta(minutes=5)).astype(datetime)\n",
    "                past_df = pd.DataFrame(index = past_index_list, columns = speed_all.columns)\n",
    "                pd.concat([df, past_df], axis=1).iloc[:, :len(speed_all.columns)]\n",
    "            profile.append(df.values)\n",
    "            \n",
    "        ## 4주 profile data 평균\n",
    "        if len(profile) > 0:\n",
    "            profile_mean = np.nanmean(profile, axis=0)\n",
    "            profile_df_all.loc[index_list, :] = profile_mean\n",
    "\n",
    "    return profile_df_all"
   ]
  },
  {
   "cell_type": "code",
   "execution_count": null,
   "metadata": {},
   "outputs": [],
   "source": [
    "## 일주일 단위 profile 구하기\n",
    "def profile_extraction2(speed_all):\n",
    "    # Day of Week => monday : 0, sunday : 6\n",
    "    speed_all['weekday'] = [s.weekday() for s in speed_all.index]\n",
    "    speed_all['timestamp'] = [s.time() for s in speed_all.index]\n",
    "    \n",
    "    profile_mean = speed_all.groupby(['weekday', 'timestamp']).mean()\n",
    "    profile_std = speed_all.groupby(['weekday', 'timestamp']).std()\n",
    "    \n",
    "    speed_all = speed_all.drop(['weekday', 'timestamp'], axis=1)\n",
    "    \n",
    "    return speed_all, profile_mean, profile_std"
   ]
  },
  {
   "cell_type": "markdown",
   "metadata": {},
   "source": [
    "## Incident Case"
   ]
  },
  {
   "cell_type": "code",
   "execution_count": null,
   "metadata": {},
   "outputs": [],
   "source": [
    "from networks_pyg.GCN import *\n",
    "from torch_geometric.utils.convert import from_networkx\n",
    "import torch.nn.functional as F"
   ]
  },
  {
   "cell_type": "code",
   "execution_count": 452,
   "metadata": {},
   "outputs": [],
   "source": [
    "target_sid = 1030001902\n",
    "accident_case = accident_all[accident_all.loc[:, 'accident_sid'] == target_sid]\n",
    "eventID = accident_case.eventId"
   ]
  },
  {
   "cell_type": "code",
   "execution_count": 343,
   "metadata": {},
   "outputs": [],
   "source": [
    "    eventID = str(eventID)\n",
    "\n",
    "    # accident info : 0 : description / 1 : sid / 2 : sid \n",
    "    # what sids?\n",
    "    with open(os.path.join(data_path, 'speeds', eventID, '{}.pickle'.format(eventID)), 'rb') as f:\n",
    "        accident_info = pickle.load(f)\n",
    "    G = nx.read_gpickle(os.path.join(data_path, 'speeds', eventID, '{}.gpickle'.format(eventID)))\n",
    "\n",
    "    sid_list = accident_info[1] + accident_info[2]\n",
    "    # speed_list = np.sort([f for f in os.listdir(os.path.join(data_path, 'speeds', eventID)) if f[-3:] == 'pkl'])\n",
    "\n",
    "    accident_sid = accident_info[0]['sids'][0]\n",
    "    accident_created = accident_info[0]['created']\n",
    "\n",
    "    # feature extraction\n",
    "    with open(os.path.join(data_extraction_path, eventID), 'rb') as f:\n",
    "        test = pickle.load(f)\n",
    "    speed_inflow = test['speed_inflow']\n",
    "    speed_outflow = test['speed_outflow']\n",
    "    path_inflow = test['path_inflow']\n",
    "    path_outflow = test['path_outflow']\n",
    "\n",
    "    speed_all = pd.concat([speed_inflow, speed_outflow], axis=1)\n",
    "    speed_all = speed_all.dropna(axis=1, how='all')\n",
    "    \n",
    "    tmp = speed_all[accident_sid].iloc[:, 0].values\n",
    "    speed_all = speed_all.drop([accident_sid], axis=1)\n",
    "    speed_all[accident_sid] = tmp\n",
    "\n",
    "    ## selected nodes\n",
    "    sid_list = list(set(list(speed_inflow.columns) + list(speed_outflow.columns) + [accident_sid]))\n",
    "    H = nx.subgraph(G, sid_list)\n",
    "\n",
    "    ## speed_all 5min rolling & normalize\n",
    "    speed_all = speed_all.resample(rule='5T').mean()\n",
    "#     scaler = StandardScaler() \n",
    "#     arr_scaled = scaler.fit_transform(speed_all) \n",
    "#     df_all_norm = pd.DataFrame(arr_scaled, columns=speed_all.columns,index=speed_all.index)\n",
    "\n",
    "    ## profile extraction\n",
    "#     profile_all = profile_extraction(df_all_norm)\n",
    "    speed_all, profile_mean, profile_std = profile_extraction2(speed_all)\n",
    "    \n",
    "    \n",
    "    ## profile normalization\n",
    "    date_index = np.arange(datetime(2020, 9, 2), datetime(2021, 3, 1), timedelta(days=1)).astype(datetime)\n",
    "    df_all_norm = speed_all.copy()\n",
    "\n",
    "    for date in date_index:\n",
    "        date_index = np.arange(date, date+timedelta(days=1), timedelta(minutes=5)).astype(datetime)\n",
    "        tmp = speed_all.loc[date_index]\n",
    "        weekday = date.weekday()\n",
    "        mean_tmp = profile_mean[288*weekday:288*(weekday+1)]\n",
    "        std_tmp = profile_std[288*weekday:288*(weekday+1)]\n",
    "\n",
    "        normalized = (tmp.values - mean_tmp) / std_tmp\n",
    "        df_all_norm.loc[date_index] = normalized.values\n",
    "\n",
    "    \n",
    "    labels = []\n",
    "    for ix, row in accident_case.iterrows():\n",
    "        accident_created = row['created']\n",
    "        min = accident_created.minute % 5\n",
    "        sec = accident_created.second\n",
    "        accident_pt = accident_created - timedelta(minutes=min, seconds=sec)\n",
    "        labels.append(list(map(int, (df_all_norm.index >= accident_pt+timedelta(minutes=-60)) & (df_all_norm.index < accident_pt+timedelta(minutes=240)))))\n",
    "    label_df = pd.DataFrame(list(map(int, (np.sum(labels, axis=0) > 0))), index=df_all_norm.index, columns=['label'])"
   ]
  },
  {
   "cell_type": "code",
   "execution_count": 344,
   "metadata": {},
   "outputs": [
    {
     "data": {
      "text/plain": [
       "label\n",
       "0        50875\n",
       "1          965\n",
       "dtype: int64"
      ]
     },
     "execution_count": 344,
     "metadata": {},
     "output_type": "execute_result"
    }
   ],
   "source": [
    "label_df.value_counts()"
   ]
  },
  {
   "cell_type": "code",
   "execution_count": 345,
   "metadata": {},
   "outputs": [
    {
     "data": {
      "image/png": "[encoded data removed]",
      "text/plain": [
       "<Figure size 2880x432 with 1 Axes>"
      ]
     },
     "metadata": {
      "needs_background": "light"
     },
     "output_type": "display_data"
    }
   ],
   "source": [
    "plt.figure(figsize=(40, 6))\n",
    "temp = label_df.iloc[20000:]\n",
    "plt.plot(df_all_norm[accident_sid].iloc[20000:])\n",
    "anomaly_times = label_df[label_df.label == 1].index\n",
    "for t in anomaly_times: \n",
    "    plt.axvline(t, color='red', alpha=0.3)"
   ]
  },
  {
   "cell_type": "code",
   "execution_count": 346,
   "metadata": {},
   "outputs": [],
   "source": [
    "train_df = df_all_norm[df_all_norm.index < datetime(2020, 11, 1)]\n",
    "test_df = df_all_norm[df_all_norm.index >= datetime(2020, 11, 1)]\n",
    "test_label = label_df[label_df.index >= datetime(2020, 11, 1)]\n",
    "train_df = train_df.fillna(0)\n",
    "test_df = test_df.fillna(0)"
   ]
  },
  {
   "cell_type": "code",
   "execution_count": 347,
   "metadata": {},
   "outputs": [
    {
     "name": "stderr",
     "output_type": "stream",
     "text": [
      "100%|██████████| 17268/17268 [00:18<00:00, 937.03it/s] \n"
     ]
    }
   ],
   "source": [
    "train_g_all = []\n",
    "for i in tqdm(range(len(train_df)-12)):  \n",
    "    node_features = train_df.iloc[i:i+12]\n",
    "    node_features = node_features[list(H.nodes)]\n",
    "    pyg_graph = from_networkx(H)\n",
    "    pyg_graph.x = torch.FloatTensor(node_features.T.values)\n",
    "    pyg_graph.y = torch.tensor([0])\n",
    "    train_g_all.append(pyg_graph)"
   ]
  },
  {
   "cell_type": "code",
   "execution_count": 348,
   "metadata": {},
   "outputs": [
    {
     "name": "stderr",
     "output_type": "stream",
     "text": [
      "100%|██████████| 34548/34548 [00:35<00:00, 978.43it/s] \n"
     ]
    }
   ],
   "source": [
    "test_g_all = []\n",
    "for i in tqdm(range(len(test_df)-12)):  \n",
    "    node_features = test_df.iloc[i:i+12]\n",
    "    node_features = node_features[list(H.nodes)]\n",
    "    pyg_graph = from_networkx(H)\n",
    "    pyg_graph.x = torch.FloatTensor(node_features.T.values)\n",
    "    pyg_graph.y = torch.tensor([test_label.iloc[i+12]])\n",
    "    test_g_all.append(pyg_graph)"
   ]
  },
  {
   "cell_type": "code",
   "execution_count": null,
   "metadata": {},
   "outputs": [],
   "source": []
  },
  {
   "cell_type": "markdown",
   "metadata": {},
   "source": [
    "# Model Test"
   ]
  },
  {
   "cell_type": "code",
   "execution_count": 349,
   "metadata": {},
   "outputs": [],
   "source": [
    "import argparse\n",
    "import logging\n",
    "import fire\n",
    "from torch_geometric.loader import DataLoader\n",
    "\n",
    "from datasets import Myloader\n",
    "from networks_pyg.init import init_model\n",
    "from optim.loss_my import anomaly_score\n",
    "from optim import Mytrainer\n",
    "\n",
    "from sklearn.metrics import *"
   ]
  },
  {
   "cell_type": "code",
   "execution_count": 350,
   "metadata": {},
   "outputs": [],
   "source": [
    "parser = argparse.ArgumentParser(description='OCGNN')\n",
    "parser.add_argument(\"--dataset\", type=str, default='cora',\n",
    "        help=\"dataset\")\n",
    "parser.add_argument(\"--dropout\", type=float, default=0.5,\n",
    "        help=\"dropout probability\")\n",
    "parser.add_argument(\"--nu\", type=float, default=0.1,\n",
    "        help=\"hyperparameter nu (must be 0 < nu <= 1)\")\n",
    "parser.add_argument(\"--gpu\", type=int, default=0,\n",
    "        help=\"gpu\")\n",
    "parser.add_argument(\"--seed\", type=int, default=52,\n",
    "        help=\"random seed, -1 means dont fix seed\")\n",
    "parser.add_argument(\"--module\", type=str, default='GraphSAGE',\n",
    "        help=\"GCN/GAT/GIN/GraphSAGE/GAE\")\n",
    "parser.add_argument('--n-worker', type=int,default=1,\n",
    "        help='number of workers when dataloading')\n",
    "parser.add_argument('--batch-size', type=int,default=128,\n",
    "        help='batch size')\n",
    "parser.add_argument(\"--lr\", type=float, default=1e-3,\n",
    "        help=\"learning rate\")\n",
    "parser.add_argument(\"--normal-class\", type=int, default=0,\n",
    "        help=\"normal class\")\n",
    "parser.add_argument(\"--n-epochs\", type=int, default=50,\n",
    "        help=\"number of training epochs\")\n",
    "parser.add_argument(\"--n-hidden\", type=int, default=32,\n",
    "        help=\"number of hidden gnn units\")\n",
    "parser.add_argument(\"--n-layers\", type=int, default=2,\n",
    "        help=\"number of hidden gnn layers\")\n",
    "parser.add_argument(\"--weight-decay\", type=float, default=5e-4,\n",
    "        help=\"Weight for L2 loss\")\n",
    "parser.add_argument('--early-stop', action='store_true', default=False,\n",
    "                    help=\"indicates whether to use early stop or not\")\n",
    "parser.add_argument(\"--self-loop\", action='store_true',\n",
    "        help=\"graph self-loop (default=False)\")\n",
    "parser.add_argument(\"--norm\", action='store_true',\n",
    "        help=\"graph normalization (default=False)\")\n",
    "parser.set_defaults(self_loop=True)\n",
    "parser.set_defaults(norm=False)\n",
    "# args = parser.parse_args()\n",
    "args = parser.parse_args(args=[])"
   ]
  },
  {
   "cell_type": "code",
   "execution_count": 351,
   "metadata": {},
   "outputs": [],
   "source": [
    "args.dataset = 'Accident_profile'\n",
    "args.module = 'GCN_gc'\n",
    "checkpoints_path=f'./checkpoints/{args.dataset}+OC-{args.module}+bestcheckpoint.pt'\n",
    "logging.basicConfig(filename=f\"./log/{args.dataset}+OC-{args.module}.log\",filemode=\"a\",format=\"%(asctime)s-%(name)s-%(levelname)s-%(message)s\",level=logging.INFO)\n",
    "logger=logging.getLogger('OCGNN')"
   ]
  },
  {
   "cell_type": "markdown",
   "metadata": {},
   "source": [
    "### Train"
   ]
  },
  {
   "cell_type": "code",
   "execution_count": 352,
   "metadata": {},
   "outputs": [
    {
     "name": "stdout",
     "output_type": "stream",
     "text": [
      "Parameter number of GCN_gc Net is: 7072\n"
     ]
    }
   ],
   "source": [
    "input_dim = 12\n",
    "model = init_model(args, input_dim)"
   ]
  },
  {
   "cell_type": "code",
   "execution_count": 353,
   "metadata": {},
   "outputs": [
    {
     "name": "stdout",
     "output_type": "stream",
     "text": [
      "new radius =  tensor(0.2346, device='cuda:0', dtype=torch.float64)\n",
      "Epoch 00000 | Time(s) 1.6183 | Train Loss 29993.6891 | Val Loss 5505.6525 | Val AUROC 0.4224 | \n",
      "Epoch 00001 | Time(s) 1.6949 | Train Loss 5505.6525 | Val Loss 5505.9883 | Val AUROC 0.4092 | \n",
      "Epoch 00002 | Time(s) 1.6921 | Train Loss 5505.6525 | Val Loss 5505.9795 | Val AUROC 0.4092 | \n",
      "Epoch 00003 | Time(s) 1.6896 | Train Loss 5505.6525 | Val Loss 5505.9706 | Val AUROC 0.4092 | \n",
      "Epoch 00004 | Time(s) 1.6731 | Train Loss 5505.6525 | Val Loss 5505.9619 | Val AUROC 0.4092 | \n",
      "new radius =  tensor(0.0647, device='cuda:0', dtype=torch.float64)\n",
      "Epoch 00005 | Time(s) 1.6489 | Train Loss 5505.6525 | Val Loss 662.4841 | Val AUROC 0.4092 | \n",
      "Epoch 00006 | Time(s) 1.6350 | Train Loss 418.4435 | Val Loss 418.9793 | Val AUROC 0.4548 | \n",
      "Epoch 00007 | Time(s) 1.6282 | Train Loss 418.4435 | Val Loss 418.6960 | Val AUROC 0.4546 | \n",
      "Epoch 00008 | Time(s) 1.6357 | Train Loss 418.4435 | Val Loss 418.6276 | Val AUROC 0.4544 | \n",
      "Epoch 00009 | Time(s) 1.6481 | Train Loss 418.4435 | Val Loss 418.6259 | Val AUROC 0.4544 | \n",
      "new radius =  tensor(0.0342, device='cuda:0', dtype=torch.float64)\n",
      "Epoch 00010 | Time(s) 1.6598 | Train Loss 418.4435 | Val Loss 177.6945 | Val AUROC 0.4543 | \n",
      "Epoch 00011 | Time(s) 1.6567 | Train Loss 116.9585 | Val Loss 117.1896 | Val AUROC 0.4534 | \n",
      "Epoch 00012 | Time(s) 1.6561 | Train Loss 116.9585 | Val Loss 117.0329 | Val AUROC 0.4522 | \n",
      "Epoch 00013 | Time(s) 1.6592 | Train Loss 116.9585 | Val Loss 117.0055 | Val AUROC 0.4514 | \n",
      "Epoch 00014 | Time(s) 1.6615 | Train Loss 116.9585 | Val Loss 117.0050 | Val AUROC 0.4514 | \n",
      "new radius =  tensor(0.0207, device='cuda:0', dtype=torch.float64)\n",
      "Epoch 00015 | Time(s) 1.6614 | Train Loss 116.9585 | Val Loss 51.6233 | Val AUROC 0.4514 | \n",
      "Epoch 00016 | Time(s) 1.6560 | Train Loss 3253.5318 | Val Loss 2554.7385 | Val AUROC 0.4162 | \n",
      "Epoch 00017 | Time(s) 1.6523 | Train Loss 273.7814 | Val Loss 148.2940 | Val AUROC 0.4023 | \n",
      "Epoch 00018 | Time(s) 1.6439 | Train Loss 245.9672 | Val Loss 884.1937 | Val AUROC 0.4136 | \n",
      "Epoch 00019 | Time(s) 1.6483 | Train Loss 50.7639 | Val Loss 63.9099 | Val AUROC 0.4503 | \n",
      "new radius =  tensor(0.0082, device='cuda:0', dtype=torch.float64)\n",
      "Epoch 00020 | Time(s) 1.6424 | Train Loss 42.7145 | Val Loss 10.7611 | Val AUROC 0.4300 | \n",
      "Epoch 00021 | Time(s) 1.6387 | Train Loss 43.6964 | Val Loss 6.9811 | Val AUROC 0.5293 | \n",
      "Epoch 00022 | Time(s) 1.6431 | Train Loss 6.7988 | Val Loss 6.8041 | Val AUROC 0.5027 | \n",
      "Epoch 00023 | Time(s) 1.6380 | Train Loss 6.7988 | Val Loss 6.8019 | Val AUROC 0.4629 | \n",
      "Epoch 00024 | Time(s) 1.6353 | Train Loss 6.7988 | Val Loss 6.8017 | Val AUROC 0.4632 | \n",
      "new radius =  tensor(0.0023, device='cuda:0', dtype=torch.float64)\n",
      "Epoch 00025 | Time(s) 1.6350 | Train Loss 6.7988 | Val Loss 1.3621 | Val AUROC 0.4636 | \n",
      "Epoch 00026 | Time(s) 1.6395 | Train Loss 4.1708 | Val Loss 1.0812 | Val AUROC 0.4901 | \n",
      "Epoch 00027 | Time(s) 1.6451 | Train Loss 5.5385 | Val Loss 13.6289 | Val AUROC 0.4086 | \n",
      "Epoch 00028 | Time(s) 1.6512 | Train Loss 28.3523 | Val Loss 76.8065 | Val AUROC 0.4026 | \n",
      "Epoch 00029 | Time(s) 1.6511 | Train Loss 13.9794 | Val Loss 30.0171 | Val AUROC 0.5257 | \n",
      "new radius =  tensor(0.0798, device='cuda:0', dtype=torch.float64)\n",
      "Epoch 00030 | Time(s) 1.6555 | Train Loss 2862.5604 | Val Loss 663.1176 | Val AUROC 0.4477 | \n",
      "Epoch 00031 | Time(s) 1.6534 | Train Loss 637.4826 | Val Loss 638.1453 | Val AUROC 0.4880 | \n",
      "Epoch 00032 | Time(s) 1.6506 | Train Loss 637.4826 | Val Loss 676.6940 | Val AUROC 0.4093 | \n",
      "Epoch 00033 | Time(s) 1.6456 | Train Loss 637.4826 | Val Loss 648.8126 | Val AUROC 0.4822 | \n",
      "Epoch 00034 | Time(s) 1.6413 | Train Loss 637.4826 | Val Loss 643.2327 | Val AUROC 0.4381 | \n",
      "new radius =  tensor(0.0279, device='cuda:0', dtype=torch.float64)\n",
      "Epoch 00035 | Time(s) 1.6379 | Train Loss 637.4826 | Val Loss 194.4274 | Val AUROC 0.4381 | \n",
      "Epoch 00036 | Time(s) 1.6361 | Train Loss 77.8236 | Val Loss 79.2051 | Val AUROC 0.4716 | \n",
      "Epoch 00037 | Time(s) 1.6387 | Train Loss 77.8236 | Val Loss 77.8260 | Val AUROC 0.4682 | \n",
      "Epoch 00038 | Time(s) 1.6385 | Train Loss 77.8236 | Val Loss 77.8259 | Val AUROC 0.4682 | \n",
      "Epoch 00039 | Time(s) 1.6289 | Train Loss 77.8236 | Val Loss 77.8259 | Val AUROC 0.4682 | \n",
      "new radius =  tensor(0.0125, device='cuda:0', dtype=torch.float64)\n",
      "Epoch 00040 | Time(s) 1.6209 | Train Loss 77.8236 | Val Loss 24.4428 | Val AUROC 0.4681 | \n",
      "Epoch 00041 | Time(s) 1.6136 | Train Loss 15.6746 | Val Loss 28.2167 | Val AUROC 0.4806 | \n",
      "Epoch 00042 | Time(s) 1.6084 | Train Loss 15.9164 | Val Loss 16.0012 | Val AUROC 0.4678 | \n",
      "Epoch 00043 | Time(s) 1.6053 | Train Loss 15.6746 | Val Loss 17.1612 | Val AUROC 0.4493 | \n",
      "Epoch 00044 | Time(s) 1.6018 | Train Loss 21.0070 | Val Loss 16.7681 | Val AUROC 0.4945 | \n",
      "new radius =  tensor(0.0102, device='cuda:0', dtype=torch.float64)\n",
      "Epoch 00045 | Time(s) 1.5977 | Train Loss 15.6746 | Val Loss 33.3756 | Val AUROC 0.4546 | \n",
      "Epoch 00046 | Time(s) 1.5918 | Train Loss 39.4475 | Val Loss 13.8650 | Val AUROC 0.4605 | \n",
      "Epoch 00047 | Time(s) 1.5872 | Train Loss 10.3882 | Val Loss 12.7639 | Val AUROC 0.4540 | \n",
      "Epoch 00048 | Time(s) 1.5831 | Train Loss 10.3882 | Val Loss 10.3902 | Val AUROC 0.4629 | \n",
      "Epoch 00049 | Time(s) 1.5815 | Train Loss 10.9140 | Val Loss 12.7722 | Val AUROC 0.4663 | \n",
      "model loaded.\n"
     ]
    },
    {
     "ename": "RuntimeError",
     "evalue": "Error(s) in loading state_dict for GCN_gc:\n\tMissing key(s) in state_dict: \"layers.0.bias\", \"layers.0.lin.weight\", \"layers.1.bias\", \"layers.1.lin.weight\", \"layers.2.bias\", \"layers.2.lin.weight\". \n\tUnexpected key(s) in state_dict: \"model\", \"data_center\", \"radius\", \"epoch\". ",
     "output_type": "error",
     "traceback": [
      "\u001b[0;31m---------------------------------------------------------------------------\u001b[0m",
      "\u001b[0;31mRuntimeError\u001b[0m                              Traceback (most recent call last)",
      "Cell \u001b[0;32mIn[353], line 6\u001b[0m\n\u001b[1;32m      2\u001b[0m val_loader \u001b[39m=\u001b[39m DataLoader(test_g_all, batch_size\u001b[39m=\u001b[39m\u001b[39m64\u001b[39m, shuffle\u001b[39m=\u001b[39m\u001b[39mFalse\u001b[39;00m)\n\u001b[1;32m      3\u001b[0m test_loader \u001b[39m=\u001b[39m DataLoader(test_g_all, batch_size\u001b[39m=\u001b[39m\u001b[39m64\u001b[39m, shuffle\u001b[39m=\u001b[39m\u001b[39mFalse\u001b[39;00m)\n\u001b[0;32m----> 6\u001b[0m model \u001b[39m=\u001b[39m Mytrainer\u001b[39m.\u001b[39;49mtrain(args, logger, train_loader, val_loader, test_loader, model, checkpoints_path)\n",
      "File \u001b[0;32m/media/usr/SSD/jiin/naver/Graph_Classification_Traffic/OCGNN/optim/Mytrainer.py:98\u001b[0m, in \u001b[0;36mtrain\u001b[0;34m(args, logger, train_loader, val_loader, test_loader, model, path)\u001b[0m\n\u001b[1;32m     94\u001b[0m     \u001b[39mprint\u001b[39m(\u001b[39m'\u001b[39m\u001b[39mloading model before testing.\u001b[39m\u001b[39m'\u001b[39m)\n\u001b[1;32m     95\u001b[0m     model\u001b[39m.\u001b[39mload_state_dict(torch\u001b[39m.\u001b[39mload(checkpoints_path))  \u001b[39m######################\u001b[39;00m\n\u001b[0;32m---> 98\u001b[0m auc,ap,f1,acc,precision,recall,loss \u001b[39m=\u001b[39m graph_anomaly_evaluate(args,checkpoints_path,model, data_center, test_loader, radius, mode\u001b[39m=\u001b[39;49m\u001b[39m'\u001b[39;49m\u001b[39mtest\u001b[39;49m\u001b[39m'\u001b[39;49m)\n\u001b[1;32m     99\u001b[0m test_dur \u001b[39m=\u001b[39m \u001b[39m0\u001b[39m\n\u001b[1;32m    100\u001b[0m arr_testauc[epoch]\u001b[39m=\u001b[39mauc\n",
      "File \u001b[0;32m/media/usr/SSD/jiin/naver/Graph_Classification_Traffic/OCGNN/utils/evaluate.py:48\u001b[0m, in \u001b[0;36mgraph_anomaly_evaluate\u001b[0;34m(args, path, model, data_center, dataloader, radius, mode)\u001b[0m\n\u001b[1;32m     46\u001b[0m \u001b[39mif\u001b[39;00m mode\u001b[39m==\u001b[39m\u001b[39m'\u001b[39m\u001b[39mtest\u001b[39m\u001b[39m'\u001b[39m:\n\u001b[1;32m     47\u001b[0m     \u001b[39mprint\u001b[39m(\u001b[39mf\u001b[39m\u001b[39m'\u001b[39m\u001b[39mmodel loaded.\u001b[39m\u001b[39m'\u001b[39m)\n\u001b[0;32m---> 48\u001b[0m     model\u001b[39m.\u001b[39;49mload_state_dict(torch\u001b[39m.\u001b[39;49mload(path))\n\u001b[1;32m     49\u001b[0m model\u001b[39m.\u001b[39meval()\n\u001b[1;32m     50\u001b[0m total_loss\u001b[39m=\u001b[39m\u001b[39m0\u001b[39m\n",
      "File \u001b[0;32m~/anaconda3/envs/traffic/lib/python3.9/site-packages/torch/nn/modules/module.py:2041\u001b[0m, in \u001b[0;36mModule.load_state_dict\u001b[0;34m(self, state_dict, strict)\u001b[0m\n\u001b[1;32m   2036\u001b[0m         error_msgs\u001b[39m.\u001b[39minsert(\n\u001b[1;32m   2037\u001b[0m             \u001b[39m0\u001b[39m, \u001b[39m'\u001b[39m\u001b[39mMissing key(s) in state_dict: \u001b[39m\u001b[39m{}\u001b[39;00m\u001b[39m. \u001b[39m\u001b[39m'\u001b[39m\u001b[39m.\u001b[39mformat(\n\u001b[1;32m   2038\u001b[0m                 \u001b[39m'\u001b[39m\u001b[39m, \u001b[39m\u001b[39m'\u001b[39m\u001b[39m.\u001b[39mjoin(\u001b[39m'\u001b[39m\u001b[39m\"\u001b[39m\u001b[39m{}\u001b[39;00m\u001b[39m\"\u001b[39m\u001b[39m'\u001b[39m\u001b[39m.\u001b[39mformat(k) \u001b[39mfor\u001b[39;00m k \u001b[39min\u001b[39;00m missing_keys)))\n\u001b[1;32m   2040\u001b[0m \u001b[39mif\u001b[39;00m \u001b[39mlen\u001b[39m(error_msgs) \u001b[39m>\u001b[39m \u001b[39m0\u001b[39m:\n\u001b[0;32m-> 2041\u001b[0m     \u001b[39mraise\u001b[39;00m \u001b[39mRuntimeError\u001b[39;00m(\u001b[39m'\u001b[39m\u001b[39mError(s) in loading state_dict for \u001b[39m\u001b[39m{}\u001b[39;00m\u001b[39m:\u001b[39m\u001b[39m\\n\u001b[39;00m\u001b[39m\\t\u001b[39;00m\u001b[39m{}\u001b[39;00m\u001b[39m'\u001b[39m\u001b[39m.\u001b[39mformat(\n\u001b[1;32m   2042\u001b[0m                        \u001b[39mself\u001b[39m\u001b[39m.\u001b[39m\u001b[39m__class__\u001b[39m\u001b[39m.\u001b[39m\u001b[39m__name__\u001b[39m, \u001b[39m\"\u001b[39m\u001b[39m\\n\u001b[39;00m\u001b[39m\\t\u001b[39;00m\u001b[39m\"\u001b[39m\u001b[39m.\u001b[39mjoin(error_msgs)))\n\u001b[1;32m   2043\u001b[0m \u001b[39mreturn\u001b[39;00m _IncompatibleKeys(missing_keys, unexpected_keys)\n",
      "\u001b[0;31mRuntimeError\u001b[0m: Error(s) in loading state_dict for GCN_gc:\n\tMissing key(s) in state_dict: \"layers.0.bias\", \"layers.0.lin.weight\", \"layers.1.bias\", \"layers.1.lin.weight\", \"layers.2.bias\", \"layers.2.lin.weight\". \n\tUnexpected key(s) in state_dict: \"model\", \"data_center\", \"radius\", \"epoch\". "
     ]
    }
   ],
   "source": [
    "train_loader = DataLoader(train_g_all, batch_size=64, shuffle=True)\n",
    "val_loader = DataLoader(test_g_all[], batch_size=64, shuffle=False)\n",
    "test_loader = DataLoader(test_g_all, batch_size=64, shuffle=False)\n",
    "\n",
    "\n",
    "model = Mytrainer.train(args, logger, train_loader, val_loader, test_loader, model, checkpoints_path)"
   ]
  },
  {
   "cell_type": "code",
   "execution_count": 354,
   "metadata": {},
   "outputs": [],
   "source": [
    "model.load_state_dict(torch.load(checkpoints_path)['model'])\n",
    "data_center = torch.load(checkpoints_path)['data_center']\n",
    "radius = torch.load(checkpoints_path)['radius']"
   ]
  },
  {
   "cell_type": "code",
   "execution_count": 355,
   "metadata": {},
   "outputs": [
    {
     "data": {
      "text/plain": [
       "(GCN_gc(\n",
       "   (layers): ModuleList(\n",
       "     (0): GCNConv(12, 64)\n",
       "     (1): GCNConv(64, 64)\n",
       "     (2): GCNConv(64, 32)\n",
       "   )\n",
       "   (dropout): Dropout(p=0.5, inplace=False)\n",
       " ),\n",
       " tensor([-0.0023,  0.0010,  0.0053,  0.0045, -0.0068, -0.0046, -0.0010, -0.0090,\n",
       "          0.0090, -0.0041, -0.0052, -0.0024,  0.0105,  0.0019,  0.0078,  0.0038,\n",
       "          0.0163,  0.0074, -0.0027, -0.0024, -0.0046, -0.0010, -0.0114,  0.0022,\n",
       "          0.0049,  0.0023, -0.0010, -0.0032,  0.0091, -0.0018, -0.0010,  0.0026],\n",
       "        device='cuda:0'),\n",
       " tensor(0.0082, device='cuda:0', dtype=torch.float64))"
      ]
     },
     "execution_count": 355,
     "metadata": {},
     "output_type": "execute_result"
    }
   ],
   "source": [
    "model, data_center, radius"
   ]
  },
  {
   "cell_type": "code",
   "execution_count": 419,
   "metadata": {},
   "outputs": [
    {
     "name": "stderr",
     "output_type": "stream",
     "text": [
      "100%|██████████| 34548/34548 [00:50<00:00, 686.13it/s]\n"
     ]
    }
   ],
   "source": [
    "out_all, dist_all, score_all = [], [], []\n",
    "for g in tqdm(test_g_all):\n",
    "    output = model(g.cuda())\n",
    "    out_all.append(output.cpu().detach().numpy())\n",
    "    dist, score = anomaly_score(data_center, output, radius)\n",
    "    dist_all.append(dist.cpu().detach().numpy()[0])\n",
    "    score_all.append(score.cpu().detach().numpy()[0])"
   ]
  },
  {
   "cell_type": "code",
   "execution_count": 420,
   "metadata": {},
   "outputs": [
    {
     "data": {
      "text/plain": [
       "<matplotlib.lines.Line2D at 0x7f1218dc14f0>"
      ]
     },
     "execution_count": 420,
     "metadata": {},
     "output_type": "execute_result"
    },
    {
     "data": {
      "image/png": "[encoded data removed]",
      "text/plain": [
       "<Figure size 432x288 with 1 Axes>"
      ]
     },
     "metadata": {
      "needs_background": "light"
     },
     "output_type": "display_data"
    }
   ],
   "source": [
    "plt.plot(score_all)\n",
    "plt.axhline(0, color='red')"
   ]
  },
  {
   "cell_type": "code",
   "execution_count": 433,
   "metadata": {},
   "outputs": [
    {
     "data": {
      "image/png": "[encoded data removed]",
      "text/plain": [
       "<Figure size 432x288 with 1 Axes>"
      ]
     },
     "metadata": {
      "needs_background": "light"
     },
     "output_type": "display_data"
    }
   ],
   "source": [
    "def Cumulative(lists, window=12):\n",
    "    cu_list = []\n",
    "    length = len(lists)\n",
    "    cu_list = [sum(lists[x-window:x]) for x in range(window, length)]\n",
    "    return cu_list + [0]*window\n",
    "\n",
    "plt.plot(Cumulative(score_all, window=2))\n",
    "cum_score = Cumulative(score_all, window=2)"
   ]
  },
  {
   "cell_type": "code",
   "execution_count": 434,
   "metadata": {},
   "outputs": [
    {
     "name": "stdout",
     "output_type": "stream",
     "text": [
      "              precision    recall  f1-score   support\n",
      "\n",
      "           0       0.98      0.99      0.98     33703\n",
      "           1       0.07      0.02      0.03       845\n",
      "\n",
      "    accuracy                           0.97     34548\n",
      "   macro avg       0.52      0.51      0.51     34548\n",
      "weighted avg       0.95      0.97      0.96     34548\n",
      "\n"
     ]
    }
   ],
   "source": [
    "true = test_label.iloc[:-12].values\n",
    "pred = list(map(int, [s>0 for s in score_all]))\n",
    "print(classification_report(true, pred))"
   ]
  },
  {
   "cell_type": "code",
   "execution_count": 435,
   "metadata": {},
   "outputs": [
    {
     "name": "stdout",
     "output_type": "stream",
     "text": [
      "              precision    recall  f1-score   support\n",
      "\n",
      "           0       0.99      0.99      0.99     33703\n",
      "           1       0.57      0.43      0.49       845\n",
      "\n",
      "    accuracy                           0.98     34548\n",
      "   macro avg       0.78      0.71      0.74     34548\n",
      "weighted avg       0.98      0.98      0.98     34548\n",
      "\n"
     ]
    }
   ],
   "source": [
    "pred_adjust = adjust_predictions(pred, true)\n",
    "print(classification_report(true, pred_adjust))"
   ]
  },
  {
   "cell_type": "code",
   "execution_count": 436,
   "metadata": {},
   "outputs": [
    {
     "name": "stdout",
     "output_type": "stream",
     "text": [
      "              precision    recall  f1-score   support\n",
      "\n",
      "           0       0.98      0.99      0.98     33703\n",
      "           1       0.06      0.02      0.03       845\n",
      "\n",
      "    accuracy                           0.97     34548\n",
      "   macro avg       0.52      0.51      0.51     34548\n",
      "weighted avg       0.95      0.97      0.96     34548\n",
      "\n"
     ]
    }
   ],
   "source": [
    "true = test_label.iloc[:-12].values\n",
    "pred = list(map(int, [s>0 for s in cum_score]))\n",
    "print(classification_report(true, pred))"
   ]
  },
  {
   "cell_type": "code",
   "execution_count": 437,
   "metadata": {},
   "outputs": [
    {
     "name": "stdout",
     "output_type": "stream",
     "text": [
      "              precision    recall  f1-score   support\n",
      "\n",
      "           0       0.99      0.99      0.99     33703\n",
      "           1       0.62      0.43      0.51       845\n",
      "\n",
      "    accuracy                           0.98     34548\n",
      "   macro avg       0.80      0.71      0.75     34548\n",
      "weighted avg       0.98      0.98      0.98     34548\n",
      "\n"
     ]
    }
   ],
   "source": [
    "pred_adjust = adjust_predictions(pred, true)\n",
    "print(classification_report(true, pred_adjust))"
   ]
  },
  {
   "cell_type": "code",
   "execution_count": 438,
   "metadata": {},
   "outputs": [
    {
     "data": {
      "text/plain": [
       "[<matplotlib.lines.Line2D at 0x7f1218cf4b80>]"
      ]
     },
     "execution_count": 438,
     "metadata": {},
     "output_type": "execute_result"
    },
    {
     "data": {
      "image/png": "[encoded data removed]",
      "text/plain": [
       "<Figure size 432x288 with 1 Axes>"
      ]
     },
     "metadata": {
      "needs_background": "light"
     },
     "output_type": "display_data"
    }
   ],
   "source": [
    "plt.plot(pred[20000:21000])\n",
    "plt.plot(true[20000:21000])"
   ]
  },
  {
   "cell_type": "code",
   "execution_count": 377,
   "metadata": {},
   "outputs": [
    {
     "data": {
      "text/plain": [
       "[<matplotlib.lines.Line2D at 0x7f11b94acfd0>]"
      ]
     },
     "execution_count": 377,
     "metadata": {},
     "output_type": "execute_result"
    },
    {
     "data": {
      "image/png": "[encoded data removed]",
      "text/plain": [
       "<Figure size 2880x360 with 1 Axes>"
      ]
     },
     "metadata": {
      "needs_background": "light"
     },
     "output_type": "display_data"
    }
   ],
   "source": [
    "plt.figure(figsize=(40, 5))\n",
    "plt.plot(true)\n",
    "plt.plot(pred)"
   ]
  },
  {
   "cell_type": "code",
   "execution_count": 375,
   "metadata": {},
   "outputs": [],
   "source": [
    "## https://github.com/mangushev/mtad-tf/blob/main/evaluate.py\n",
    "#just like onmianomaly, no delta. If we hit anuthing in anomaly interval, whole anomaly segment is correctly identified\n",
    "#-----------------------\n",
    "#1|0|1|1|1|0|0|0|1|1|1|1  Labels\n",
    "#-----------------------\n",
    "#0|0|0|1|1|0|0|0|0|0|1|0  Predictions\n",
    "#-----------------------\n",
    "#0|0|1|1|1|0|0|0|1|1|1|1  Adjusted\n",
    "#-----------------------\n",
    "def adjust_predictions(predictions, labels):\n",
    "  adjustment_started = False\n",
    "\n",
    "  for i in range(len(predictions)):\n",
    "    if labels[i] == 1:\n",
    "      if predictions[i] == 1:\n",
    "        if not adjustment_started:\n",
    "          adjustment_started = True\n",
    "          for j in range(i, 0, -1):\n",
    "            if labels[j] == 1:\n",
    "              predictions[j] = 1\n",
    "            else:\n",
    "              break\n",
    "    else:\n",
    "      adjustment_started = False\n",
    "\n",
    "    if adjustment_started:\n",
    "      predictions[i] = 1\n",
    "      \n",
    "  return predictions"
   ]
  },
  {
   "cell_type": "code",
   "execution_count": 379,
   "metadata": {},
   "outputs": [
    {
     "name": "stdout",
     "output_type": "stream",
     "text": [
      "AUC score =  0.7102252762426816\n",
      "              precision    recall  f1-score   support\n",
      "\n",
      "           0       0.99      0.99      0.99     33703\n",
      "           1       0.57      0.43      0.49       845\n",
      "\n",
      "    accuracy                           0.98     34548\n",
      "   macro avg       0.78      0.71      0.74     34548\n",
      "weighted avg       0.98      0.98      0.98     34548\n",
      "\n"
     ]
    },
    {
     "data": {
      "image/png": "[encoded data removed]",
      "text/plain": [
       "<Figure size 2880x360 with 1 Axes>"
      ]
     },
     "metadata": {
      "needs_background": "light"
     },
     "output_type": "display_data"
    }
   ],
   "source": [
    "pred_adjust = adjust_predictions(pred, true)\n",
    "plt.figure(figsize=(40, 5))\n",
    "plt.plot(true)\n",
    "plt.plot(pred_adjust)\n",
    "print('AUC score = ', roc_auc_score(true, pred_adjust))\n",
    "print(classification_report(true, pred_adjust))"
   ]
  },
  {
   "cell_type": "code",
   "execution_count": 378,
   "metadata": {},
   "outputs": [
    {
     "name": "stderr",
     "output_type": "stream",
     "text": [
      "Exception ignored on calling ctypes callback function: <function _ThreadpoolInfo._find_modules_with_dl_iterate_phdr.<locals>.match_module_callback at 0x7f11b94ba940>\n",
      "Traceback (most recent call last):\n",
      "  File \"/home/jiin/anaconda3/envs/traffic/lib/python3.9/site-packages/threadpoolctl.py\", line 400, in match_module_callback\n",
      "    self._make_module_from_path(filepath)\n",
      "  File \"/home/jiin/anaconda3/envs/traffic/lib/python3.9/site-packages/threadpoolctl.py\", line 515, in _make_module_from_path\n",
      "    module = module_class(filepath, prefix, user_api, internal_api)\n",
      "  File \"/home/jiin/anaconda3/envs/traffic/lib/python3.9/site-packages/threadpoolctl.py\", line 606, in __init__\n",
      "    self.version = self.get_version()\n",
      "  File \"/home/jiin/anaconda3/envs/traffic/lib/python3.9/site-packages/threadpoolctl.py\", line 646, in get_version\n",
      "    config = get_config().split()\n",
      "AttributeError: 'NoneType' object has no attribute 'split'\n"
     ]
    },
    {
     "data": {
      "image/png": "[encoded data removed]",
      "text/plain": [
       "<Figure size 432x288 with 1 Axes>"
      ]
     },
     "metadata": {
      "needs_background": "light"
     },
     "output_type": "display_data"
    }
   ],
   "source": [
    "from sklearn.manifold import TSNE\n",
    "\n",
    "tsne = TSNE(n_components=2)\n",
    "tsne_all = tsne.fit_transform(np.concatenate(out_all)[10000:20000])\n",
    "\n",
    "normal = np.where(true[10000:20000] == 0)\n",
    "abnormal = np.where(true[10000:20000] == 1)\n",
    "\n",
    "normal_tsne = tsne_all[normal[0]]\n",
    "abnormal_tsne = tsne_all[abnormal[0]]\n",
    "# for i in range(len(normal_tsne)):\n",
    "for i in range(1000):\n",
    "    plt.scatter(normal_tsne[i, 0], normal_tsne[i,1], color='tab:green', s=15)\n",
    "for i in range(len(abnormal_tsne)):\n",
    "    plt.scatter(abnormal_tsne[i, 0], abnormal_tsne[i,1], color='tab:red', s=7)\n",
    "\n",
    "# plt.xlim(-0.005, 0.005)\n",
    "# plt.ylim(-0.005, 0.005)\n",
    "plt.show()"
   ]
  },
  {
   "cell_type": "code",
   "execution_count": null,
   "metadata": {},
   "outputs": [],
   "source": []
  }
 ],
 "metadata": {
  "kernelspec": {
   "display_name": "traffic",
   "language": "python",
   "name": "traffic"
  },
  "language_info": {
   "codemirror_mode": {
    "name": "ipython",
    "version": 3
   },
   "file_extension": ".py",
   "mimetype": "text/x-python",
   "name": "python",
   "nbconvert_exporter": "python",
   "pygments_lexer": "ipython3",
   "version": "3.9.0"
  }
 },
 "nbformat": 4,
 "nbformat_minor": 4
}
