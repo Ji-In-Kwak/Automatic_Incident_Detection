{
 "cells": [
  {
   "cell_type": "code",
   "execution_count": 27,
   "id": "ba2b733a-0727-4e20-92ab-44c22f3dc45d",
   "metadata": {},
   "outputs": [],
   "source": [
    "import os\n",
    "import sys\n",
    "import numpy as np\n",
    "import pandas as pd\n",
    "import pickle\n",
    "from tqdm import tqdm\n",
    "import networkx as nx\n",
    "\n",
    "from sklearn.metrics import *\n",
    "import seaborn as sns\n",
    "import matplotlib.pyplot as plt\n",
    "from torch_geometric.utils.convert import from_networkx"
   ]
  },
  {
   "attachments": {},
   "cell_type": "markdown",
   "id": "86f997fd",
   "metadata": {},
   "source": [
    "## Data Loading"
   ]
  },
  {
   "cell_type": "code",
   "execution_count": 2,
   "id": "33415633-dc2a-4db2-a03e-547e280edecc",
   "metadata": {},
   "outputs": [],
   "source": [
    "target_sid = 1210005301\n",
    "dataset = '{}_mtsc'.format(target_sid)\n",
    "\n",
    "train = np.load('/media/usr/SSD/jiin/naver/Automatic_Incident_Detection/data/{}/train.npz'.format(dataset))\n",
    "val = np.load('/media/usr/SSD/jiin/naver/Automatic_Incident_Detection/data/{}/val.npz'.format(dataset))\n",
    "test = np.load('/media/usr/SSD/jiin/naver/Automatic_Incident_Detection/data/{}/test.npz'.format(dataset))\n"
   ]
  },
  {
   "cell_type": "code",
   "execution_count": 3,
   "id": "116d82e0-6bbf-4f83-b968-68c3b9c1c5ea",
   "metadata": {},
   "outputs": [],
   "source": [
    "H = nx.read_gpickle(\"/media/usr/SSD/jiin/naver/Automatic_Incident_Detection/data/{}/sensor_graph.gpickle\".format(dataset))"
   ]
  },
  {
   "cell_type": "code",
   "execution_count": 4,
   "id": "a4f62d00-a310-41b5-904c-7f7c72853ea9",
   "metadata": {},
   "outputs": [
    {
     "data": {
      "text/plain": [
       "((5296, 12, 25), (5296,))"
      ]
     },
     "execution_count": 4,
     "metadata": {},
     "output_type": "execute_result"
    }
   ],
   "source": [
    "train['x'].shape, train['y'].shape"
   ]
  },
  {
   "cell_type": "code",
   "execution_count": 5,
   "id": "bc107e4b-845b-4b30-a117-2f726d11a30e",
   "metadata": {},
   "outputs": [
    {
     "data": {
      "text/plain": [
       "((1708, 12, 25), (1708,))"
      ]
     },
     "execution_count": 5,
     "metadata": {},
     "output_type": "execute_result"
    }
   ],
   "source": [
    "test['x'].shape, test['y'].shape"
   ]
  },
  {
   "cell_type": "code",
   "execution_count": 6,
   "id": "a96fa89e-6254-4f89-bb15-832bbca06f89",
   "metadata": {},
   "outputs": [
    {
     "data": {
      "text/plain": [
       "(array([0, 1]), array([5178,  118]))"
      ]
     },
     "execution_count": 6,
     "metadata": {},
     "output_type": "execute_result"
    }
   ],
   "source": [
    "np.unique(train['y'], \n",
    "          return_counts = True) "
   ]
  },
  {
   "cell_type": "code",
   "execution_count": 7,
   "id": "fd2a0868-7c3d-4586-899f-466202412a4a",
   "metadata": {},
   "outputs": [
    {
     "data": {
      "text/plain": [
       "(array([0, 1]), array([1401,  307]))"
      ]
     },
     "execution_count": 7,
     "metadata": {},
     "output_type": "execute_result"
    }
   ],
   "source": [
    "np.unique(test['y'], \n",
    "          return_counts = True) "
   ]
  },
  {
   "cell_type": "code",
   "execution_count": 8,
   "id": "6f714369-cf8b-4b0f-a29d-8565cf9655c2",
   "metadata": {},
   "outputs": [
    {
     "data": {
      "text/plain": [
       "(5296, 300)"
      ]
     },
     "execution_count": 8,
     "metadata": {},
     "output_type": "execute_result"
    }
   ],
   "source": [
    "train['x'].reshape(train['x'].shape[0], -1).shape"
   ]
  },
  {
   "cell_type": "code",
   "execution_count": 9,
   "id": "3dcfbed9",
   "metadata": {},
   "outputs": [],
   "source": [
    "def evaluate(true, pred, score, adjust = False, plot=False, print_=False):\n",
    "#     true = label_all\n",
    "#     pred = list(map(int, [s>0 for s in score_all]))\n",
    "    # if adjust:\n",
    "    #     pred = adjust_predictions(pred, true)\n",
    "    CM = confusion_matrix(true, pred)\n",
    "    TN = CM[0][0]\n",
    "    FN = CM[1][0]\n",
    "    TP = CM[1][1]\n",
    "    FP = CM[0][1]\n",
    "    acc = accuracy_score(true, pred)\n",
    "    # auc = roc_auc_score(true, pred)\n",
    "    auc = roc_auc_score(true, score)\n",
    "#     far = FP / (FP+TN)\n",
    "    far = FP / (TP+FP)\n",
    "    pre = precision_score(true, pred, pos_label=1)\n",
    "    rec = recall_score(true, pred, pos_label=1)\n",
    "    macro_f1 = f1_score(true, pred, average='macro')\n",
    "    weighted_f1 = f1_score(true, pred, average='weighted')\n",
    "    ap = average_precision_score(true, score)\n",
    "    # ap = average_precision_score(true, pred)\n",
    "    if plot:\n",
    "        plt.figure(figsize=(40, 5))\n",
    "        plt.plot(true)\n",
    "        plt.plot(pred)\n",
    "    if print_:\n",
    "        print('Accuracy \\t{:.4f}'.format(acc))\n",
    "        print('AUC score \\t{:.4f}'.format(auc))\n",
    "        print('FAR score \\t{:.4f}'.format(far))\n",
    "        print('Precision \\t{:.4f}'.format(pre))\n",
    "        print('Recall   \\t{:.4f}'.format(rec))\n",
    "        print('Macro F1 \\t{:.4f}'.format(macro_f1))\n",
    "        print('weighted F1 \\t{:.4f}'.format(weighted_f1))\n",
    "        print('Avg Precision \\t{:.4f}'.format(ap))\n",
    "        print(classification_report(true, pred))\n",
    "    return [acc, auc, far, pre, rec, macro_f1, weighted_f1, ap]\n"
   ]
  },
  {
   "attachments": {},
   "cell_type": "markdown",
   "id": "7680b033-5454-447d-b313-84abb27ac4e1",
   "metadata": {},
   "source": [
    "## SVM"
   ]
  },
  {
   "cell_type": "code",
   "execution_count": 11,
   "id": "541f5542-4788-4342-bf98-e2faa79d67ab",
   "metadata": {},
   "outputs": [
    {
     "data": {
      "text/html": [
       "<style>#sk-container-id-1 {color: black;background-color: white;}#sk-container-id-1 pre{padding: 0;}#sk-container-id-1 div.sk-toggleable {background-color: white;}#sk-container-id-1 label.sk-toggleable__label {cursor: pointer;display: block;width: 100%;margin-bottom: 0;padding: 0.3em;box-sizing: border-box;text-align: center;}#sk-container-id-1 label.sk-toggleable__label-arrow:before {content: \"▸\";float: left;margin-right: 0.25em;color: #696969;}#sk-container-id-1 label.sk-toggleable__label-arrow:hover:before {color: black;}#sk-container-id-1 div.sk-estimator:hover label.sk-toggleable__label-arrow:before {color: black;}#sk-container-id-1 div.sk-toggleable__content {max-height: 0;max-width: 0;overflow: hidden;text-align: left;background-color: #f0f8ff;}#sk-container-id-1 div.sk-toggleable__content pre {margin: 0.2em;color: black;border-radius: 0.25em;background-color: #f0f8ff;}#sk-container-id-1 input.sk-toggleable__control:checked~div.sk-toggleable__content {max-height: 200px;max-width: 100%;overflow: auto;}#sk-container-id-1 input.sk-toggleable__control:checked~label.sk-toggleable__label-arrow:before {content: \"▾\";}#sk-container-id-1 div.sk-estimator input.sk-toggleable__control:checked~label.sk-toggleable__label {background-color: #d4ebff;}#sk-container-id-1 div.sk-label input.sk-toggleable__control:checked~label.sk-toggleable__label {background-color: #d4ebff;}#sk-container-id-1 input.sk-hidden--visually {border: 0;clip: rect(1px 1px 1px 1px);clip: rect(1px, 1px, 1px, 1px);height: 1px;margin: -1px;overflow: hidden;padding: 0;position: absolute;width: 1px;}#sk-container-id-1 div.sk-estimator {font-family: monospace;background-color: #f0f8ff;border: 1px dotted black;border-radius: 0.25em;box-sizing: border-box;margin-bottom: 0.5em;}#sk-container-id-1 div.sk-estimator:hover {background-color: #d4ebff;}#sk-container-id-1 div.sk-parallel-item::after {content: \"\";width: 100%;border-bottom: 1px solid gray;flex-grow: 1;}#sk-container-id-1 div.sk-label:hover label.sk-toggleable__label {background-color: #d4ebff;}#sk-container-id-1 div.sk-serial::before {content: \"\";position: absolute;border-left: 1px solid gray;box-sizing: border-box;top: 0;bottom: 0;left: 50%;z-index: 0;}#sk-container-id-1 div.sk-serial {display: flex;flex-direction: column;align-items: center;background-color: white;padding-right: 0.2em;padding-left: 0.2em;position: relative;}#sk-container-id-1 div.sk-item {position: relative;z-index: 1;}#sk-container-id-1 div.sk-parallel {display: flex;align-items: stretch;justify-content: center;background-color: white;position: relative;}#sk-container-id-1 div.sk-item::before, #sk-container-id-1 div.sk-parallel-item::before {content: \"\";position: absolute;border-left: 1px solid gray;box-sizing: border-box;top: 0;bottom: 0;left: 50%;z-index: -1;}#sk-container-id-1 div.sk-parallel-item {display: flex;flex-direction: column;z-index: 1;position: relative;background-color: white;}#sk-container-id-1 div.sk-parallel-item:first-child::after {align-self: flex-end;width: 50%;}#sk-container-id-1 div.sk-parallel-item:last-child::after {align-self: flex-start;width: 50%;}#sk-container-id-1 div.sk-parallel-item:only-child::after {width: 0;}#sk-container-id-1 div.sk-dashed-wrapped {border: 1px dashed gray;margin: 0 0.4em 0.5em 0.4em;box-sizing: border-box;padding-bottom: 0.4em;background-color: white;}#sk-container-id-1 div.sk-label label {font-family: monospace;font-weight: bold;display: inline-block;line-height: 1.2em;}#sk-container-id-1 div.sk-label-container {text-align: center;}#sk-container-id-1 div.sk-container {/* jupyter's `normalize.less` sets `[hidden] { display: none; }` but bootstrap.min.css set `[hidden] { display: none !important; }` so we also need the `!important` here to be able to override the default hidden behavior on the sphinx rendered scikit-learn.org. See: https://github.com/scikit-learn/scikit-learn/issues/21755 */display: inline-block !important;position: relative;}#sk-container-id-1 div.sk-text-repr-fallback {display: none;}</style><div id=\"sk-container-id-1\" class=\"sk-top-container\"><div class=\"sk-text-repr-fallback\"><pre>SVC(probability=True)</pre><b>In a Jupyter environment, please rerun this cell to show the HTML representation or trust the notebook. <br />On GitHub, the HTML representation is unable to render, please try loading this page with nbviewer.org.</b></div><div class=\"sk-container\" hidden><div class=\"sk-item\"><div class=\"sk-estimator sk-toggleable\"><input class=\"sk-toggleable__control sk-hidden--visually\" id=\"sk-estimator-id-1\" type=\"checkbox\" checked><label for=\"sk-estimator-id-1\" class=\"sk-toggleable__label sk-toggleable__label-arrow\">SVC</label><div class=\"sk-toggleable__content\"><pre>SVC(probability=True)</pre></div></div></div></div></div>"
      ],
      "text/plain": [
       "SVC(probability=True)"
      ]
     },
     "execution_count": 11,
     "metadata": {},
     "output_type": "execute_result"
    }
   ],
   "source": [
    "from sklearn.svm import SVC\n",
    "\n",
    "clf = SVC(probability=True)\n",
    "clf.fit(train['x'].reshape(train['x'].shape[0], -1), train['y'])"
   ]
  },
  {
   "cell_type": "code",
   "execution_count": 12,
   "id": "b8c23071-3f84-4d1e-8447-fbe1c1e721ed",
   "metadata": {},
   "outputs": [],
   "source": [
    "true = test['y']\n",
    "pred = clf.predict(test['x'].reshape(test['x'].shape[0], -1))\n",
    "score = clf.predict_proba(test['x'].reshape(test['x'].shape[0], -1))[:, 1]"
   ]
  },
  {
   "cell_type": "code",
   "execution_count": 13,
   "id": "2cded1bc-b23f-4e44-9846-e9e10479dc9a",
   "metadata": {},
   "outputs": [
    {
     "data": {
      "text/plain": [
       "(1708,)"
      ]
     },
     "execution_count": 13,
     "metadata": {},
     "output_type": "execute_result"
    }
   ],
   "source": [
    "pred.shape"
   ]
  },
  {
   "cell_type": "code",
   "execution_count": 14,
   "id": "5f7c7e76-5f75-49d3-9009-aa30c7afd0ee",
   "metadata": {},
   "outputs": [
    {
     "name": "stdout",
     "output_type": "stream",
     "text": [
      "              precision    recall  f1-score   support\n",
      "\n",
      "           0       0.94      1.00      0.97      1401\n",
      "           1       1.00      0.69      0.82       307\n",
      "\n",
      "    accuracy                           0.94      1708\n",
      "   macro avg       0.97      0.85      0.89      1708\n",
      "weighted avg       0.95      0.94      0.94      1708\n",
      "\n",
      "0.8452768729641693\n",
      "0.9587986245283149\n"
     ]
    }
   ],
   "source": [
    "print(classification_report(true, pred))\n",
    "print(roc_auc_score(true, pred))\n",
    "print(roc_auc_score(true, score))"
   ]
  },
  {
   "cell_type": "code",
   "execution_count": 15,
   "id": "88fd6aee-9709-4150-8a12-375b40141a3b",
   "metadata": {},
   "outputs": [
    {
     "data": {
      "text/plain": [
       "[<matplotlib.lines.Line2D at 0x7fb884313790>]"
      ]
     },
     "execution_count": 15,
     "metadata": {},
     "output_type": "execute_result"
    },
    {
     "data": {
      "image/png": "[encoded data removed]",
      "text/plain": [
       "<Figure size 1440x288 with 1 Axes>"
      ]
     },
     "metadata": {
      "needs_background": "light"
     },
     "output_type": "display_data"
    }
   ],
   "source": [
    "plt.figure(figsize=(20,4))\n",
    "plt.plot(true)\n",
    "plt.plot(pred)"
   ]
  },
  {
   "cell_type": "code",
   "execution_count": 14,
   "id": "aa2fdee5-9c4e-4bc4-b027-89ace9cf721e",
   "metadata": {},
   "outputs": [
    {
     "data": {
      "image/png": "[encoded data removed]",
      "text/plain": [
       "<Figure size 432x288 with 2 Axes>"
      ]
     },
     "metadata": {
      "needs_background": "light"
     },
     "output_type": "display_data"
    }
   ],
   "source": [
    "cm = confusion_matrix(true, pred)\n",
    "sns.heatmap(cm, annot=True, fmt='d', cmap='Blues')\n",
    "plt.xlabel('pred')\n",
    "plt.ylabel('true')\n",
    "plt.show()"
   ]
  },
  {
   "attachments": {},
   "cell_type": "markdown",
   "id": "b7dc3372-1d04-4796-b940-13766131536a",
   "metadata": {},
   "source": [
    "## MLP"
   ]
  },
  {
   "cell_type": "code",
   "execution_count": 10,
   "id": "1d8051c4-9771-4520-8e4e-e752d9c8d6a6",
   "metadata": {},
   "outputs": [
    {
     "data": {
      "text/html": [
       "<style>#sk-container-id-1 {color: black;background-color: white;}#sk-container-id-1 pre{padding: 0;}#sk-container-id-1 div.sk-toggleable {background-color: white;}#sk-container-id-1 label.sk-toggleable__label {cursor: pointer;display: block;width: 100%;margin-bottom: 0;padding: 0.3em;box-sizing: border-box;text-align: center;}#sk-container-id-1 label.sk-toggleable__label-arrow:before {content: \"▸\";float: left;margin-right: 0.25em;color: #696969;}#sk-container-id-1 label.sk-toggleable__label-arrow:hover:before {color: black;}#sk-container-id-1 div.sk-estimator:hover label.sk-toggleable__label-arrow:before {color: black;}#sk-container-id-1 div.sk-toggleable__content {max-height: 0;max-width: 0;overflow: hidden;text-align: left;background-color: #f0f8ff;}#sk-container-id-1 div.sk-toggleable__content pre {margin: 0.2em;color: black;border-radius: 0.25em;background-color: #f0f8ff;}#sk-container-id-1 input.sk-toggleable__control:checked~div.sk-toggleable__content {max-height: 200px;max-width: 100%;overflow: auto;}#sk-container-id-1 input.sk-toggleable__control:checked~label.sk-toggleable__label-arrow:before {content: \"▾\";}#sk-container-id-1 div.sk-estimator input.sk-toggleable__control:checked~label.sk-toggleable__label {background-color: #d4ebff;}#sk-container-id-1 div.sk-label input.sk-toggleable__control:checked~label.sk-toggleable__label {background-color: #d4ebff;}#sk-container-id-1 input.sk-hidden--visually {border: 0;clip: rect(1px 1px 1px 1px);clip: rect(1px, 1px, 1px, 1px);height: 1px;margin: -1px;overflow: hidden;padding: 0;position: absolute;width: 1px;}#sk-container-id-1 div.sk-estimator {font-family: monospace;background-color: #f0f8ff;border: 1px dotted black;border-radius: 0.25em;box-sizing: border-box;margin-bottom: 0.5em;}#sk-container-id-1 div.sk-estimator:hover {background-color: #d4ebff;}#sk-container-id-1 div.sk-parallel-item::after {content: \"\";width: 100%;border-bottom: 1px solid gray;flex-grow: 1;}#sk-container-id-1 div.sk-label:hover label.sk-toggleable__label {background-color: #d4ebff;}#sk-container-id-1 div.sk-serial::before {content: \"\";position: absolute;border-left: 1px solid gray;box-sizing: border-box;top: 0;bottom: 0;left: 50%;z-index: 0;}#sk-container-id-1 div.sk-serial {display: flex;flex-direction: column;align-items: center;background-color: white;padding-right: 0.2em;padding-left: 0.2em;position: relative;}#sk-container-id-1 div.sk-item {position: relative;z-index: 1;}#sk-container-id-1 div.sk-parallel {display: flex;align-items: stretch;justify-content: center;background-color: white;position: relative;}#sk-container-id-1 div.sk-item::before, #sk-container-id-1 div.sk-parallel-item::before {content: \"\";position: absolute;border-left: 1px solid gray;box-sizing: border-box;top: 0;bottom: 0;left: 50%;z-index: -1;}#sk-container-id-1 div.sk-parallel-item {display: flex;flex-direction: column;z-index: 1;position: relative;background-color: white;}#sk-container-id-1 div.sk-parallel-item:first-child::after {align-self: flex-end;width: 50%;}#sk-container-id-1 div.sk-parallel-item:last-child::after {align-self: flex-start;width: 50%;}#sk-container-id-1 div.sk-parallel-item:only-child::after {width: 0;}#sk-container-id-1 div.sk-dashed-wrapped {border: 1px dashed gray;margin: 0 0.4em 0.5em 0.4em;box-sizing: border-box;padding-bottom: 0.4em;background-color: white;}#sk-container-id-1 div.sk-label label {font-family: monospace;font-weight: bold;display: inline-block;line-height: 1.2em;}#sk-container-id-1 div.sk-label-container {text-align: center;}#sk-container-id-1 div.sk-container {/* jupyter's `normalize.less` sets `[hidden] { display: none; }` but bootstrap.min.css set `[hidden] { display: none !important; }` so we also need the `!important` here to be able to override the default hidden behavior on the sphinx rendered scikit-learn.org. See: https://github.com/scikit-learn/scikit-learn/issues/21755 */display: inline-block !important;position: relative;}#sk-container-id-1 div.sk-text-repr-fallback {display: none;}</style><div id=\"sk-container-id-1\" class=\"sk-top-container\"><div class=\"sk-text-repr-fallback\"><pre>MLPClassifier(hidden_layer_sizes=(64, 64))</pre><b>In a Jupyter environment, please rerun this cell to show the HTML representation or trust the notebook. <br />On GitHub, the HTML representation is unable to render, please try loading this page with nbviewer.org.</b></div><div class=\"sk-container\" hidden><div class=\"sk-item\"><div class=\"sk-estimator sk-toggleable\"><input class=\"sk-toggleable__control sk-hidden--visually\" id=\"sk-estimator-id-1\" type=\"checkbox\" checked><label for=\"sk-estimator-id-1\" class=\"sk-toggleable__label sk-toggleable__label-arrow\">MLPClassifier</label><div class=\"sk-toggleable__content\"><pre>MLPClassifier(hidden_layer_sizes=(64, 64))</pre></div></div></div></div></div>"
      ],
      "text/plain": [
       "MLPClassifier(hidden_layer_sizes=(64, 64))"
      ]
     },
     "execution_count": 10,
     "metadata": {},
     "output_type": "execute_result"
    }
   ],
   "source": [
    "### MLP\n",
    "from sklearn.neural_network import MLPClassifier\n",
    "\n",
    "clf = MLPClassifier(hidden_layer_sizes=(64, 64))\n",
    "clf.fit(train['x'].reshape(train['x'].shape[0], -1), train['y'])"
   ]
  },
  {
   "cell_type": "code",
   "execution_count": 11,
   "id": "cf5089af-b13a-4f38-984a-60676f7881eb",
   "metadata": {},
   "outputs": [
    {
     "name": "stdout",
     "output_type": "stream",
     "text": [
      "              precision    recall  f1-score   support\n",
      "\n",
      "           0       0.93      1.00      0.96      1401\n",
      "           1       1.00      0.63      0.77       307\n",
      "\n",
      "    accuracy                           0.93      1708\n",
      "   macro avg       0.96      0.82      0.87      1708\n",
      "weighted avg       0.94      0.93      0.93      1708\n",
      "\n",
      "0.8159609120521172 0.9949454438081686\n",
      "0.6980810746897146 0.9815084987308674\n"
     ]
    }
   ],
   "source": [
    "true = test['y']\n",
    "pred = clf.predict(test['x'].reshape(test['x'].shape[0], -1))\n",
    "score = clf.predict_proba(test['x'].reshape(test['x'].shape[0], -1))[:, 1]\n",
    "\n",
    "print(classification_report(true, pred))\n",
    "print(roc_auc_score(true, pred), roc_auc_score(true, score))\n",
    "print(average_precision_score(true, pred), average_precision_score(true, score))"
   ]
  },
  {
   "cell_type": "code",
   "execution_count": 12,
   "id": "f9b0dbe9-d0f4-4937-8b63-de7bc6f3d8fb",
   "metadata": {},
   "outputs": [
    {
     "data": {
      "text/plain": [
       "array([9.96119883e-01, 9.96403387e-01, 9.96720667e-01, ...,\n",
       "       9.74478983e-09, 9.50875425e-08, 7.82784739e-07])"
      ]
     },
     "execution_count": 12,
     "metadata": {},
     "output_type": "execute_result"
    }
   ],
   "source": [
    "clf.predict_proba(test['x'].reshape(test['x'].shape[0], -1))[:, 1]"
   ]
  },
  {
   "cell_type": "code",
   "execution_count": null,
   "id": "8097c760-1b8e-4acf-b9c8-a3dfc2d98bb7",
   "metadata": {},
   "outputs": [],
   "source": []
  },
  {
   "cell_type": "code",
   "execution_count": 13,
   "id": "9c9c8943-9e50-4905-9af7-7c98857195ed",
   "metadata": {},
   "outputs": [
    {
     "data": {
      "image/png": "[encoded data removed]",
      "text/plain": [
       "<Figure size 640x480 with 2 Axes>"
      ]
     },
     "metadata": {},
     "output_type": "display_data"
    }
   ],
   "source": [
    "cm = confusion_matrix(true, pred)\n",
    "sns.heatmap(cm, annot=True, fmt='d', cmap='Blues')\n",
    "plt.xlabel('pred')\n",
    "plt.ylabel('true')\n",
    "plt.show()"
   ]
  },
  {
   "attachments": {},
   "cell_type": "markdown",
   "id": "bec0c6e6",
   "metadata": {},
   "source": [
    "## OCSVM"
   ]
  },
  {
   "cell_type": "code",
   "execution_count": 14,
   "id": "2e90f38c",
   "metadata": {},
   "outputs": [],
   "source": [
    "# DATA\n",
    "train_data = train['x'].reshape(train['x'].shape[0], -1)  ## (n_samples, seq_len * n_node)\n",
    "test_data = test['x'].reshape(test['x'].shape[0], -1)\n",
    "\n",
    "train_label = train['y']\n",
    "test_label = test['y']"
   ]
  },
  {
   "cell_type": "code",
   "execution_count": 15,
   "id": "8876942c",
   "metadata": {},
   "outputs": [
    {
     "name": "stdout",
     "output_type": "stream",
     "text": [
      "Multivariate OCSVM\n",
      "Accuracy \t0.5439\n",
      "AUC score \t0.1457\n",
      "FAR score \t0.7173\n",
      "Precision \t0.2827\n",
      "Recall   \t1.0000\n",
      "Macro F1 \t0.5279\n",
      "weighted F1 \t0.5836\n",
      "Avg Precision \t0.1050\n",
      "              precision    recall  f1-score   support\n",
      "\n",
      "           0       1.00      0.44      0.61      1401\n",
      "           1       0.28      1.00      0.44       307\n",
      "\n",
      "    accuracy                           0.54      1708\n",
      "   macro avg       0.64      0.72      0.53      1708\n",
      "weighted avg       0.87      0.54      0.58      1708\n",
      "\n"
     ]
    }
   ],
   "source": [
    "## OCSVM\n",
    "print('Multivariate OCSVM')\n",
    "from sklearn.svm import OneClassSVM\n",
    "\n",
    "clf = OneClassSVM(kernel='rbf').fit(train_data)\n",
    "\n",
    "true = test_label\n",
    "pred = clf.predict(test_data)\n",
    "pred = [1 if p == -1 else 0 for p in pred]\n",
    "score = clf.decision_function(test_data)\n",
    "score = score \n",
    "\n",
    "acc, auc, far, pre, rec, macro_f1, weight_f1, ap = evaluate(true, pred, score, adjust=False, plot=False, print_=True)\n",
    "# result_all.append(['multivariate', 'OCSVM', rec, far, pre, rec, acc, auc, macro_f1, weight_f1, ap])"
   ]
  },
  {
   "cell_type": "code",
   "execution_count": 16,
   "id": "1bde8eb2",
   "metadata": {},
   "outputs": [
    {
     "data": {
      "text/plain": [
       "array([-1,  1])"
      ]
     },
     "execution_count": 16,
     "metadata": {},
     "output_type": "execute_result"
    }
   ],
   "source": [
    "np.unique(clf.predict(test_data))"
   ]
  },
  {
   "cell_type": "code",
   "execution_count": 17,
   "id": "7ff8227a",
   "metadata": {},
   "outputs": [
    {
     "data": {
      "text/plain": [
       "[<matplotlib.lines.Line2D at 0x7fa3451b9310>]"
      ]
     },
     "execution_count": 17,
     "metadata": {},
     "output_type": "execute_result"
    },
    {
     "data": {
      "image/png": "[encoded data removed]",
      "text/plain": [
       "<Figure size 2000x400 with 1 Axes>"
      ]
     },
     "metadata": {},
     "output_type": "display_data"
    }
   ],
   "source": [
    "plt.figure(figsize=(20,4))\n",
    "plt.plot(true)\n",
    "plt.plot(pred)"
   ]
  },
  {
   "attachments": {},
   "cell_type": "markdown",
   "id": "2c49d246-50fa-4ee2-9943-32219ab87777",
   "metadata": {},
   "source": [
    "## CNN"
   ]
  },
  {
   "cell_type": "code",
   "execution_count": 18,
   "id": "573b2ec8-3035-4e64-89dd-ea771445b859",
   "metadata": {},
   "outputs": [
    {
     "data": {
      "text/plain": [
       "(5296, 25, 12)"
      ]
     },
     "execution_count": 18,
     "metadata": {},
     "output_type": "execute_result"
    }
   ],
   "source": [
    "np.transpose(train['x'], (0, 2, 1)).shape"
   ]
  },
  {
   "cell_type": "code",
   "execution_count": 19,
   "id": "40a9101e",
   "metadata": {},
   "outputs": [
    {
     "data": {
      "text/plain": [
       "array([0, 1])"
      ]
     },
     "execution_count": 19,
     "metadata": {},
     "output_type": "execute_result"
    }
   ],
   "source": [
    "np.unique(train['y'])"
   ]
  },
  {
   "cell_type": "code",
   "execution_count": 22,
   "id": "b3064e78-4930-4a4e-b954-89f998561fe1",
   "metadata": {},
   "outputs": [
    {
     "name": "stderr",
     "output_type": "stream",
     "text": [
      "/home/jiin/anaconda3/envs/tf/lib/python3.9/site-packages/sklearn/preprocessing/_encoders.py:868: FutureWarning: `sparse` was renamed to `sparse_output` in version 1.2 and will be removed in 1.4. `sparse_output` is ignored unless you leave `sparse` to its default value.\n",
      "  warnings.warn(\n",
      "2023-05-28 14:48:48.687413: I tensorflow/compiler/xla/stream_executor/cuda/cuda_gpu_executor.cc:996] successful NUMA node read from SysFS had negative value (-1), but there must be at least one NUMA node, so returning NUMA node zero. See more at https://github.com/torvalds/linux/blob/v6.0/Documentation/ABI/testing/sysfs-bus-pci#L344-L355\n",
      "2023-05-28 14:48:48.687653: I tensorflow/compiler/xla/stream_executor/cuda/cuda_gpu_executor.cc:996] successful NUMA node read from SysFS had negative value (-1), but there must be at least one NUMA node, so returning NUMA node zero. See more at https://github.com/torvalds/linux/blob/v6.0/Documentation/ABI/testing/sysfs-bus-pci#L344-L355\n",
      "2023-05-28 14:48:48.688113: W tensorflow/core/common_runtime/gpu/gpu_device.cc:1956] Cannot dlopen some GPU libraries. Please make sure the missing libraries mentioned above are installed properly if you would like to use GPU. Follow the guide at https://www.tensorflow.org/install/gpu for how to download and setup the required libraries for your platform.\n",
      "Skipping registering GPU devices...\n"
     ]
    },
    {
     "data": {
      "text/html": [
       "<style>#sk-container-id-2 {color: black;background-color: white;}#sk-container-id-2 pre{padding: 0;}#sk-container-id-2 div.sk-toggleable {background-color: white;}#sk-container-id-2 label.sk-toggleable__label {cursor: pointer;display: block;width: 100%;margin-bottom: 0;padding: 0.3em;box-sizing: border-box;text-align: center;}#sk-container-id-2 label.sk-toggleable__label-arrow:before {content: \"▸\";float: left;margin-right: 0.25em;color: #696969;}#sk-container-id-2 label.sk-toggleable__label-arrow:hover:before {color: black;}#sk-container-id-2 div.sk-estimator:hover label.sk-toggleable__label-arrow:before {color: black;}#sk-container-id-2 div.sk-toggleable__content {max-height: 0;max-width: 0;overflow: hidden;text-align: left;background-color: #f0f8ff;}#sk-container-id-2 div.sk-toggleable__content pre {margin: 0.2em;color: black;border-radius: 0.25em;background-color: #f0f8ff;}#sk-container-id-2 input.sk-toggleable__control:checked~div.sk-toggleable__content {max-height: 200px;max-width: 100%;overflow: auto;}#sk-container-id-2 input.sk-toggleable__control:checked~label.sk-toggleable__label-arrow:before {content: \"▾\";}#sk-container-id-2 div.sk-estimator input.sk-toggleable__control:checked~label.sk-toggleable__label {background-color: #d4ebff;}#sk-container-id-2 div.sk-label input.sk-toggleable__control:checked~label.sk-toggleable__label {background-color: #d4ebff;}#sk-container-id-2 input.sk-hidden--visually {border: 0;clip: rect(1px 1px 1px 1px);clip: rect(1px, 1px, 1px, 1px);height: 1px;margin: -1px;overflow: hidden;padding: 0;position: absolute;width: 1px;}#sk-container-id-2 div.sk-estimator {font-family: monospace;background-color: #f0f8ff;border: 1px dotted black;border-radius: 0.25em;box-sizing: border-box;margin-bottom: 0.5em;}#sk-container-id-2 div.sk-estimator:hover {background-color: #d4ebff;}#sk-container-id-2 div.sk-parallel-item::after {content: \"\";width: 100%;border-bottom: 1px solid gray;flex-grow: 1;}#sk-container-id-2 div.sk-label:hover label.sk-toggleable__label {background-color: #d4ebff;}#sk-container-id-2 div.sk-serial::before {content: \"\";position: absolute;border-left: 1px solid gray;box-sizing: border-box;top: 0;bottom: 0;left: 50%;z-index: 0;}#sk-container-id-2 div.sk-serial {display: flex;flex-direction: column;align-items: center;background-color: white;padding-right: 0.2em;padding-left: 0.2em;position: relative;}#sk-container-id-2 div.sk-item {position: relative;z-index: 1;}#sk-container-id-2 div.sk-parallel {display: flex;align-items: stretch;justify-content: center;background-color: white;position: relative;}#sk-container-id-2 div.sk-item::before, #sk-container-id-2 div.sk-parallel-item::before {content: \"\";position: absolute;border-left: 1px solid gray;box-sizing: border-box;top: 0;bottom: 0;left: 50%;z-index: -1;}#sk-container-id-2 div.sk-parallel-item {display: flex;flex-direction: column;z-index: 1;position: relative;background-color: white;}#sk-container-id-2 div.sk-parallel-item:first-child::after {align-self: flex-end;width: 50%;}#sk-container-id-2 div.sk-parallel-item:last-child::after {align-self: flex-start;width: 50%;}#sk-container-id-2 div.sk-parallel-item:only-child::after {width: 0;}#sk-container-id-2 div.sk-dashed-wrapped {border: 1px dashed gray;margin: 0 0.4em 0.5em 0.4em;box-sizing: border-box;padding-bottom: 0.4em;background-color: white;}#sk-container-id-2 div.sk-label label {font-family: monospace;font-weight: bold;display: inline-block;line-height: 1.2em;}#sk-container-id-2 div.sk-label-container {text-align: center;}#sk-container-id-2 div.sk-container {/* jupyter's `normalize.less` sets `[hidden] { display: none; }` but bootstrap.min.css set `[hidden] { display: none !important; }` so we also need the `!important` here to be able to override the default hidden behavior on the sphinx rendered scikit-learn.org. See: https://github.com/scikit-learn/scikit-learn/issues/21755 */display: inline-block !important;position: relative;}#sk-container-id-2 div.sk-text-repr-fallback {display: none;}</style><div id=\"sk-container-id-2\" class=\"sk-top-container\"><div class=\"sk-text-repr-fallback\"><pre>CNNClassifier(batch_size=64, n_epochs=10, random_state=0)</pre><b>In a Jupyter environment, please rerun this cell to show the HTML representation or trust the notebook. <br />On GitHub, the HTML representation is unable to render, please try loading this page with nbviewer.org.</b></div><div class=\"sk-container\" hidden><div class=\"sk-item\"><div class=\"sk-estimator sk-toggleable\"><input class=\"sk-toggleable__control sk-hidden--visually\" id=\"sk-estimator-id-2\" type=\"checkbox\" checked><label for=\"sk-estimator-id-2\" class=\"sk-toggleable__label sk-toggleable__label-arrow\">CNNClassifier</label><div class=\"sk-toggleable__content\"><pre>CNNClassifier(batch_size=64, n_epochs=10, random_state=0)</pre></div></div></div></div></div>"
      ],
      "text/plain": [
       "CNNClassifier(batch_size=64, n_epochs=10, random_state=0)"
      ]
     },
     "execution_count": 22,
     "metadata": {},
     "output_type": "execute_result"
    }
   ],
   "source": [
    "from sktime.classification.deep_learning import CNNClassifier\n",
    "\n",
    "clf = CNNClassifier(n_epochs=10, batch_size=64, random_state=0)\n",
    "clf.fit(np.transpose(train['x'], (0, 2, 1)), train['y'])"
   ]
  },
  {
   "cell_type": "code",
   "execution_count": 23,
   "id": "7fa83101-0263-4033-a575-0e627e017000",
   "metadata": {},
   "outputs": [
    {
     "name": "stdout",
     "output_type": "stream",
     "text": [
      "27/27 [==============================] - 0s 888us/step\n",
      "              precision    recall  f1-score   support\n",
      "\n",
      "           0       0.92      1.00      0.96      1401\n",
      "           1       1.00      0.58      0.73       307\n",
      "\n",
      "    accuracy                           0.92      1708\n",
      "   macro avg       0.96      0.79      0.85      1708\n",
      "weighted avg       0.93      0.92      0.92      1708\n",
      "\n"
     ]
    }
   ],
   "source": [
    "true = test['y']\n",
    "pred = clf.predict(np.transpose(test['x'], (0, 2, 1)))\n",
    "\n",
    "print(classification_report(true, pred))"
   ]
  },
  {
   "cell_type": "code",
   "execution_count": 24,
   "id": "d0ff5ff6-c6fb-45f0-8e6f-5a8a7a9c0af7",
   "metadata": {},
   "outputs": [
    {
     "data": {
      "image/png": "[encoded data removed]",
      "text/plain": [
       "<Figure size 640x480 with 2 Axes>"
      ]
     },
     "metadata": {},
     "output_type": "display_data"
    }
   ],
   "source": [
    "cm = confusion_matrix(true, pred)\n",
    "sns.heatmap(cm, annot=True, fmt='d', cmap='Blues')\n",
    "plt.xlabel('pred')\n",
    "plt.ylabel('true')\n",
    "plt.show()"
   ]
  },
  {
   "attachments": {},
   "cell_type": "markdown",
   "id": "089c393a-d8ee-4409-b979-dffbcafb4c4d",
   "metadata": {},
   "source": [
    "## LSTM FCN"
   ]
  },
  {
   "cell_type": "code",
   "execution_count": 25,
   "id": "abd93595-cf80-4209-a20f-6175e6ecfc74",
   "metadata": {},
   "outputs": [
    {
     "name": "stderr",
     "output_type": "stream",
     "text": [
      "/home/jiin/anaconda3/envs/tf/lib/python3.9/site-packages/sklearn/preprocessing/_encoders.py:868: FutureWarning: `sparse` was renamed to `sparse_output` in version 1.2 and will be removed in 1.4. `sparse_output` is ignored unless you leave `sparse` to its default value.\n",
      "  warnings.warn(\n",
      "2023-05-28 14:52:31.937337: I tensorflow/core/common_runtime/executor.cc:1197] [/device:CPU:0] (DEBUG INFO) Executor start aborting (this does not indicate an error and you can ignore this message): INVALID_ARGUMENT: You must feed a value for placeholder tensor 'gradients/split_2_grad/concat/split_2/split_dim' with dtype int32\n",
      "\t [[{{node gradients/split_2_grad/concat/split_2/split_dim}}]]\n",
      "2023-05-28 14:52:31.938129: I tensorflow/core/common_runtime/executor.cc:1197] [/device:CPU:0] (DEBUG INFO) Executor start aborting (this does not indicate an error and you can ignore this message): INVALID_ARGUMENT: You must feed a value for placeholder tensor 'gradients/split_grad/concat/split/split_dim' with dtype int32\n",
      "\t [[{{node gradients/split_grad/concat/split/split_dim}}]]\n",
      "2023-05-28 14:52:31.938796: I tensorflow/core/common_runtime/executor.cc:1197] [/device:CPU:0] (DEBUG INFO) Executor start aborting (this does not indicate an error and you can ignore this message): INVALID_ARGUMENT: You must feed a value for placeholder tensor 'gradients/split_1_grad/concat/split_1/split_dim' with dtype int32\n",
      "\t [[{{node gradients/split_1_grad/concat/split_1/split_dim}}]]\n"
     ]
    },
    {
     "name": "stdout",
     "output_type": "stream",
     "text": [
      "Model: \"model_1\"\n",
      "__________________________________________________________________________________________________\n",
      " Layer (type)                   Output Shape         Param #     Connected to                     \n",
      "==================================================================================================\n",
      " input_2 (InputLayer)           [(None, 12, 25)]     0           []                               \n",
      "                                                                                                  \n",
      " conv1d_2 (Conv1D)              (None, 12, 128)      25728       ['input_2[0][0]']                \n",
      "                                                                                                  \n",
      " batch_normalization (BatchNorm  (None, 12, 128)     512         ['conv1d_2[0][0]']               \n",
      " alization)                                                                                       \n",
      "                                                                                                  \n",
      " activation (Activation)        (None, 12, 128)      0           ['batch_normalization[0][0]']    \n",
      "                                                                                                  \n",
      " conv1d_3 (Conv1D)              (None, 12, 256)      164096      ['activation[0][0]']             \n",
      "                                                                                                  \n",
      " batch_normalization_1 (BatchNo  (None, 12, 256)     1024        ['conv1d_3[0][0]']               \n",
      " rmalization)                                                                                     \n",
      "                                                                                                  \n",
      " activation_1 (Activation)      (None, 12, 256)      0           ['batch_normalization_1[0][0]']  \n",
      "                                                                                                  \n",
      " conv1d_4 (Conv1D)              (None, 12, 128)      98432       ['activation_1[0][0]']           \n",
      "                                                                                                  \n",
      " permute (Permute)              (None, 25, 12)       0           ['input_2[0][0]']                \n",
      "                                                                                                  \n",
      " batch_normalization_2 (BatchNo  (None, 12, 128)     512         ['conv1d_4[0][0]']               \n",
      " rmalization)                                                                                     \n",
      "                                                                                                  \n",
      " lstm (LSTM)                    (None, 8)            672         ['permute[0][0]']                \n",
      "                                                                                                  \n",
      " activation_2 (Activation)      (None, 12, 128)      0           ['batch_normalization_2[0][0]']  \n",
      "                                                                                                  \n",
      " dropout (Dropout)              (None, 8)            0           ['lstm[0][0]']                   \n",
      "                                                                                                  \n",
      " global_average_pooling1d (Glob  (None, 128)         0           ['activation_2[0][0]']           \n",
      " alAveragePooling1D)                                                                              \n",
      "                                                                                                  \n",
      " concatenate (Concatenate)      (None, 136)          0           ['dropout[0][0]',                \n",
      "                                                                  'global_average_pooling1d[0][0]'\n",
      "                                                                 ]                                \n",
      "                                                                                                  \n",
      " dense_1 (Dense)                (None, 2)            274         ['concatenate[0][0]']            \n",
      "                                                                                                  \n",
      "==================================================================================================\n",
      "Total params: 291,250\n",
      "Trainable params: 290,226\n",
      "Non-trainable params: 1,024\n",
      "__________________________________________________________________________________________________\n",
      "Epoch 1/10\n"
     ]
    },
    {
     "name": "stderr",
     "output_type": "stream",
     "text": [
      "2023-05-28 14:52:32.224495: I tensorflow/core/common_runtime/executor.cc:1197] [/device:CPU:0] (DEBUG INFO) Executor start aborting (this does not indicate an error and you can ignore this message): INVALID_ARGUMENT: You must feed a value for placeholder tensor 'gradients/split_2_grad/concat/split_2/split_dim' with dtype int32\n",
      "\t [[{{node gradients/split_2_grad/concat/split_2/split_dim}}]]\n",
      "2023-05-28 14:52:32.225510: I tensorflow/core/common_runtime/executor.cc:1197] [/device:CPU:0] (DEBUG INFO) Executor start aborting (this does not indicate an error and you can ignore this message): INVALID_ARGUMENT: You must feed a value for placeholder tensor 'gradients/split_grad/concat/split/split_dim' with dtype int32\n",
      "\t [[{{node gradients/split_grad/concat/split/split_dim}}]]\n",
      "2023-05-28 14:52:32.226234: I tensorflow/core/common_runtime/executor.cc:1197] [/device:CPU:0] (DEBUG INFO) Executor start aborting (this does not indicate an error and you can ignore this message): INVALID_ARGUMENT: You must feed a value for placeholder tensor 'gradients/split_1_grad/concat/split_1/split_dim' with dtype int32\n",
      "\t [[{{node gradients/split_1_grad/concat/split_1/split_dim}}]]\n",
      "2023-05-28 14:52:32.858308: I tensorflow/core/common_runtime/executor.cc:1197] [/device:CPU:0] (DEBUG INFO) Executor start aborting (this does not indicate an error and you can ignore this message): INVALID_ARGUMENT: You must feed a value for placeholder tensor 'gradients/split_2_grad/concat/split_2/split_dim' with dtype int32\n",
      "\t [[{{node gradients/split_2_grad/concat/split_2/split_dim}}]]\n",
      "2023-05-28 14:52:32.859368: I tensorflow/core/common_runtime/executor.cc:1197] [/device:CPU:0] (DEBUG INFO) Executor start aborting (this does not indicate an error and you can ignore this message): INVALID_ARGUMENT: You must feed a value for placeholder tensor 'gradients/split_grad/concat/split/split_dim' with dtype int32\n",
      "\t [[{{node gradients/split_grad/concat/split/split_dim}}]]\n",
      "2023-05-28 14:52:32.860097: I tensorflow/core/common_runtime/executor.cc:1197] [/device:CPU:0] (DEBUG INFO) Executor start aborting (this does not indicate an error and you can ignore this message): INVALID_ARGUMENT: You must feed a value for placeholder tensor 'gradients/split_1_grad/concat/split_1/split_dim' with dtype int32\n",
      "\t [[{{node gradients/split_1_grad/concat/split_1/split_dim}}]]\n"
     ]
    },
    {
     "name": "stdout",
     "output_type": "stream",
     "text": [
      "83/83 [==============================] - 3s 11ms/step - loss: 0.1508 - accuracy: 0.9413\n",
      "Epoch 2/10\n",
      "83/83 [==============================] - 1s 11ms/step - loss: 0.0135 - accuracy: 0.9985\n",
      "Epoch 3/10\n",
      "83/83 [==============================] - 1s 11ms/step - loss: 0.0069 - accuracy: 0.9989\n",
      "Epoch 4/10\n",
      "83/83 [==============================] - 1s 11ms/step - loss: 0.0035 - accuracy: 0.9998\n",
      "Epoch 5/10\n",
      "83/83 [==============================] - 1s 11ms/step - loss: 0.0019 - accuracy: 1.0000\n",
      "Epoch 6/10\n",
      "83/83 [==============================] - 1s 11ms/step - loss: 0.0015 - accuracy: 1.0000\n",
      "Epoch 7/10\n",
      "46/83 [===============>..............] - ETA: 0s - loss: 0.0015 - accuracy: 1.0000"
     ]
    },
    {
     "ename": "KeyboardInterrupt",
     "evalue": "",
     "output_type": "error",
     "traceback": [
      "\u001b[0;31m---------------------------------------------------------------------------\u001b[0m",
      "\u001b[0;31mKeyboardInterrupt\u001b[0m                         Traceback (most recent call last)",
      "Cell \u001b[0;32mIn[25], line 4\u001b[0m\n\u001b[1;32m      1\u001b[0m \u001b[39mfrom\u001b[39;00m \u001b[39msktime\u001b[39;00m\u001b[39m.\u001b[39;00m\u001b[39mclassification\u001b[39;00m\u001b[39m.\u001b[39;00m\u001b[39mdeep_learning\u001b[39;00m \u001b[39mimport\u001b[39;00m LSTMFCNClassifier\n\u001b[1;32m      3\u001b[0m clf \u001b[39m=\u001b[39m LSTMFCNClassifier(n_epochs\u001b[39m=\u001b[39m\u001b[39m10\u001b[39m, batch_size\u001b[39m=\u001b[39m\u001b[39m64\u001b[39m, random_state\u001b[39m=\u001b[39m\u001b[39m0\u001b[39m, verbose\u001b[39m=\u001b[39m\u001b[39mTrue\u001b[39;00m)\n\u001b[0;32m----> 4\u001b[0m clf\u001b[39m.\u001b[39;49mfit(np\u001b[39m.\u001b[39;49mtranspose(train[\u001b[39m'\u001b[39;49m\u001b[39mx\u001b[39;49m\u001b[39m'\u001b[39;49m], (\u001b[39m0\u001b[39;49m, \u001b[39m2\u001b[39;49m, \u001b[39m1\u001b[39;49m)), train[\u001b[39m'\u001b[39;49m\u001b[39my\u001b[39;49m\u001b[39m'\u001b[39;49m])\n",
      "File \u001b[0;32m~/anaconda3/envs/tf/lib/python3.9/site-packages/sktime/classification/base.py:204\u001b[0m, in \u001b[0;36mBaseClassifier.fit\u001b[0;34m(self, X, y)\u001b[0m\n\u001b[1;32m    199\u001b[0m         \u001b[39mraise\u001b[39;00m \u001b[39mAttributeError\u001b[39;00m(\n\u001b[1;32m    200\u001b[0m             \u001b[39m\"\u001b[39m\u001b[39mself.n_jobs must be set if capability:multithreading is True\u001b[39m\u001b[39m\"\u001b[39m\n\u001b[1;32m    201\u001b[0m         )\n\u001b[1;32m    203\u001b[0m \u001b[39m# pass coerced and checked data to inner _fit\u001b[39;00m\n\u001b[0;32m--> 204\u001b[0m \u001b[39mself\u001b[39;49m\u001b[39m.\u001b[39;49m_fit(X, y)\n\u001b[1;32m    205\u001b[0m \u001b[39mself\u001b[39m\u001b[39m.\u001b[39mfit_time_ \u001b[39m=\u001b[39m \u001b[39mint\u001b[39m(\u001b[39mround\u001b[39m(time\u001b[39m.\u001b[39mtime() \u001b[39m*\u001b[39m \u001b[39m1000\u001b[39m)) \u001b[39m-\u001b[39m start\n\u001b[1;32m    207\u001b[0m \u001b[39m# this should happen last\u001b[39;00m\n",
      "File \u001b[0;32m~/anaconda3/envs/tf/lib/python3.9/site-packages/sktime/classification/deep_learning/lstmfcn.py:196\u001b[0m, in \u001b[0;36mLSTMFCNClassifier._fit\u001b[0;34m(self, X, y)\u001b[0m\n\u001b[1;32m    193\u001b[0m \u001b[39mif\u001b[39;00m \u001b[39mself\u001b[39m\u001b[39m.\u001b[39mverbose:\n\u001b[1;32m    194\u001b[0m     \u001b[39mself\u001b[39m\u001b[39m.\u001b[39mmodel_\u001b[39m.\u001b[39msummary()\n\u001b[0;32m--> 196\u001b[0m \u001b[39mself\u001b[39m\u001b[39m.\u001b[39mhistory \u001b[39m=\u001b[39m \u001b[39mself\u001b[39;49m\u001b[39m.\u001b[39;49mmodel_\u001b[39m.\u001b[39;49mfit(\n\u001b[1;32m    197\u001b[0m     X,\n\u001b[1;32m    198\u001b[0m     y_onehot,\n\u001b[1;32m    199\u001b[0m     batch_size\u001b[39m=\u001b[39;49m\u001b[39mself\u001b[39;49m\u001b[39m.\u001b[39;49mbatch_size,\n\u001b[1;32m    200\u001b[0m     epochs\u001b[39m=\u001b[39;49m\u001b[39mself\u001b[39;49m\u001b[39m.\u001b[39;49mn_epochs,\n\u001b[1;32m    201\u001b[0m     verbose\u001b[39m=\u001b[39;49m\u001b[39mself\u001b[39;49m\u001b[39m.\u001b[39;49mverbose,\n\u001b[1;32m    202\u001b[0m     callbacks\u001b[39m=\u001b[39;49mdeepcopy(\u001b[39mself\u001b[39;49m\u001b[39m.\u001b[39;49mcallbacks) \u001b[39mif\u001b[39;49;00m \u001b[39mself\u001b[39;49m\u001b[39m.\u001b[39;49mcallbacks \u001b[39melse\u001b[39;49;00m [],\n\u001b[1;32m    203\u001b[0m )\n\u001b[1;32m    205\u001b[0m \u001b[39mself\u001b[39m\u001b[39m.\u001b[39m_is_fitted \u001b[39m=\u001b[39m \u001b[39mTrue\u001b[39;00m\n\u001b[1;32m    207\u001b[0m \u001b[39mreturn\u001b[39;00m \u001b[39mself\u001b[39m\n",
      "File \u001b[0;32m~/anaconda3/envs/tf/lib/python3.9/site-packages/keras/utils/traceback_utils.py:65\u001b[0m, in \u001b[0;36mfilter_traceback.<locals>.error_handler\u001b[0;34m(*args, **kwargs)\u001b[0m\n\u001b[1;32m     63\u001b[0m filtered_tb \u001b[39m=\u001b[39m \u001b[39mNone\u001b[39;00m\n\u001b[1;32m     64\u001b[0m \u001b[39mtry\u001b[39;00m:\n\u001b[0;32m---> 65\u001b[0m     \u001b[39mreturn\u001b[39;00m fn(\u001b[39m*\u001b[39;49margs, \u001b[39m*\u001b[39;49m\u001b[39m*\u001b[39;49mkwargs)\n\u001b[1;32m     66\u001b[0m \u001b[39mexcept\u001b[39;00m \u001b[39mException\u001b[39;00m \u001b[39mas\u001b[39;00m e:\n\u001b[1;32m     67\u001b[0m     filtered_tb \u001b[39m=\u001b[39m _process_traceback_frames(e\u001b[39m.\u001b[39m__traceback__)\n",
      "File \u001b[0;32m~/anaconda3/envs/tf/lib/python3.9/site-packages/keras/engine/training.py:1685\u001b[0m, in \u001b[0;36mModel.fit\u001b[0;34m(self, x, y, batch_size, epochs, verbose, callbacks, validation_split, validation_data, shuffle, class_weight, sample_weight, initial_epoch, steps_per_epoch, validation_steps, validation_batch_size, validation_freq, max_queue_size, workers, use_multiprocessing)\u001b[0m\n\u001b[1;32m   1677\u001b[0m \u001b[39mwith\u001b[39;00m tf\u001b[39m.\u001b[39mprofiler\u001b[39m.\u001b[39mexperimental\u001b[39m.\u001b[39mTrace(\n\u001b[1;32m   1678\u001b[0m     \u001b[39m\"\u001b[39m\u001b[39mtrain\u001b[39m\u001b[39m\"\u001b[39m,\n\u001b[1;32m   1679\u001b[0m     epoch_num\u001b[39m=\u001b[39mepoch,\n\u001b[0;32m   (...)\u001b[0m\n\u001b[1;32m   1682\u001b[0m     _r\u001b[39m=\u001b[39m\u001b[39m1\u001b[39m,\n\u001b[1;32m   1683\u001b[0m ):\n\u001b[1;32m   1684\u001b[0m     callbacks\u001b[39m.\u001b[39mon_train_batch_begin(step)\n\u001b[0;32m-> 1685\u001b[0m     tmp_logs \u001b[39m=\u001b[39m \u001b[39mself\u001b[39;49m\u001b[39m.\u001b[39;49mtrain_function(iterator)\n\u001b[1;32m   1686\u001b[0m     \u001b[39mif\u001b[39;00m data_handler\u001b[39m.\u001b[39mshould_sync:\n\u001b[1;32m   1687\u001b[0m         context\u001b[39m.\u001b[39masync_wait()\n",
      "File \u001b[0;32m~/anaconda3/envs/tf/lib/python3.9/site-packages/tensorflow/python/util/traceback_utils.py:150\u001b[0m, in \u001b[0;36mfilter_traceback.<locals>.error_handler\u001b[0;34m(*args, **kwargs)\u001b[0m\n\u001b[1;32m    148\u001b[0m filtered_tb \u001b[39m=\u001b[39m \u001b[39mNone\u001b[39;00m\n\u001b[1;32m    149\u001b[0m \u001b[39mtry\u001b[39;00m:\n\u001b[0;32m--> 150\u001b[0m   \u001b[39mreturn\u001b[39;00m fn(\u001b[39m*\u001b[39;49margs, \u001b[39m*\u001b[39;49m\u001b[39m*\u001b[39;49mkwargs)\n\u001b[1;32m    151\u001b[0m \u001b[39mexcept\u001b[39;00m \u001b[39mException\u001b[39;00m \u001b[39mas\u001b[39;00m e:\n\u001b[1;32m    152\u001b[0m   filtered_tb \u001b[39m=\u001b[39m _process_traceback_frames(e\u001b[39m.\u001b[39m__traceback__)\n",
      "File \u001b[0;32m~/anaconda3/envs/tf/lib/python3.9/site-packages/tensorflow/python/eager/polymorphic_function/polymorphic_function.py:894\u001b[0m, in \u001b[0;36mFunction.__call__\u001b[0;34m(self, *args, **kwds)\u001b[0m\n\u001b[1;32m    891\u001b[0m compiler \u001b[39m=\u001b[39m \u001b[39m\"\u001b[39m\u001b[39mxla\u001b[39m\u001b[39m\"\u001b[39m \u001b[39mif\u001b[39;00m \u001b[39mself\u001b[39m\u001b[39m.\u001b[39m_jit_compile \u001b[39melse\u001b[39;00m \u001b[39m\"\u001b[39m\u001b[39mnonXla\u001b[39m\u001b[39m\"\u001b[39m\n\u001b[1;32m    893\u001b[0m \u001b[39mwith\u001b[39;00m OptionalXlaContext(\u001b[39mself\u001b[39m\u001b[39m.\u001b[39m_jit_compile):\n\u001b[0;32m--> 894\u001b[0m   result \u001b[39m=\u001b[39m \u001b[39mself\u001b[39;49m\u001b[39m.\u001b[39;49m_call(\u001b[39m*\u001b[39;49margs, \u001b[39m*\u001b[39;49m\u001b[39m*\u001b[39;49mkwds)\n\u001b[1;32m    896\u001b[0m new_tracing_count \u001b[39m=\u001b[39m \u001b[39mself\u001b[39m\u001b[39m.\u001b[39mexperimental_get_tracing_count()\n\u001b[1;32m    897\u001b[0m without_tracing \u001b[39m=\u001b[39m (tracing_count \u001b[39m==\u001b[39m new_tracing_count)\n",
      "File \u001b[0;32m~/anaconda3/envs/tf/lib/python3.9/site-packages/tensorflow/python/eager/polymorphic_function/polymorphic_function.py:926\u001b[0m, in \u001b[0;36mFunction._call\u001b[0;34m(self, *args, **kwds)\u001b[0m\n\u001b[1;32m    923\u001b[0m   \u001b[39mself\u001b[39m\u001b[39m.\u001b[39m_lock\u001b[39m.\u001b[39mrelease()\n\u001b[1;32m    924\u001b[0m   \u001b[39m# In this case we have created variables on the first call, so we run the\u001b[39;00m\n\u001b[1;32m    925\u001b[0m   \u001b[39m# defunned version which is guaranteed to never create variables.\u001b[39;00m\n\u001b[0;32m--> 926\u001b[0m   \u001b[39mreturn\u001b[39;00m \u001b[39mself\u001b[39;49m\u001b[39m.\u001b[39;49m_no_variable_creation_fn(\u001b[39m*\u001b[39;49margs, \u001b[39m*\u001b[39;49m\u001b[39m*\u001b[39;49mkwds)  \u001b[39m# pylint: disable=not-callable\u001b[39;00m\n\u001b[1;32m    927\u001b[0m \u001b[39melif\u001b[39;00m \u001b[39mself\u001b[39m\u001b[39m.\u001b[39m_variable_creation_fn \u001b[39mis\u001b[39;00m \u001b[39mnot\u001b[39;00m \u001b[39mNone\u001b[39;00m:\n\u001b[1;32m    928\u001b[0m   \u001b[39m# Release the lock early so that multiple threads can perform the call\u001b[39;00m\n\u001b[1;32m    929\u001b[0m   \u001b[39m# in parallel.\u001b[39;00m\n\u001b[1;32m    930\u001b[0m   \u001b[39mself\u001b[39m\u001b[39m.\u001b[39m_lock\u001b[39m.\u001b[39mrelease()\n",
      "File \u001b[0;32m~/anaconda3/envs/tf/lib/python3.9/site-packages/tensorflow/python/eager/polymorphic_function/tracing_compiler.py:143\u001b[0m, in \u001b[0;36mTracingCompiler.__call__\u001b[0;34m(self, *args, **kwargs)\u001b[0m\n\u001b[1;32m    140\u001b[0m \u001b[39mwith\u001b[39;00m \u001b[39mself\u001b[39m\u001b[39m.\u001b[39m_lock:\n\u001b[1;32m    141\u001b[0m   (concrete_function,\n\u001b[1;32m    142\u001b[0m    filtered_flat_args) \u001b[39m=\u001b[39m \u001b[39mself\u001b[39m\u001b[39m.\u001b[39m_maybe_define_function(args, kwargs)\n\u001b[0;32m--> 143\u001b[0m \u001b[39mreturn\u001b[39;00m concrete_function\u001b[39m.\u001b[39;49m_call_flat(\n\u001b[1;32m    144\u001b[0m     filtered_flat_args, captured_inputs\u001b[39m=\u001b[39;49mconcrete_function\u001b[39m.\u001b[39;49mcaptured_inputs)\n",
      "File \u001b[0;32m~/anaconda3/envs/tf/lib/python3.9/site-packages/tensorflow/python/eager/polymorphic_function/monomorphic_function.py:1757\u001b[0m, in \u001b[0;36mConcreteFunction._call_flat\u001b[0;34m(self, args, captured_inputs, cancellation_manager)\u001b[0m\n\u001b[1;32m   1753\u001b[0m possible_gradient_type \u001b[39m=\u001b[39m gradients_util\u001b[39m.\u001b[39mPossibleTapeGradientTypes(args)\n\u001b[1;32m   1754\u001b[0m \u001b[39mif\u001b[39;00m (possible_gradient_type \u001b[39m==\u001b[39m gradients_util\u001b[39m.\u001b[39mPOSSIBLE_GRADIENT_TYPES_NONE\n\u001b[1;32m   1755\u001b[0m     \u001b[39mand\u001b[39;00m executing_eagerly):\n\u001b[1;32m   1756\u001b[0m   \u001b[39m# No tape is watching; skip to running the function.\u001b[39;00m\n\u001b[0;32m-> 1757\u001b[0m   \u001b[39mreturn\u001b[39;00m \u001b[39mself\u001b[39m\u001b[39m.\u001b[39m_build_call_outputs(\u001b[39mself\u001b[39;49m\u001b[39m.\u001b[39;49m_inference_function\u001b[39m.\u001b[39;49mcall(\n\u001b[1;32m   1758\u001b[0m       ctx, args, cancellation_manager\u001b[39m=\u001b[39;49mcancellation_manager))\n\u001b[1;32m   1759\u001b[0m forward_backward \u001b[39m=\u001b[39m \u001b[39mself\u001b[39m\u001b[39m.\u001b[39m_select_forward_and_backward_functions(\n\u001b[1;32m   1760\u001b[0m     args,\n\u001b[1;32m   1761\u001b[0m     possible_gradient_type,\n\u001b[1;32m   1762\u001b[0m     executing_eagerly)\n\u001b[1;32m   1763\u001b[0m forward_function, args_with_tangents \u001b[39m=\u001b[39m forward_backward\u001b[39m.\u001b[39mforward()\n",
      "File \u001b[0;32m~/anaconda3/envs/tf/lib/python3.9/site-packages/tensorflow/python/eager/polymorphic_function/monomorphic_function.py:381\u001b[0m, in \u001b[0;36m_EagerDefinedFunction.call\u001b[0;34m(self, ctx, args, cancellation_manager)\u001b[0m\n\u001b[1;32m    379\u001b[0m \u001b[39mwith\u001b[39;00m _InterpolateFunctionError(\u001b[39mself\u001b[39m):\n\u001b[1;32m    380\u001b[0m   \u001b[39mif\u001b[39;00m cancellation_manager \u001b[39mis\u001b[39;00m \u001b[39mNone\u001b[39;00m:\n\u001b[0;32m--> 381\u001b[0m     outputs \u001b[39m=\u001b[39m execute\u001b[39m.\u001b[39;49mexecute(\n\u001b[1;32m    382\u001b[0m         \u001b[39mstr\u001b[39;49m(\u001b[39mself\u001b[39;49m\u001b[39m.\u001b[39;49msignature\u001b[39m.\u001b[39;49mname),\n\u001b[1;32m    383\u001b[0m         num_outputs\u001b[39m=\u001b[39;49m\u001b[39mself\u001b[39;49m\u001b[39m.\u001b[39;49m_num_outputs,\n\u001b[1;32m    384\u001b[0m         inputs\u001b[39m=\u001b[39;49margs,\n\u001b[1;32m    385\u001b[0m         attrs\u001b[39m=\u001b[39;49mattrs,\n\u001b[1;32m    386\u001b[0m         ctx\u001b[39m=\u001b[39;49mctx)\n\u001b[1;32m    387\u001b[0m   \u001b[39melse\u001b[39;00m:\n\u001b[1;32m    388\u001b[0m     outputs \u001b[39m=\u001b[39m execute\u001b[39m.\u001b[39mexecute_with_cancellation(\n\u001b[1;32m    389\u001b[0m         \u001b[39mstr\u001b[39m(\u001b[39mself\u001b[39m\u001b[39m.\u001b[39msignature\u001b[39m.\u001b[39mname),\n\u001b[1;32m    390\u001b[0m         num_outputs\u001b[39m=\u001b[39m\u001b[39mself\u001b[39m\u001b[39m.\u001b[39m_num_outputs,\n\u001b[0;32m   (...)\u001b[0m\n\u001b[1;32m    393\u001b[0m         ctx\u001b[39m=\u001b[39mctx,\n\u001b[1;32m    394\u001b[0m         cancellation_manager\u001b[39m=\u001b[39mcancellation_manager)\n",
      "File \u001b[0;32m~/anaconda3/envs/tf/lib/python3.9/site-packages/tensorflow/python/eager/execute.py:52\u001b[0m, in \u001b[0;36mquick_execute\u001b[0;34m(op_name, num_outputs, inputs, attrs, ctx, name)\u001b[0m\n\u001b[1;32m     50\u001b[0m \u001b[39mtry\u001b[39;00m:\n\u001b[1;32m     51\u001b[0m   ctx\u001b[39m.\u001b[39mensure_initialized()\n\u001b[0;32m---> 52\u001b[0m   tensors \u001b[39m=\u001b[39m pywrap_tfe\u001b[39m.\u001b[39;49mTFE_Py_Execute(ctx\u001b[39m.\u001b[39;49m_handle, device_name, op_name,\n\u001b[1;32m     53\u001b[0m                                       inputs, attrs, num_outputs)\n\u001b[1;32m     54\u001b[0m \u001b[39mexcept\u001b[39;00m core\u001b[39m.\u001b[39m_NotOkStatusException \u001b[39mas\u001b[39;00m e:\n\u001b[1;32m     55\u001b[0m   \u001b[39mif\u001b[39;00m name \u001b[39mis\u001b[39;00m \u001b[39mnot\u001b[39;00m \u001b[39mNone\u001b[39;00m:\n",
      "\u001b[0;31mKeyboardInterrupt\u001b[0m: "
     ]
    }
   ],
   "source": [
    "from sktime.classification.deep_learning import LSTMFCNClassifier\n",
    "\n",
    "clf = LSTMFCNClassifier(n_epochs=10, batch_size=64, random_state=0, verbose=True)\n",
    "clf.fit(np.transpose(train['x'], (0, 2, 1)), train['y'])"
   ]
  },
  {
   "cell_type": "code",
   "execution_count": 59,
   "id": "ae5165fb-65ef-4632-819d-e7eaf5f48173",
   "metadata": {},
   "outputs": [
    {
     "name": "stdout",
     "output_type": "stream",
     "text": [
      "16/27 [================>.............] - ETA: 0s"
     ]
    },
    {
     "name": "stderr",
     "output_type": "stream",
     "text": [
      "2023-05-27 20:42:14.833699: I tensorflow/core/common_runtime/executor.cc:1197] [/device:CPU:0] (DEBUG INFO) Executor start aborting (this does not indicate an error and you can ignore this message): INVALID_ARGUMENT: You must feed a value for placeholder tensor 'gradients/split_2_grad/concat/split_2/split_dim' with dtype int32\n",
      "\t [[{{node gradients/split_2_grad/concat/split_2/split_dim}}]]\n",
      "2023-05-27 20:42:14.834677: I tensorflow/core/common_runtime/executor.cc:1197] [/device:CPU:0] (DEBUG INFO) Executor start aborting (this does not indicate an error and you can ignore this message): INVALID_ARGUMENT: You must feed a value for placeholder tensor 'gradients/split_grad/concat/split/split_dim' with dtype int32\n",
      "\t [[{{node gradients/split_grad/concat/split/split_dim}}]]\n",
      "2023-05-27 20:42:14.835299: I tensorflow/core/common_runtime/executor.cc:1197] [/device:CPU:0] (DEBUG INFO) Executor start aborting (this does not indicate an error and you can ignore this message): INVALID_ARGUMENT: You must feed a value for placeholder tensor 'gradients/split_1_grad/concat/split_1/split_dim' with dtype int32\n",
      "\t [[{{node gradients/split_1_grad/concat/split_1/split_dim}}]]\n"
     ]
    },
    {
     "name": "stdout",
     "output_type": "stream",
     "text": [
      "27/27 [==============================] - 0s 3ms/step\n",
      "              precision    recall  f1-score   support\n",
      "\n",
      "           0       0.94      1.00      0.97      1401\n",
      "           1       1.00      0.73      0.85       307\n",
      "\n",
      "    accuracy                           0.95      1708\n",
      "   macro avg       0.97      0.87      0.91      1708\n",
      "weighted avg       0.95      0.95      0.95      1708\n",
      "\n"
     ]
    }
   ],
   "source": [
    "true = test['y']\n",
    "pred = clf.predict(np.transpose(test['x'], (0, 2, 1)))\n",
    "\n",
    "print(classification_report(true, pred))"
   ]
  },
  {
   "cell_type": "code",
   "execution_count": null,
   "id": "3c88baff-91f0-4045-ad8c-b598bde71c6d",
   "metadata": {},
   "outputs": [],
   "source": []
  },
  {
   "cell_type": "code",
   "execution_count": null,
   "id": "3aa506d6-4510-4a57-b925-7a512761cd5c",
   "metadata": {},
   "outputs": [],
   "source": [
    "from sktime.classification.hybrid import HIVECOTEV2\n",
    "\n",
    "hc2 = HIVECOTEV2(time_limit_in_minutes=0.2)\n",
    "hc2.fit(np.transpose(train['x'], (0, 2, 1)), train['y'])\n",
    "\n",
    "\n",
    "true = test['y']\n",
    "pred = hc2.predict(np.transpose(test['x'], (0, 2, 1)))\n",
    "\n",
    "print(classification_report(true, pred))"
   ]
  },
  {
   "cell_type": "code",
   "execution_count": null,
   "id": "afc9b84d",
   "metadata": {},
   "outputs": [],
   "source": []
  },
  {
   "cell_type": "code",
   "execution_count": null,
   "id": "49aff769",
   "metadata": {},
   "outputs": [],
   "source": []
  },
  {
   "attachments": {},
   "cell_type": "markdown",
   "id": "6e187b44",
   "metadata": {},
   "source": [
    "## DeepSAD"
   ]
  },
  {
   "cell_type": "code",
   "execution_count": 10,
   "id": "bded5924",
   "metadata": {},
   "outputs": [],
   "source": [
    "# DATA\n",
    "train_data = train['x'].reshape(train['x'].shape[0], -1)  ## (n_samples, seq_len * n_node)\n",
    "test_data = test['x'].reshape(test['x'].shape[0], -1)\n",
    "\n",
    "train_label = np.where(train['y']==1, -1, train['y'])\n",
    "test_label = np.where(test['y']==1, -1, test['y'])   ## -1 is known anomaly, 0 is unknown, 1 is known normal"
   ]
  },
  {
   "cell_type": "code",
   "execution_count": 11,
   "id": "86431544",
   "metadata": {},
   "outputs": [
    {
     "data": {
      "text/plain": [
       "(array([-1,  0]), array([-1,  0]))"
      ]
     },
     "execution_count": 11,
     "metadata": {},
     "output_type": "execute_result"
    }
   ],
   "source": [
    "np.unique(train_label), np.unique(test_label)"
   ]
  },
  {
   "cell_type": "code",
   "execution_count": 12,
   "id": "5d102997",
   "metadata": {},
   "outputs": [],
   "source": [
    "from deepod.models.dsad import DeepSAD"
   ]
  },
  {
   "cell_type": "code",
   "execution_count": 18,
   "id": "cb367870",
   "metadata": {},
   "outputs": [
    {
     "name": "stdout",
     "output_type": "stream",
     "text": [
      "Start Training...\n",
      "ensemble size: 1\n",
      "MLPnet(\n",
      "  (network): Sequential(\n",
      "    (0): LinearBlock(\n",
      "      (linear): Linear(in_features=300, out_features=100, bias=False)\n",
      "      (act_layer): ReLU()\n",
      "    )\n",
      "    (1): LinearBlock(\n",
      "      (linear): Linear(in_features=100, out_features=50, bias=False)\n",
      "      (act_layer): ReLU()\n",
      "    )\n",
      "    (2): LinearBlock(\n",
      "      (linear): Linear(in_features=50, out_features=128, bias=False)\n",
      "      (act_layer): Identity()\n",
      "    )\n",
      "  )\n",
      ")\n",
      "epoch1, training loss: 0.107722, time: 0.2s\n",
      "epoch10, training loss: 0.002606, time: 0.1s\n",
      "epoch20, training loss: 0.001638, time: 0.3s\n",
      "epoch30, training loss: 0.001019, time: 0.1s\n",
      "epoch40, training loss: 0.001025, time: 0.1s\n",
      "epoch50, training loss: 0.000793, time: 0.2s\n",
      "epoch60, training loss: 0.001241, time: 0.2s\n",
      "epoch70, training loss: 0.000501, time: 0.2s\n",
      "epoch80, training loss: 0.000467, time: 0.1s\n",
      "epoch90, training loss: 0.002628, time: 0.2s\n",
      "epoch100, training loss: 0.000640, time: 0.2s\n",
      "epoch110, training loss: 0.000637, time: 0.1s\n",
      "epoch120, training loss: 0.000436, time: 0.2s\n",
      "epoch130, training loss: 0.000615, time: 0.1s\n",
      "epoch140, training loss: 0.000489, time: 0.1s\n",
      "epoch150, training loss: 0.000482, time: 0.2s\n",
      "epoch160, training loss: 0.000395, time: 0.1s\n",
      "epoch170, training loss: 0.000391, time: 0.2s\n",
      "epoch180, training loss: 0.000477, time: 0.2s\n",
      "epoch190, training loss: 0.000340, time: 0.1s\n",
      "epoch200, training loss: 0.002290, time: 0.2s\n",
      "Start Inference on the training data...\n"
     ]
    },
    {
     "data": {
      "text/plain": [
       "<deepod.models.dsad.DeepSAD at 0x7f72e945ba60>"
      ]
     },
     "execution_count": 18,
     "metadata": {},
     "output_type": "execute_result"
    }
   ],
   "source": [
    "clf = DeepSAD(epochs=200, rep_dim=128, batch_size=64, device='cpu', random_state=0)\n",
    "clf.fit(train_data, train_label)"
   ]
  },
  {
   "cell_type": "code",
   "execution_count": 19,
   "id": "894ea653",
   "metadata": {},
   "outputs": [
    {
     "data": {
      "text/plain": [
       "array([1.92050317e+03, 2.06905322e+03, 2.05559351e+03, ...,\n",
       "       1.12610199e-02, 8.74025840e-03, 4.70494432e-03])"
      ]
     },
     "execution_count": 19,
     "metadata": {},
     "output_type": "execute_result"
    }
   ],
   "source": [
    "pred = clf.predict(test_data)\n",
    "scores = clf.decision_function(test_data)\n",
    "scores"
   ]
  },
  {
   "cell_type": "code",
   "execution_count": 20,
   "id": "d15c69f1",
   "metadata": {},
   "outputs": [
    {
     "data": {
      "text/plain": [
       "[<matplotlib.lines.Line2D at 0x7f72e825feb0>]"
      ]
     },
     "execution_count": 20,
     "metadata": {},
     "output_type": "execute_result"
    },
    {
     "data": {
      "image/png": "[encoded data removed]",
      "text/plain": [
       "<Figure size 640x480 with 1 Axes>"
      ]
     },
     "metadata": {},
     "output_type": "display_data"
    }
   ],
   "source": [
    "plt.plot(test['y'])\n",
    "plt.plot(pred)"
   ]
  },
  {
   "cell_type": "code",
   "execution_count": 21,
   "id": "9b5a3002",
   "metadata": {},
   "outputs": [
    {
     "name": "stdout",
     "output_type": "stream",
     "text": [
      "              precision    recall  f1-score   support\n",
      "\n",
      "           0       0.98      0.62      0.76      1401\n",
      "           1       0.36      0.95      0.52       307\n",
      "\n",
      "    accuracy                           0.68      1708\n",
      "   macro avg       0.67      0.79      0.64      1708\n",
      "weighted avg       0.87      0.68      0.72      1708\n",
      "\n"
     ]
    }
   ],
   "source": [
    "true = test['y']\n",
    "pred = clf.predict(test_data)\n",
    "print(classification_report(true, pred))"
   ]
  },
  {
   "cell_type": "code",
   "execution_count": 22,
   "id": "39ed8149",
   "metadata": {},
   "outputs": [
    {
     "name": "stdout",
     "output_type": "stream",
     "text": [
      "Accuracy \t0.6821\n",
      "AUC score \t0.9329\n",
      "FAR score \t0.6436\n",
      "Precision \t0.3564\n",
      "Recall   \t0.9544\n",
      "Macro F1 \t0.6408\n",
      "weighted F1 \t0.7188\n",
      "Avg Precision \t0.8466\n",
      "              precision    recall  f1-score   support\n",
      "\n",
      "           0       0.98      0.62      0.76      1401\n",
      "           1       0.36      0.95      0.52       307\n",
      "\n",
      "    accuracy                           0.68      1708\n",
      "   macro avg       0.67      0.79      0.64      1708\n",
      "weighted avg       0.87      0.68      0.72      1708\n",
      "\n"
     ]
    },
    {
     "data": {
      "text/plain": [
       "[0.6820843091334895,\n",
       " 0.9329445928571262,\n",
       " 0.6435523114355232,\n",
       " 0.3564476885644769,\n",
       " 0.9543973941368078,\n",
       " 0.6408072275111414,\n",
       " 0.7187988117854915,\n",
       " 0.8465697692368471]"
      ]
     },
     "execution_count": 22,
     "metadata": {},
     "output_type": "execute_result"
    }
   ],
   "source": [
    "evaluate(true, pred, scores, adjust=False, plot=False, print_=True)"
   ]
  },
  {
   "cell_type": "code",
   "execution_count": 23,
   "id": "c0bcc394",
   "metadata": {},
   "outputs": [],
   "source": [
    "from deepod.models.dsad import DSADLoss\n",
    "\n",
    "embeddings = []\n",
    "\n",
    "test_loader = clf.inference_prepare(test_data)\n",
    "criterion = DSADLoss(c=clf.c)\n",
    "for batch in test_loader:\n",
    "    embeddings.append(clf.inference_forward(batch, clf.net, criterion)[0].detach().cpu().numpy())\n",
    "embeddings = np.concatenate(embeddings)"
   ]
  },
  {
   "cell_type": "code",
   "execution_count": 24,
   "id": "24cb356e",
   "metadata": {},
   "outputs": [],
   "source": [
    "label_all = test['y']\n",
    "data_center = clf.c"
   ]
  },
  {
   "cell_type": "code",
   "execution_count": 33,
   "id": "b17ee145",
   "metadata": {},
   "outputs": [
    {
     "data": {
      "image/png": "[encoded data removed]",
      "text/plain": [
       "<Figure size 600x400 with 1 Axes>"
      ]
     },
     "metadata": {},
     "output_type": "display_data"
    }
   ],
   "source": [
    "\n",
    "## test set all T-SNE\n",
    "import seaborn as sns \n",
    "\n",
    "\n",
    "normal = np.where(label_all == 0)[0]\n",
    "abnormal = np.where(label_all == 1)[0]\n",
    "\n",
    "rndperm = np.random.choice(normal, 2000)\n",
    "\n",
    "## add data center\n",
    "center_arr = data_center.detach().cpu().numpy()\n",
    "out_center_all = np.concatenate([embeddings, center_arr.reshape(1, -1)])\n",
    "\n",
    "## tSNE\n",
    "plt.figure(figsize=(6,4))\n",
    "from sklearn.manifold import TSNE\n",
    "\n",
    "tsne = TSNE(n_components=2, perplexity=150, random_state=0)\n",
    "tsne_all = tsne.fit_transform(out_center_all)\n",
    "\n",
    "tsne_df = pd.DataFrame(tsne_all, columns=['tsne-2d-one', 'tsne-2d-two'])\n",
    "tsne_df['y'] = np.append(label_all, [-1])\n",
    "\n",
    "sns.scatterplot(\n",
    "    x=\"tsne-2d-one\", y=\"tsne-2d-two\",\n",
    "    hue=\"y\",\n",
    "    palette=sns.color_palette(\"tab10\", 2),\n",
    "    data=tsne_df.loc[np.append(rndperm, abnormal), :],\n",
    "    legend=\"full\",\n",
    "    alpha=0.7\n",
    ")\n",
    "sns.scatterplot(x=tsne_df[tsne_df.y == -1][\"tsne-2d-one\"], y=tsne_df[tsne_df.y == -1][\"tsne-2d-two\"],\n",
    "    color='red',\n",
    "    marker='X',\n",
    "    s=50,\n",
    "    label='data_center'\n",
    ")\n",
    "\n",
    "# plt.title('T-SNE plot for raw DeepSAD')\n",
    "plt.savefig('../images/tsne_DeepSAD+MLP.png', dpi=250, bbox_inches='tight')\n",
    "plt.show()\n"
   ]
  },
  {
   "attachments": {},
   "cell_type": "markdown",
   "id": "29b9e83c",
   "metadata": {},
   "source": [
    "## DevNet"
   ]
  },
  {
   "cell_type": "code",
   "execution_count": 77,
   "id": "e7ea76c1",
   "metadata": {},
   "outputs": [],
   "source": [
    "from deepod.models.devnet import DevNet"
   ]
  },
  {
   "cell_type": "code",
   "execution_count": 78,
   "id": "a1f1dd82",
   "metadata": {},
   "outputs": [],
   "source": [
    "# DATA\n",
    "train_data = train['x'].reshape(train['x'].shape[0], -1)  ## (n_samples, seq_len * n_node)\n",
    "test_data = test['x'].reshape(test['x'].shape[0], -1)\n",
    "\n",
    "train_label = train['y']\n",
    "test_label = test['y']"
   ]
  },
  {
   "cell_type": "code",
   "execution_count": 79,
   "id": "10f6c259",
   "metadata": {},
   "outputs": [
    {
     "name": "stdout",
     "output_type": "stream",
     "text": [
      "Start Training...\n",
      "ensemble size: 1\n",
      "MLPnet(\n",
      "  (network): Sequential(\n",
      "    (0): LinearBlock(\n",
      "      (linear): Linear(in_features=300, out_features=100, bias=False)\n",
      "      (act_layer): ReLU()\n",
      "    )\n",
      "    (1): LinearBlock(\n",
      "      (linear): Linear(in_features=100, out_features=50, bias=False)\n",
      "      (act_layer): ReLU()\n",
      "    )\n",
      "    (2): LinearBlock(\n",
      "      (linear): Linear(in_features=50, out_features=1, bias=False)\n",
      "      (act_layer): Identity()\n",
      "    )\n",
      "  )\n",
      ")\n",
      "epoch1, training loss: 2.502380, time: 0.0s\n",
      "epoch10, training loss: 2.274353, time: 0.0s\n",
      "epoch20, training loss: 2.710418, time: 0.0s\n",
      "epoch30, training loss: 2.768438, time: 0.0s\n",
      "epoch40, training loss: 2.268364, time: 0.0s\n",
      "epoch50, training loss: 2.500000, time: 0.0s\n",
      "epoch60, training loss: 2.736339, time: 0.0s\n",
      "epoch70, training loss: 2.500000, time: 0.0s\n",
      "epoch80, training loss: 2.733182, time: 0.0s\n",
      "epoch90, training loss: 2.454918, time: 0.0s\n",
      "epoch100, training loss: 2.581043, time: 0.0s\n",
      "Start Inference on the training data...\n"
     ]
    }
   ],
   "source": [
    "clf = DevNet(epochs=100, batch_size=64, device='cpu')\n",
    "clf.fit(train_data, y=train_label)\n",
    "scores = clf.decision_function(test_data)"
   ]
  },
  {
   "cell_type": "code",
   "execution_count": 45,
   "id": "ddc14dcd",
   "metadata": {},
   "outputs": [],
   "source": [
    "true = test['y']\n",
    "pred = clf.predict(test_data)\n",
    "score = clf.decision_function(test_data)\n",
    "\n",
    "acc, auc, far, pre, rec, macro_f1, weight_f1, ap = evaluate(true, pred, score, adjust=False, plot=False, print_=False)\n",
    "# result_all.append(['multivariate', 'DeepSAD', rec, far, pre, rec, acc, auc, macro_f1, weight_f1, ap])"
   ]
  },
  {
   "cell_type": "code",
   "execution_count": 46,
   "id": "acdbc185",
   "metadata": {},
   "outputs": [
    {
     "name": "stdout",
     "output_type": "stream",
     "text": [
      "Accuracy \t0.7096\n",
      "AUC score \t0.4168\n",
      "FAR score \t0.8387\n",
      "Precision \t0.1613\n",
      "Recall   \t0.1466\n",
      "Macro F1 \t0.4892\n",
      "weighted F1 \t0.7041\n",
      "Avg Precision \t0.1600\n",
      "              precision    recall  f1-score   support\n",
      "\n",
      "           0       0.82      0.83      0.82      1401\n",
      "           1       0.16      0.15      0.15       307\n",
      "\n",
      "    accuracy                           0.71      1708\n",
      "   macro avg       0.49      0.49      0.49      1708\n",
      "weighted avg       0.70      0.71      0.70      1708\n",
      "\n"
     ]
    },
    {
     "data": {
      "text/plain": [
       "[0.7096018735362998,\n",
       " 0.4168148855982348,\n",
       " 0.8387096774193549,\n",
       " 0.16129032258064516,\n",
       " 0.1465798045602606,\n",
       " 0.4891593000397978,\n",
       " 0.7041006328429823,\n",
       " 0.1599993915209027]"
      ]
     },
     "execution_count": 46,
     "metadata": {},
     "output_type": "execute_result"
    }
   ],
   "source": [
    "evaluate(true, pred, scores, adjust=False, plot=False, print_=True)"
   ]
  },
  {
   "cell_type": "code",
   "execution_count": null,
   "id": "9f4d4972",
   "metadata": {},
   "outputs": [],
   "source": []
  },
  {
   "cell_type": "code",
   "execution_count": null,
   "id": "fed700f3",
   "metadata": {},
   "outputs": [],
   "source": []
  },
  {
   "cell_type": "code",
   "execution_count": null,
   "id": "531e2700",
   "metadata": {},
   "outputs": [],
   "source": []
  },
  {
   "cell_type": "code",
   "execution_count": null,
   "id": "384ca3d1",
   "metadata": {},
   "outputs": [],
   "source": []
  },
  {
   "attachments": {},
   "cell_type": "markdown",
   "id": "e2ecb27e",
   "metadata": {},
   "source": [
    "## Aggregation"
   ]
  },
  {
   "cell_type": "code",
   "execution_count": 2,
   "id": "fb954f43",
   "metadata": {},
   "outputs": [],
   "source": [
    "import pandas as pd\n",
    "import numpy as np"
   ]
  },
  {
   "cell_type": "code",
   "execution_count": 18,
   "id": "b8433e45",
   "metadata": {},
   "outputs": [],
   "source": [
    "out_1 = pd.read_csv('result/1210005301_mtsc_baselines.csv', index_col=0)\n",
    "out_2 = pd.read_csv('result/1030001902_mtsc_baselines.csv', index_col=0)\n",
    "out_3 = pd.read_csv('result/1220005401_mtsc_baselines.csv', index_col=0)\n",
    "out_4 = pd.read_csv('result/1210003000_mtsc_baselines.csv', index_col=0)\n",
    "out_5 = pd.read_csv('result/1130052300_mtsc_baselines.csv', index_col=0)"
   ]
  },
  {
   "cell_type": "code",
   "execution_count": 16,
   "id": "e5998ba9",
   "metadata": {},
   "outputs": [
    {
     "data": {
      "text/html": [
       "<div>\n",
       "<style scoped>\n",
       "    .dataframe tbody tr th:only-of-type {\n",
       "        vertical-align: middle;\n",
       "    }\n",
       "\n",
       "    .dataframe tbody tr th {\n",
       "        vertical-align: top;\n",
       "    }\n",
       "\n",
       "    .dataframe thead th {\n",
       "        text-align: right;\n",
       "    }\n",
       "</style>\n",
       "<table border=\"1\" class=\"dataframe\">\n",
       "  <thead>\n",
       "    <tr style=\"text-align: right;\">\n",
       "      <th></th>\n",
       "      <th>DR</th>\n",
       "      <th>far</th>\n",
       "      <th>precision</th>\n",
       "      <th>recall</th>\n",
       "      <th>acc</th>\n",
       "      <th>AUC</th>\n",
       "      <th>F1_macro</th>\n",
       "      <th>F1_weight</th>\n",
       "      <th>AP</th>\n",
       "    </tr>\n",
       "  </thead>\n",
       "  <tbody>\n",
       "    <tr>\n",
       "      <th>0</th>\n",
       "      <td>0.690554</td>\n",
       "      <td>0.000000</td>\n",
       "      <td>1.000000</td>\n",
       "      <td>0.690554</td>\n",
       "      <td>0.944379</td>\n",
       "      <td>0.958799</td>\n",
       "      <td>0.892082</td>\n",
       "      <td>0.940201</td>\n",
       "      <td>0.942162</td>\n",
       "    </tr>\n",
       "    <tr>\n",
       "      <th>1</th>\n",
       "      <td>0.680782</td>\n",
       "      <td>0.000000</td>\n",
       "      <td>1.000000</td>\n",
       "      <td>0.680782</td>\n",
       "      <td>0.942623</td>\n",
       "      <td>0.992332</td>\n",
       "      <td>0.888142</td>\n",
       "      <td>0.938144</td>\n",
       "      <td>0.976130</td>\n",
       "    </tr>\n",
       "    <tr>\n",
       "      <th>2</th>\n",
       "      <td>0.592834</td>\n",
       "      <td>0.000000</td>\n",
       "      <td>1.000000</td>\n",
       "      <td>0.592834</td>\n",
       "      <td>0.926815</td>\n",
       "      <td>0.815961</td>\n",
       "      <td>0.850835</td>\n",
       "      <td>0.919024</td>\n",
       "      <td>0.698081</td>\n",
       "    </tr>\n",
       "    <tr>\n",
       "      <th>3</th>\n",
       "      <td>0.625407</td>\n",
       "      <td>0.000000</td>\n",
       "      <td>1.000000</td>\n",
       "      <td>0.625407</td>\n",
       "      <td>0.932670</td>\n",
       "      <td>0.991200</td>\n",
       "      <td>0.865058</td>\n",
       "      <td>0.926239</td>\n",
       "      <td>0.970127</td>\n",
       "    </tr>\n",
       "    <tr>\n",
       "      <th>4</th>\n",
       "      <td>0.729642</td>\n",
       "      <td>0.021834</td>\n",
       "      <td>0.978166</td>\n",
       "      <td>0.729642</td>\n",
       "      <td>0.948478</td>\n",
       "      <td>0.943770</td>\n",
       "      <td>0.902633</td>\n",
       "      <td>0.945427</td>\n",
       "      <td>0.927116</td>\n",
       "    </tr>\n",
       "    <tr>\n",
       "      <th>5</th>\n",
       "      <td>0.986971</td>\n",
       "      <td>0.716292</td>\n",
       "      <td>0.283708</td>\n",
       "      <td>0.986971</td>\n",
       "      <td>0.549766</td>\n",
       "      <td>0.957701</td>\n",
       "      <td>0.531976</td>\n",
       "      <td>0.590422</td>\n",
       "      <td>0.896441</td>\n",
       "    </tr>\n",
       "  </tbody>\n",
       "</table>\n",
       "</div>"
      ],
      "text/plain": [
       "         DR       far  precision    recall       acc       AUC  F1_macro  \\\n",
       "0  0.690554  0.000000   1.000000  0.690554  0.944379  0.958799  0.892082   \n",
       "1  0.680782  0.000000   1.000000  0.680782  0.942623  0.992332  0.888142   \n",
       "2  0.592834  0.000000   1.000000  0.592834  0.926815  0.815961  0.850835   \n",
       "3  0.625407  0.000000   1.000000  0.625407  0.932670  0.991200  0.865058   \n",
       "4  0.729642  0.021834   0.978166  0.729642  0.948478  0.943770  0.902633   \n",
       "5  0.986971  0.716292   0.283708  0.986971  0.549766  0.957701  0.531976   \n",
       "\n",
       "   F1_weight        AP  \n",
       "0   0.940201  0.942162  \n",
       "1   0.938144  0.976130  \n",
       "2   0.919024  0.698081  \n",
       "3   0.926239  0.970127  \n",
       "4   0.945427  0.927116  \n",
       "5   0.590422  0.896441  "
      ]
     },
     "execution_count": 16,
     "metadata": {},
     "output_type": "execute_result"
    }
   ],
   "source": [
    "out_1.iloc[:, 2:]"
   ]
  },
  {
   "cell_type": "code",
   "execution_count": 19,
   "id": "0a46fc27",
   "metadata": {},
   "outputs": [
    {
     "data": {
      "text/html": [
       "<div>\n",
       "<style scoped>\n",
       "    .dataframe tbody tr th:only-of-type {\n",
       "        vertical-align: middle;\n",
       "    }\n",
       "\n",
       "    .dataframe tbody tr th {\n",
       "        vertical-align: top;\n",
       "    }\n",
       "\n",
       "    .dataframe thead th {\n",
       "        text-align: right;\n",
       "    }\n",
       "</style>\n",
       "<table border=\"1\" class=\"dataframe\">\n",
       "  <thead>\n",
       "    <tr style=\"text-align: right;\">\n",
       "      <th></th>\n",
       "      <th>Method</th>\n",
       "      <th>model</th>\n",
       "      <th>DR</th>\n",
       "      <th>far</th>\n",
       "      <th>precision</th>\n",
       "      <th>recall</th>\n",
       "      <th>acc</th>\n",
       "      <th>AUC</th>\n",
       "      <th>F1_macro</th>\n",
       "      <th>F1_weight</th>\n",
       "      <th>AP</th>\n",
       "    </tr>\n",
       "  </thead>\n",
       "  <tbody>\n",
       "    <tr>\n",
       "      <th>0</th>\n",
       "      <td>multivariate</td>\n",
       "      <td>SVM</td>\n",
       "      <td>0.339962</td>\n",
       "      <td>0.000000</td>\n",
       "      <td>0.800000</td>\n",
       "      <td>0.339962</td>\n",
       "      <td>0.929613</td>\n",
       "      <td>0.843140</td>\n",
       "      <td>0.699147</td>\n",
       "      <td>0.911301</td>\n",
       "      <td>0.662628</td>\n",
       "    </tr>\n",
       "    <tr>\n",
       "      <th>1</th>\n",
       "      <td>multivariate</td>\n",
       "      <td>MLP</td>\n",
       "      <td>0.329005</td>\n",
       "      <td>0.250000</td>\n",
       "      <td>0.600000</td>\n",
       "      <td>0.329005</td>\n",
       "      <td>0.928172</td>\n",
       "      <td>0.856394</td>\n",
       "      <td>0.691295</td>\n",
       "      <td>0.909237</td>\n",
       "      <td>0.593292</td>\n",
       "    </tr>\n",
       "    <tr>\n",
       "      <th>2</th>\n",
       "      <td>multivariate</td>\n",
       "      <td>Time-MLP</td>\n",
       "      <td>0.289301</td>\n",
       "      <td>0.000000</td>\n",
       "      <td>0.800000</td>\n",
       "      <td>0.289301</td>\n",
       "      <td>0.919858</td>\n",
       "      <td>0.670645</td>\n",
       "      <td>0.679028</td>\n",
       "      <td>0.899044</td>\n",
       "      <td>0.386633</td>\n",
       "    </tr>\n",
       "    <tr>\n",
       "      <th>3</th>\n",
       "      <td>multivariate</td>\n",
       "      <td>Time-CNN</td>\n",
       "      <td>0.315178</td>\n",
       "      <td>0.283333</td>\n",
       "      <td>0.716667</td>\n",
       "      <td>0.315178</td>\n",
       "      <td>0.924061</td>\n",
       "      <td>0.818077</td>\n",
       "      <td>0.688512</td>\n",
       "      <td>0.905131</td>\n",
       "      <td>0.571452</td>\n",
       "    </tr>\n",
       "    <tr>\n",
       "      <th>4</th>\n",
       "      <td>multivariate</td>\n",
       "      <td>LSTM-FCN</td>\n",
       "      <td>0.378245</td>\n",
       "      <td>0.161777</td>\n",
       "      <td>0.838223</td>\n",
       "      <td>0.378245</td>\n",
       "      <td>0.929401</td>\n",
       "      <td>0.737062</td>\n",
       "      <td>0.723595</td>\n",
       "      <td>0.914765</td>\n",
       "      <td>0.554939</td>\n",
       "    </tr>\n",
       "    <tr>\n",
       "      <th>5</th>\n",
       "      <td>multivariate</td>\n",
       "      <td>DeepSAD</td>\n",
       "      <td>0.819796</td>\n",
       "      <td>0.732564</td>\n",
       "      <td>0.267436</td>\n",
       "      <td>0.819796</td>\n",
       "      <td>0.677508</td>\n",
       "      <td>0.849075</td>\n",
       "      <td>0.578198</td>\n",
       "      <td>0.729122</td>\n",
       "      <td>0.654411</td>\n",
       "    </tr>\n",
       "  </tbody>\n",
       "</table>\n",
       "</div>"
      ],
      "text/plain": [
       "         Method     model        DR       far  precision    recall       acc  \\\n",
       "0  multivariate       SVM  0.339962  0.000000   0.800000  0.339962  0.929613   \n",
       "1  multivariate       MLP  0.329005  0.250000   0.600000  0.329005  0.928172   \n",
       "2  multivariate  Time-MLP  0.289301  0.000000   0.800000  0.289301  0.919858   \n",
       "3  multivariate  Time-CNN  0.315178  0.283333   0.716667  0.315178  0.924061   \n",
       "4  multivariate  LSTM-FCN  0.378245  0.161777   0.838223  0.378245  0.929401   \n",
       "5  multivariate   DeepSAD  0.819796  0.732564   0.267436  0.819796  0.677508   \n",
       "\n",
       "        AUC  F1_macro  F1_weight        AP  \n",
       "0  0.843140  0.699147   0.911301  0.662628  \n",
       "1  0.856394  0.691295   0.909237  0.593292  \n",
       "2  0.670645  0.679028   0.899044  0.386633  \n",
       "3  0.818077  0.688512   0.905131  0.571452  \n",
       "4  0.737062  0.723595   0.914765  0.554939  \n",
       "5  0.849075  0.578198   0.729122  0.654411  "
      ]
     },
     "execution_count": 19,
     "metadata": {},
     "output_type": "execute_result"
    }
   ],
   "source": [
    "tmp = np.nanmean([out_1.iloc[:, 2:], out_2.iloc[:, 2:], out_3.iloc[:,2:], out_4.iloc[:,2:], out_5.iloc[:,2:]], axis=0)  \n",
    "tmp = pd.DataFrame(tmp, columns=out_1.columns[2:], index=out_1.index)\n",
    "out_all = pd.concat([out_1.iloc[:, :2], tmp], axis=1)\n",
    "out_all"
   ]
  },
  {
   "cell_type": "code",
   "execution_count": 20,
   "id": "045fca5b",
   "metadata": {},
   "outputs": [
    {
     "data": {
      "text/html": [
       "<div>\n",
       "<style scoped>\n",
       "    .dataframe tbody tr th:only-of-type {\n",
       "        vertical-align: middle;\n",
       "    }\n",
       "\n",
       "    .dataframe tbody tr th {\n",
       "        vertical-align: top;\n",
       "    }\n",
       "\n",
       "    .dataframe thead th {\n",
       "        text-align: right;\n",
       "    }\n",
       "</style>\n",
       "<table border=\"1\" class=\"dataframe\">\n",
       "  <thead>\n",
       "    <tr style=\"text-align: right;\">\n",
       "      <th></th>\n",
       "      <th>Method</th>\n",
       "      <th>model</th>\n",
       "      <th>DR</th>\n",
       "      <th>far</th>\n",
       "      <th>precision</th>\n",
       "      <th>recall</th>\n",
       "      <th>acc</th>\n",
       "      <th>AUC</th>\n",
       "      <th>F1_macro</th>\n",
       "      <th>F1_weight</th>\n",
       "      <th>AP</th>\n",
       "    </tr>\n",
       "  </thead>\n",
       "  <tbody>\n",
       "    <tr>\n",
       "      <th>0</th>\n",
       "      <td>multivariate</td>\n",
       "      <td>SVM</td>\n",
       "      <td>0.276877</td>\n",
       "      <td>0.000000</td>\n",
       "      <td>0.400000</td>\n",
       "      <td>0.276877</td>\n",
       "      <td>0.013458</td>\n",
       "      <td>0.106397</td>\n",
       "      <td>0.169773</td>\n",
       "      <td>0.020444</td>\n",
       "      <td>0.264743</td>\n",
       "    </tr>\n",
       "    <tr>\n",
       "      <th>1</th>\n",
       "      <td>multivariate</td>\n",
       "      <td>MLP</td>\n",
       "      <td>0.278264</td>\n",
       "      <td>0.433013</td>\n",
       "      <td>0.489898</td>\n",
       "      <td>0.278264</td>\n",
       "      <td>0.013405</td>\n",
       "      <td>0.146703</td>\n",
       "      <td>0.173595</td>\n",
       "      <td>0.019986</td>\n",
       "      <td>0.360949</td>\n",
       "    </tr>\n",
       "    <tr>\n",
       "      <th>2</th>\n",
       "      <td>multivariate</td>\n",
       "      <td>Time-MLP</td>\n",
       "      <td>0.218463</td>\n",
       "      <td>0.000000</td>\n",
       "      <td>0.400000</td>\n",
       "      <td>0.218463</td>\n",
       "      <td>0.020743</td>\n",
       "      <td>0.117476</td>\n",
       "      <td>0.134950</td>\n",
       "      <td>0.023476</td>\n",
       "      <td>0.237696</td>\n",
       "    </tr>\n",
       "    <tr>\n",
       "      <th>3</th>\n",
       "      <td>multivariate</td>\n",
       "      <td>Time-CNN</td>\n",
       "      <td>0.250528</td>\n",
       "      <td>0.392994</td>\n",
       "      <td>0.392994</td>\n",
       "      <td>0.250528</td>\n",
       "      <td>0.015900</td>\n",
       "      <td>0.147241</td>\n",
       "      <td>0.155945</td>\n",
       "      <td>0.019700</td>\n",
       "      <td>0.363340</td>\n",
       "    </tr>\n",
       "    <tr>\n",
       "      <th>4</th>\n",
       "      <td>multivariate</td>\n",
       "      <td>LSTM-FCN</td>\n",
       "      <td>0.254022</td>\n",
       "      <td>0.243837</td>\n",
       "      <td>0.243837</td>\n",
       "      <td>0.254022</td>\n",
       "      <td>0.017719</td>\n",
       "      <td>0.152073</td>\n",
       "      <td>0.141238</td>\n",
       "      <td>0.019059</td>\n",
       "      <td>0.282848</td>\n",
       "    </tr>\n",
       "    <tr>\n",
       "      <th>5</th>\n",
       "      <td>multivariate</td>\n",
       "      <td>DeepSAD</td>\n",
       "      <td>0.130932</td>\n",
       "      <td>0.129415</td>\n",
       "      <td>0.129415</td>\n",
       "      <td>0.130932</td>\n",
       "      <td>0.098699</td>\n",
       "      <td>0.084181</td>\n",
       "      <td>0.088299</td>\n",
       "      <td>0.092830</td>\n",
       "      <td>0.151418</td>\n",
       "    </tr>\n",
       "  </tbody>\n",
       "</table>\n",
       "</div>"
      ],
      "text/plain": [
       "         Method     model        DR       far  precision    recall       acc  \\\n",
       "0  multivariate       SVM  0.276877  0.000000   0.400000  0.276877  0.013458   \n",
       "1  multivariate       MLP  0.278264  0.433013   0.489898  0.278264  0.013405   \n",
       "2  multivariate  Time-MLP  0.218463  0.000000   0.400000  0.218463  0.020743   \n",
       "3  multivariate  Time-CNN  0.250528  0.392994   0.392994  0.250528  0.015900   \n",
       "4  multivariate  LSTM-FCN  0.254022  0.243837   0.243837  0.254022  0.017719   \n",
       "5  multivariate   DeepSAD  0.130932  0.129415   0.129415  0.130932  0.098699   \n",
       "\n",
       "        AUC  F1_macro  F1_weight        AP  \n",
       "0  0.106397  0.169773   0.020444  0.264743  \n",
       "1  0.146703  0.173595   0.019986  0.360949  \n",
       "2  0.117476  0.134950   0.023476  0.237696  \n",
       "3  0.147241  0.155945   0.019700  0.363340  \n",
       "4  0.152073  0.141238   0.019059  0.282848  \n",
       "5  0.084181  0.088299   0.092830  0.151418  "
      ]
     },
     "execution_count": 20,
     "metadata": {},
     "output_type": "execute_result"
    }
   ],
   "source": [
    "tmp = np.nanstd([out_1.iloc[:, 2:], out_2.iloc[:, 2:], out_3.iloc[:,2:], out_4.iloc[:,2:], out_5.iloc[:,2:]], axis=0)  \n",
    "tmp = pd.DataFrame(tmp, columns=out_1.columns[2:], index=out_1.index)\n",
    "out_all = pd.concat([out_1.iloc[:, :2], tmp], axis=1)\n",
    "out_all"
   ]
  },
  {
   "cell_type": "code",
   "execution_count": null,
   "id": "bb9efedd",
   "metadata": {},
   "outputs": [],
   "source": []
  }
 ],
 "metadata": {
  "kernelspec": {
   "display_name": "AID",
   "language": "python",
   "name": "python3"
  },
  "language_info": {
   "codemirror_mode": {
    "name": "ipython",
    "version": 3
   },
   "file_extension": ".py",
   "mimetype": "text/x-python",
   "name": "python",
   "nbconvert_exporter": "python",
   "pygments_lexer": "ipython3",
   "version": "3.9.0"
  }
 },
 "nbformat": 4,
 "nbformat_minor": 5
}
